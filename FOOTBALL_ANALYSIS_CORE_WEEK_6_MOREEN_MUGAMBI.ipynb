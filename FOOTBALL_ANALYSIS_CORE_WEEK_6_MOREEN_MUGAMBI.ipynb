{
  "nbformat": 4,
  "nbformat_minor": 0,
  "metadata": {
    "colab": {
      "name": "FOOTBALL_ANALYSIS_CORE_WEEK_6_MOREEN_MUGAMBI.ipynb",
      "provenance": [],
      "collapsed_sections": [
        "SMowHU0wB_7y"
      ],
      "toc_visible": true,
      "authorship_tag": "ABX9TyMwaWFSCluhJAGwP+cDUQsX",
      "include_colab_link": true
    },
    "kernelspec": {
      "display_name": "Python 3",
      "name": "python3"
    },
    "language_info": {
      "name": "python"
    }
  },
  "cells": [
    {
      "cell_type": "markdown",
      "metadata": {
        "id": "view-in-github",
        "colab_type": "text"
      },
      "source": [
        "<a href=\"https://colab.research.google.com/github/MoreenMarutaData/WEEK-6-CORE-IP-ON-REGRESSION/blob/main/FOOTBALL_ANALYSIS_CORE_WEEK_6_MOREEN_MUGAMBI.ipynb\" target=\"_parent\"><img src=\"https://colab.research.google.com/assets/colab-badge.svg\" alt=\"Open In Colab\"/></a>"
      ]
    },
    {
      "cell_type": "markdown",
      "metadata": {
        "id": "7QT57s6HENOQ"
      },
      "source": [
        "#**A FOOTBALL ANALYSIS FOR MCHEZO PESA COMPANY**"
      ]
    },
    {
      "cell_type": "markdown",
      "metadata": {
        "id": "UxM1p_J0ENLG"
      },
      "source": [
        "## DEFINING THE QUESTION"
      ]
    },
    {
      "cell_type": "markdown",
      "metadata": {
        "id": "yJr9UrK0ENG9"
      },
      "source": [
        "My research and analysis problem is coming up and figuring out which models would work best to predict future football matches and what conitions favour the specific findings."
      ]
    },
    {
      "cell_type": "markdown",
      "metadata": {
        "id": "1pqN0O9AENAz"
      },
      "source": [
        "## METRIC FOR SUCCESS"
      ]
    },
    {
      "cell_type": "markdown",
      "metadata": {
        "id": "IVyCT2CCEM5c"
      },
      "source": [
        "Using polynomial and logistic approach to predict various factors."
      ]
    },
    {
      "cell_type": "markdown",
      "metadata": {
        "id": "5TPrweWxEMxd"
      },
      "source": [
        "##EXPERIMENTAL DESIGN TAKEN"
      ]
    },
    {
      "cell_type": "markdown",
      "metadata": {
        "id": "iSsQ5ZEAaOCE"
      },
      "source": [
        "\n",
        "\n",
        "1.   Polynomial approach\n",
        "\n",
        "Model 1: Predict how many goals the home team scores.\n",
        "\n",
        "Model 2: Predict how many goals the away team scores.\n",
        "\n",
        "\n",
        "2.   Logistic approach\n",
        "\n",
        "Figuring out from the home team’s perspective if the game is a Win, Lose or Draw \n",
        "\n"
      ]
    },
    {
      "cell_type": "markdown",
      "metadata": {
        "id": "_uM5I0GwEMov"
      },
      "source": [
        "##APPROPRIATENESS OF THE DATA"
      ]
    },
    {
      "cell_type": "markdown",
      "metadata": {
        "id": "10BZY2BtbI1I"
      },
      "source": [
        "Data to be used contains information on football matches since 1872 to 2019.  The data is extracted from the Moringa Website. The data files include:\n",
        "\n",
        "Fifa rankings dataset and Results of football matches across the world: https://drive.google.com/open?id=1BYUqaEEnFtAe5lvzJh9lpVpR2MAvERUc\n",
        "\n",
        "This data is relevant in this project since it provides important insights that will help in solving the research question by creating appropriate models."
      ]
    },
    {
      "cell_type": "markdown",
      "metadata": {
        "id": "cztwuY8GEOkv"
      },
      "source": [
        "## **READING AND CHECKING THE DATA**"
      ]
    },
    {
      "cell_type": "markdown",
      "metadata": {
        "id": "eSVvgsKYEnHm"
      },
      "source": [
        "### IMPORT LIBRARIES"
      ]
    },
    {
      "cell_type": "code",
      "metadata": {
        "id": "afnRyf0rDraS"
      },
      "source": [
        "#importing libraries\n",
        "import pandas as pd\n",
        "import numpy as np\n",
        "from sklearn.linear_model import LogisticRegression\n",
        "from sklearn.model_selection import train_test_split\n",
        "from sklearn.model_selection import KFold\n",
        "from sklearn.linear_model import LinearRegression\n",
        "from sklearn import metrics\n",
        "import matplotlib.pyplot as plt\n",
        "import seaborn as sns\n",
        "import requests"
      ],
      "execution_count": 1,
      "outputs": []
    },
    {
      "cell_type": "markdown",
      "metadata": {
        "id": "wNcXFNjKEsdg"
      },
      "source": [
        "### LOAD, READ AND CLEAN DATA SETS"
      ]
    },
    {
      "cell_type": "markdown",
      "metadata": {
        "id": "oe8u79kbRrVn"
      },
      "source": [
        "#### FIFA RANKING DATASET"
      ]
    },
    {
      "cell_type": "markdown",
      "metadata": {
        "id": "cbhx72h1Bcfu"
      },
      "source": [
        "##### PREVIEW DATASET"
      ]
    },
    {
      "cell_type": "code",
      "metadata": {
        "colab": {
          "base_uri": "https://localhost:8080/",
          "height": 301
        },
        "id": "tdetigN9EwN6",
        "outputId": "2ef402fc-2236-47f5-90a4-9528f10afdf2"
      },
      "source": [
        "url =\"https://drive.google.com/file/d/1Zv4PwDdS1TI81NV7nYgwhYK_3m5UjlWC/view?usp=sharing\"\n",
        "url2 = 'https://drive.google.com/uc?id=' + url.split('/')[-2]\n",
        "ranking = pd.read_csv(url2)\n",
        "ranking.head()"
      ],
      "execution_count": 2,
      "outputs": [
        {
          "output_type": "execute_result",
          "data": {
            "text/html": [
              "<div>\n",
              "<style scoped>\n",
              "    .dataframe tbody tr th:only-of-type {\n",
              "        vertical-align: middle;\n",
              "    }\n",
              "\n",
              "    .dataframe tbody tr th {\n",
              "        vertical-align: top;\n",
              "    }\n",
              "\n",
              "    .dataframe thead th {\n",
              "        text-align: right;\n",
              "    }\n",
              "</style>\n",
              "<table border=\"1\" class=\"dataframe\">\n",
              "  <thead>\n",
              "    <tr style=\"text-align: right;\">\n",
              "      <th></th>\n",
              "      <th>rank</th>\n",
              "      <th>country_full</th>\n",
              "      <th>country_abrv</th>\n",
              "      <th>total_points</th>\n",
              "      <th>previous_points</th>\n",
              "      <th>rank_change</th>\n",
              "      <th>cur_year_avg</th>\n",
              "      <th>cur_year_avg_weighted</th>\n",
              "      <th>last_year_avg</th>\n",
              "      <th>last_year_avg_weighted</th>\n",
              "      <th>two_year_ago_avg</th>\n",
              "      <th>two_year_ago_weighted</th>\n",
              "      <th>three_year_ago_avg</th>\n",
              "      <th>three_year_ago_weighted</th>\n",
              "      <th>confederation</th>\n",
              "      <th>rank_date</th>\n",
              "    </tr>\n",
              "  </thead>\n",
              "  <tbody>\n",
              "    <tr>\n",
              "      <th>0</th>\n",
              "      <td>1</td>\n",
              "      <td>Germany</td>\n",
              "      <td>GER</td>\n",
              "      <td>0.0</td>\n",
              "      <td>57</td>\n",
              "      <td>0</td>\n",
              "      <td>0.0</td>\n",
              "      <td>0.0</td>\n",
              "      <td>0.0</td>\n",
              "      <td>0.0</td>\n",
              "      <td>0.0</td>\n",
              "      <td>0.0</td>\n",
              "      <td>0.0</td>\n",
              "      <td>0.0</td>\n",
              "      <td>UEFA</td>\n",
              "      <td>1993-08-08</td>\n",
              "    </tr>\n",
              "    <tr>\n",
              "      <th>1</th>\n",
              "      <td>2</td>\n",
              "      <td>Italy</td>\n",
              "      <td>ITA</td>\n",
              "      <td>0.0</td>\n",
              "      <td>57</td>\n",
              "      <td>0</td>\n",
              "      <td>0.0</td>\n",
              "      <td>0.0</td>\n",
              "      <td>0.0</td>\n",
              "      <td>0.0</td>\n",
              "      <td>0.0</td>\n",
              "      <td>0.0</td>\n",
              "      <td>0.0</td>\n",
              "      <td>0.0</td>\n",
              "      <td>UEFA</td>\n",
              "      <td>1993-08-08</td>\n",
              "    </tr>\n",
              "    <tr>\n",
              "      <th>2</th>\n",
              "      <td>3</td>\n",
              "      <td>Switzerland</td>\n",
              "      <td>SUI</td>\n",
              "      <td>0.0</td>\n",
              "      <td>50</td>\n",
              "      <td>9</td>\n",
              "      <td>0.0</td>\n",
              "      <td>0.0</td>\n",
              "      <td>0.0</td>\n",
              "      <td>0.0</td>\n",
              "      <td>0.0</td>\n",
              "      <td>0.0</td>\n",
              "      <td>0.0</td>\n",
              "      <td>0.0</td>\n",
              "      <td>UEFA</td>\n",
              "      <td>1993-08-08</td>\n",
              "    </tr>\n",
              "    <tr>\n",
              "      <th>3</th>\n",
              "      <td>4</td>\n",
              "      <td>Sweden</td>\n",
              "      <td>SWE</td>\n",
              "      <td>0.0</td>\n",
              "      <td>55</td>\n",
              "      <td>0</td>\n",
              "      <td>0.0</td>\n",
              "      <td>0.0</td>\n",
              "      <td>0.0</td>\n",
              "      <td>0.0</td>\n",
              "      <td>0.0</td>\n",
              "      <td>0.0</td>\n",
              "      <td>0.0</td>\n",
              "      <td>0.0</td>\n",
              "      <td>UEFA</td>\n",
              "      <td>1993-08-08</td>\n",
              "    </tr>\n",
              "    <tr>\n",
              "      <th>4</th>\n",
              "      <td>5</td>\n",
              "      <td>Argentina</td>\n",
              "      <td>ARG</td>\n",
              "      <td>0.0</td>\n",
              "      <td>51</td>\n",
              "      <td>5</td>\n",
              "      <td>0.0</td>\n",
              "      <td>0.0</td>\n",
              "      <td>0.0</td>\n",
              "      <td>0.0</td>\n",
              "      <td>0.0</td>\n",
              "      <td>0.0</td>\n",
              "      <td>0.0</td>\n",
              "      <td>0.0</td>\n",
              "      <td>CONMEBOL</td>\n",
              "      <td>1993-08-08</td>\n",
              "    </tr>\n",
              "  </tbody>\n",
              "</table>\n",
              "</div>"
            ],
            "text/plain": [
              "   rank country_full  ... confederation   rank_date\n",
              "0     1      Germany  ...          UEFA  1993-08-08\n",
              "1     2        Italy  ...          UEFA  1993-08-08\n",
              "2     3  Switzerland  ...          UEFA  1993-08-08\n",
              "3     4       Sweden  ...          UEFA  1993-08-08\n",
              "4     5    Argentina  ...      CONMEBOL  1993-08-08\n",
              "\n",
              "[5 rows x 16 columns]"
            ]
          },
          "metadata": {},
          "execution_count": 2
        }
      ]
    },
    {
      "cell_type": "code",
      "metadata": {
        "colab": {
          "base_uri": "https://localhost:8080/",
          "height": 301
        },
        "id": "zRdndtnqXpoQ",
        "outputId": "2a79000b-40f8-48d4-9476-0aad49a57aa3"
      },
      "source": [
        "ranking.tail()"
      ],
      "execution_count": 3,
      "outputs": [
        {
          "output_type": "execute_result",
          "data": {
            "text/html": [
              "<div>\n",
              "<style scoped>\n",
              "    .dataframe tbody tr th:only-of-type {\n",
              "        vertical-align: middle;\n",
              "    }\n",
              "\n",
              "    .dataframe tbody tr th {\n",
              "        vertical-align: top;\n",
              "    }\n",
              "\n",
              "    .dataframe thead th {\n",
              "        text-align: right;\n",
              "    }\n",
              "</style>\n",
              "<table border=\"1\" class=\"dataframe\">\n",
              "  <thead>\n",
              "    <tr style=\"text-align: right;\">\n",
              "      <th></th>\n",
              "      <th>rank</th>\n",
              "      <th>country_full</th>\n",
              "      <th>country_abrv</th>\n",
              "      <th>total_points</th>\n",
              "      <th>previous_points</th>\n",
              "      <th>rank_change</th>\n",
              "      <th>cur_year_avg</th>\n",
              "      <th>cur_year_avg_weighted</th>\n",
              "      <th>last_year_avg</th>\n",
              "      <th>last_year_avg_weighted</th>\n",
              "      <th>two_year_ago_avg</th>\n",
              "      <th>two_year_ago_weighted</th>\n",
              "      <th>three_year_ago_avg</th>\n",
              "      <th>three_year_ago_weighted</th>\n",
              "      <th>confederation</th>\n",
              "      <th>rank_date</th>\n",
              "    </tr>\n",
              "  </thead>\n",
              "  <tbody>\n",
              "    <tr>\n",
              "      <th>57788</th>\n",
              "      <td>206</td>\n",
              "      <td>Anguilla</td>\n",
              "      <td>AIA</td>\n",
              "      <td>0.0</td>\n",
              "      <td>0</td>\n",
              "      <td>1</td>\n",
              "      <td>0.0</td>\n",
              "      <td>0.0</td>\n",
              "      <td>0.0</td>\n",
              "      <td>0.0</td>\n",
              "      <td>0.0</td>\n",
              "      <td>0.0</td>\n",
              "      <td>0.0</td>\n",
              "      <td>0.0</td>\n",
              "      <td>CONCACAF</td>\n",
              "      <td>2018-06-07</td>\n",
              "    </tr>\n",
              "    <tr>\n",
              "      <th>57789</th>\n",
              "      <td>206</td>\n",
              "      <td>Bahamas</td>\n",
              "      <td>BAH</td>\n",
              "      <td>0.0</td>\n",
              "      <td>0</td>\n",
              "      <td>1</td>\n",
              "      <td>0.0</td>\n",
              "      <td>0.0</td>\n",
              "      <td>0.0</td>\n",
              "      <td>0.0</td>\n",
              "      <td>0.0</td>\n",
              "      <td>0.0</td>\n",
              "      <td>0.0</td>\n",
              "      <td>0.0</td>\n",
              "      <td>CONCACAF</td>\n",
              "      <td>2018-06-07</td>\n",
              "    </tr>\n",
              "    <tr>\n",
              "      <th>57790</th>\n",
              "      <td>206</td>\n",
              "      <td>Eritrea</td>\n",
              "      <td>ERI</td>\n",
              "      <td>0.0</td>\n",
              "      <td>0</td>\n",
              "      <td>1</td>\n",
              "      <td>0.0</td>\n",
              "      <td>0.0</td>\n",
              "      <td>0.0</td>\n",
              "      <td>0.0</td>\n",
              "      <td>0.0</td>\n",
              "      <td>0.0</td>\n",
              "      <td>0.0</td>\n",
              "      <td>0.0</td>\n",
              "      <td>CAF</td>\n",
              "      <td>2018-06-07</td>\n",
              "    </tr>\n",
              "    <tr>\n",
              "      <th>57791</th>\n",
              "      <td>206</td>\n",
              "      <td>Somalia</td>\n",
              "      <td>SOM</td>\n",
              "      <td>0.0</td>\n",
              "      <td>0</td>\n",
              "      <td>1</td>\n",
              "      <td>0.0</td>\n",
              "      <td>0.0</td>\n",
              "      <td>0.0</td>\n",
              "      <td>0.0</td>\n",
              "      <td>0.0</td>\n",
              "      <td>0.0</td>\n",
              "      <td>0.0</td>\n",
              "      <td>0.0</td>\n",
              "      <td>CAF</td>\n",
              "      <td>2018-06-07</td>\n",
              "    </tr>\n",
              "    <tr>\n",
              "      <th>57792</th>\n",
              "      <td>206</td>\n",
              "      <td>Tonga</td>\n",
              "      <td>TGA</td>\n",
              "      <td>0.0</td>\n",
              "      <td>0</td>\n",
              "      <td>1</td>\n",
              "      <td>0.0</td>\n",
              "      <td>0.0</td>\n",
              "      <td>0.0</td>\n",
              "      <td>0.0</td>\n",
              "      <td>0.0</td>\n",
              "      <td>0.0</td>\n",
              "      <td>0.0</td>\n",
              "      <td>0.0</td>\n",
              "      <td>OFC</td>\n",
              "      <td>2018-06-07</td>\n",
              "    </tr>\n",
              "  </tbody>\n",
              "</table>\n",
              "</div>"
            ],
            "text/plain": [
              "       rank country_full  ... confederation   rank_date\n",
              "57788   206     Anguilla  ...      CONCACAF  2018-06-07\n",
              "57789   206      Bahamas  ...      CONCACAF  2018-06-07\n",
              "57790   206      Eritrea  ...           CAF  2018-06-07\n",
              "57791   206      Somalia  ...           CAF  2018-06-07\n",
              "57792   206        Tonga  ...           OFC  2018-06-07\n",
              "\n",
              "[5 rows x 16 columns]"
            ]
          },
          "metadata": {},
          "execution_count": 3
        }
      ]
    },
    {
      "cell_type": "code",
      "metadata": {
        "colab": {
          "base_uri": "https://localhost:8080/"
        },
        "id": "BmAMB7fBXt6q",
        "outputId": "25bb1755-96e6-4a1d-e2b3-242112f3aa30"
      },
      "source": [
        "ranking.shape"
      ],
      "execution_count": 4,
      "outputs": [
        {
          "output_type": "execute_result",
          "data": {
            "text/plain": [
              "(57793, 16)"
            ]
          },
          "metadata": {},
          "execution_count": 4
        }
      ]
    },
    {
      "cell_type": "code",
      "metadata": {
        "colab": {
          "base_uri": "https://localhost:8080/"
        },
        "id": "U_gssizpXwsS",
        "outputId": "2a7ee1de-4c66-4559-b032-f678e3f09a1b"
      },
      "source": [
        "ranking.info()"
      ],
      "execution_count": 5,
      "outputs": [
        {
          "output_type": "stream",
          "name": "stdout",
          "text": [
            "<class 'pandas.core.frame.DataFrame'>\n",
            "RangeIndex: 57793 entries, 0 to 57792\n",
            "Data columns (total 16 columns):\n",
            " #   Column                   Non-Null Count  Dtype  \n",
            "---  ------                   --------------  -----  \n",
            " 0   rank                     57793 non-null  int64  \n",
            " 1   country_full             57793 non-null  object \n",
            " 2   country_abrv             57793 non-null  object \n",
            " 3   total_points             57793 non-null  float64\n",
            " 4   previous_points          57793 non-null  int64  \n",
            " 5   rank_change              57793 non-null  int64  \n",
            " 6   cur_year_avg             57793 non-null  float64\n",
            " 7   cur_year_avg_weighted    57793 non-null  float64\n",
            " 8   last_year_avg            57793 non-null  float64\n",
            " 9   last_year_avg_weighted   57793 non-null  float64\n",
            " 10  two_year_ago_avg         57793 non-null  float64\n",
            " 11  two_year_ago_weighted    57793 non-null  float64\n",
            " 12  three_year_ago_avg       57793 non-null  float64\n",
            " 13  three_year_ago_weighted  57793 non-null  float64\n",
            " 14  confederation            57793 non-null  object \n",
            " 15  rank_date                57793 non-null  object \n",
            "dtypes: float64(9), int64(3), object(4)\n",
            "memory usage: 7.1+ MB\n"
          ]
        }
      ]
    },
    {
      "cell_type": "code",
      "metadata": {
        "colab": {
          "base_uri": "https://localhost:8080/"
        },
        "id": "NQPvsBLJX64J",
        "outputId": "9a2d136d-bc5f-4aa6-de8f-9278e55b6366"
      },
      "source": [
        "ranking.columns"
      ],
      "execution_count": 6,
      "outputs": [
        {
          "output_type": "execute_result",
          "data": {
            "text/plain": [
              "Index(['rank', 'country_full', 'country_abrv', 'total_points',\n",
              "       'previous_points', 'rank_change', 'cur_year_avg',\n",
              "       'cur_year_avg_weighted', 'last_year_avg', 'last_year_avg_weighted',\n",
              "       'two_year_ago_avg', 'two_year_ago_weighted', 'three_year_ago_avg',\n",
              "       'three_year_ago_weighted', 'confederation', 'rank_date'],\n",
              "      dtype='object')"
            ]
          },
          "metadata": {},
          "execution_count": 6
        }
      ]
    },
    {
      "cell_type": "markdown",
      "metadata": {
        "id": "SEJLUBovCyjy"
      },
      "source": [
        "##### CLEANING"
      ]
    },
    {
      "cell_type": "markdown",
      "metadata": {
        "id": "qgL7xdDz4NJz"
      },
      "source": [
        "rename column"
      ]
    },
    {
      "cell_type": "code",
      "metadata": {
        "colab": {
          "base_uri": "https://localhost:8080/",
          "height": 115
        },
        "id": "Hp6TbRx3cxGD",
        "outputId": "dc366f2a-e630-4ae1-cb2d-29dd25641acf"
      },
      "source": [
        "ranking.rename(columns= {'country_full':'country'}, inplace=True)\n",
        "ranking.head(1)"
      ],
      "execution_count": 7,
      "outputs": [
        {
          "output_type": "execute_result",
          "data": {
            "text/html": [
              "<div>\n",
              "<style scoped>\n",
              "    .dataframe tbody tr th:only-of-type {\n",
              "        vertical-align: middle;\n",
              "    }\n",
              "\n",
              "    .dataframe tbody tr th {\n",
              "        vertical-align: top;\n",
              "    }\n",
              "\n",
              "    .dataframe thead th {\n",
              "        text-align: right;\n",
              "    }\n",
              "</style>\n",
              "<table border=\"1\" class=\"dataframe\">\n",
              "  <thead>\n",
              "    <tr style=\"text-align: right;\">\n",
              "      <th></th>\n",
              "      <th>rank</th>\n",
              "      <th>country</th>\n",
              "      <th>country_abrv</th>\n",
              "      <th>total_points</th>\n",
              "      <th>previous_points</th>\n",
              "      <th>rank_change</th>\n",
              "      <th>cur_year_avg</th>\n",
              "      <th>cur_year_avg_weighted</th>\n",
              "      <th>last_year_avg</th>\n",
              "      <th>last_year_avg_weighted</th>\n",
              "      <th>two_year_ago_avg</th>\n",
              "      <th>two_year_ago_weighted</th>\n",
              "      <th>three_year_ago_avg</th>\n",
              "      <th>three_year_ago_weighted</th>\n",
              "      <th>confederation</th>\n",
              "      <th>rank_date</th>\n",
              "    </tr>\n",
              "  </thead>\n",
              "  <tbody>\n",
              "    <tr>\n",
              "      <th>0</th>\n",
              "      <td>1</td>\n",
              "      <td>Germany</td>\n",
              "      <td>GER</td>\n",
              "      <td>0.0</td>\n",
              "      <td>57</td>\n",
              "      <td>0</td>\n",
              "      <td>0.0</td>\n",
              "      <td>0.0</td>\n",
              "      <td>0.0</td>\n",
              "      <td>0.0</td>\n",
              "      <td>0.0</td>\n",
              "      <td>0.0</td>\n",
              "      <td>0.0</td>\n",
              "      <td>0.0</td>\n",
              "      <td>UEFA</td>\n",
              "      <td>1993-08-08</td>\n",
              "    </tr>\n",
              "  </tbody>\n",
              "</table>\n",
              "</div>"
            ],
            "text/plain": [
              "   rank  country  ... confederation   rank_date\n",
              "0     1  Germany  ...          UEFA  1993-08-08\n",
              "\n",
              "[1 rows x 16 columns]"
            ]
          },
          "metadata": {},
          "execution_count": 7
        }
      ]
    },
    {
      "cell_type": "markdown",
      "metadata": {
        "id": "n200dvQHDHoZ"
      },
      "source": [
        "check for missing values duplicates and outliers"
      ]
    },
    {
      "cell_type": "code",
      "metadata": {
        "colab": {
          "base_uri": "https://localhost:8080/"
        },
        "id": "b6KzxySeC3tP",
        "outputId": "34c45a00-bbf6-4be7-e013-c190b25ec3d2"
      },
      "source": [
        "ranking.isnull().sum()"
      ],
      "execution_count": 8,
      "outputs": [
        {
          "output_type": "execute_result",
          "data": {
            "text/plain": [
              "rank                       0\n",
              "country                    0\n",
              "country_abrv               0\n",
              "total_points               0\n",
              "previous_points            0\n",
              "rank_change                0\n",
              "cur_year_avg               0\n",
              "cur_year_avg_weighted      0\n",
              "last_year_avg              0\n",
              "last_year_avg_weighted     0\n",
              "two_year_ago_avg           0\n",
              "two_year_ago_weighted      0\n",
              "three_year_ago_avg         0\n",
              "three_year_ago_weighted    0\n",
              "confederation              0\n",
              "rank_date                  0\n",
              "dtype: int64"
            ]
          },
          "metadata": {},
          "execution_count": 8
        }
      ]
    },
    {
      "cell_type": "code",
      "metadata": {
        "colab": {
          "base_uri": "https://localhost:8080/"
        },
        "id": "CkV-YDoaDZWY",
        "outputId": "23f12246-5742-41f0-fff2-98085caba1dd"
      },
      "source": [
        "print(ranking.duplicated().sum())\n",
        "ranking.drop_duplicates(inplace=True)\n",
        "print(ranking.duplicated().sum())"
      ],
      "execution_count": 9,
      "outputs": [
        {
          "output_type": "stream",
          "name": "stdout",
          "text": [
            "37\n",
            "0\n"
          ]
        }
      ]
    },
    {
      "cell_type": "markdown",
      "metadata": {
        "id": "exwCav2m4R57"
      },
      "source": [
        "drop unnecessary columns"
      ]
    },
    {
      "cell_type": "code",
      "metadata": {
        "colab": {
          "base_uri": "https://localhost:8080/",
          "height": 408
        },
        "id": "gqa27twDgMUF",
        "outputId": "206bafab-8aff-4c4a-dcae-f137ef672ba0"
      },
      "source": [
        "ranking = ranking.drop(columns=['country_abrv','total_points','rank_change', 'cur_year_avg', 'cur_year_avg_weighted', 'last_year_avg',\n",
        "       'last_year_avg_weighted', 'two_year_ago_avg', 'two_year_ago_weighted',\n",
        "       'three_year_ago_avg', 'three_year_ago_weighted'], axis=1, inplace=False)\n",
        "ranking"
      ],
      "execution_count": 10,
      "outputs": [
        {
          "output_type": "execute_result",
          "data": {
            "text/html": [
              "<div>\n",
              "<style scoped>\n",
              "    .dataframe tbody tr th:only-of-type {\n",
              "        vertical-align: middle;\n",
              "    }\n",
              "\n",
              "    .dataframe tbody tr th {\n",
              "        vertical-align: top;\n",
              "    }\n",
              "\n",
              "    .dataframe thead th {\n",
              "        text-align: right;\n",
              "    }\n",
              "</style>\n",
              "<table border=\"1\" class=\"dataframe\">\n",
              "  <thead>\n",
              "    <tr style=\"text-align: right;\">\n",
              "      <th></th>\n",
              "      <th>rank</th>\n",
              "      <th>country</th>\n",
              "      <th>previous_points</th>\n",
              "      <th>confederation</th>\n",
              "      <th>rank_date</th>\n",
              "    </tr>\n",
              "  </thead>\n",
              "  <tbody>\n",
              "    <tr>\n",
              "      <th>0</th>\n",
              "      <td>1</td>\n",
              "      <td>Germany</td>\n",
              "      <td>57</td>\n",
              "      <td>UEFA</td>\n",
              "      <td>1993-08-08</td>\n",
              "    </tr>\n",
              "    <tr>\n",
              "      <th>1</th>\n",
              "      <td>2</td>\n",
              "      <td>Italy</td>\n",
              "      <td>57</td>\n",
              "      <td>UEFA</td>\n",
              "      <td>1993-08-08</td>\n",
              "    </tr>\n",
              "    <tr>\n",
              "      <th>2</th>\n",
              "      <td>3</td>\n",
              "      <td>Switzerland</td>\n",
              "      <td>50</td>\n",
              "      <td>UEFA</td>\n",
              "      <td>1993-08-08</td>\n",
              "    </tr>\n",
              "    <tr>\n",
              "      <th>3</th>\n",
              "      <td>4</td>\n",
              "      <td>Sweden</td>\n",
              "      <td>55</td>\n",
              "      <td>UEFA</td>\n",
              "      <td>1993-08-08</td>\n",
              "    </tr>\n",
              "    <tr>\n",
              "      <th>4</th>\n",
              "      <td>5</td>\n",
              "      <td>Argentina</td>\n",
              "      <td>51</td>\n",
              "      <td>CONMEBOL</td>\n",
              "      <td>1993-08-08</td>\n",
              "    </tr>\n",
              "    <tr>\n",
              "      <th>...</th>\n",
              "      <td>...</td>\n",
              "      <td>...</td>\n",
              "      <td>...</td>\n",
              "      <td>...</td>\n",
              "      <td>...</td>\n",
              "    </tr>\n",
              "    <tr>\n",
              "      <th>57788</th>\n",
              "      <td>206</td>\n",
              "      <td>Anguilla</td>\n",
              "      <td>0</td>\n",
              "      <td>CONCACAF</td>\n",
              "      <td>2018-06-07</td>\n",
              "    </tr>\n",
              "    <tr>\n",
              "      <th>57789</th>\n",
              "      <td>206</td>\n",
              "      <td>Bahamas</td>\n",
              "      <td>0</td>\n",
              "      <td>CONCACAF</td>\n",
              "      <td>2018-06-07</td>\n",
              "    </tr>\n",
              "    <tr>\n",
              "      <th>57790</th>\n",
              "      <td>206</td>\n",
              "      <td>Eritrea</td>\n",
              "      <td>0</td>\n",
              "      <td>CAF</td>\n",
              "      <td>2018-06-07</td>\n",
              "    </tr>\n",
              "    <tr>\n",
              "      <th>57791</th>\n",
              "      <td>206</td>\n",
              "      <td>Somalia</td>\n",
              "      <td>0</td>\n",
              "      <td>CAF</td>\n",
              "      <td>2018-06-07</td>\n",
              "    </tr>\n",
              "    <tr>\n",
              "      <th>57792</th>\n",
              "      <td>206</td>\n",
              "      <td>Tonga</td>\n",
              "      <td>0</td>\n",
              "      <td>OFC</td>\n",
              "      <td>2018-06-07</td>\n",
              "    </tr>\n",
              "  </tbody>\n",
              "</table>\n",
              "<p>57756 rows × 5 columns</p>\n",
              "</div>"
            ],
            "text/plain": [
              "       rank      country  previous_points confederation   rank_date\n",
              "0         1      Germany               57          UEFA  1993-08-08\n",
              "1         2        Italy               57          UEFA  1993-08-08\n",
              "2         3  Switzerland               50          UEFA  1993-08-08\n",
              "3         4       Sweden               55          UEFA  1993-08-08\n",
              "4         5    Argentina               51      CONMEBOL  1993-08-08\n",
              "...     ...          ...              ...           ...         ...\n",
              "57788   206     Anguilla                0      CONCACAF  2018-06-07\n",
              "57789   206      Bahamas                0      CONCACAF  2018-06-07\n",
              "57790   206      Eritrea                0           CAF  2018-06-07\n",
              "57791   206      Somalia                0           CAF  2018-06-07\n",
              "57792   206        Tonga                0           OFC  2018-06-07\n",
              "\n",
              "[57756 rows x 5 columns]"
            ]
          },
          "metadata": {},
          "execution_count": 10
        }
      ]
    },
    {
      "cell_type": "markdown",
      "metadata": {
        "id": "a-YbT0nIIIFG"
      },
      "source": [
        "anomalies"
      ]
    },
    {
      "cell_type": "code",
      "metadata": {
        "colab": {
          "base_uri": "https://localhost:8080/"
        },
        "id": "l8Bk6SonIJlY",
        "outputId": "4c077b00-b30d-4859-993f-016c6ae9b845"
      },
      "source": [
        "column = ranking.columns.to_list()\n",
        "\n",
        "for column in column:\n",
        "    print(\"\\n\")\n",
        "    print(\"Column Name:\", column)\n",
        "    print(ranking[column].unique())"
      ],
      "execution_count": 11,
      "outputs": [
        {
          "output_type": "stream",
          "name": "stdout",
          "text": [
            "\n",
            "\n",
            "Column Name: rank\n",
            "[  1   2   3   4   5   6   7   8   9  10  11  12  13  14  15  16  17  18\n",
            "  19  20  21  22  23  24  25  26  27  28  29  30  31  32  33  34  35  36\n",
            "  37  38  39  40  41  42  43  44  45  46  47  48  49  50  51  52  53  54\n",
            "  55  56  57  58  59  60  61  62  63  64  65  66  67  68  69  70  71  72\n",
            "  73  74  75  76  77  78  79  80  81  82  83  84  85  86  87  88  89  90\n",
            "  91  92  93  94  95  96  97  98  99 100 101 102 103 104 105 106 107 108\n",
            " 109 110 111 112 113 114 115 116 117 118 119 120 121 122 123 124 125 126\n",
            " 127 128 129 130 131 132 133 134 135 136 137 138 139 140 141 142 143 144\n",
            " 145 146 148 149 150 151 152 153 154 155 156 157 158 159 160 161 162 163\n",
            " 164 165 166 167 147 168 169 170 171 172 173 174 176 175 177 178 179 180\n",
            " 181 182 183 184 185 186 187 188 189 190 191 192 193 194 195 196 197 198\n",
            " 199 200 201 202 203 204 205 207 206 208 209]\n",
            "\n",
            "\n",
            "Column Name: country\n",
            "['Germany' 'Italy' 'Switzerland' 'Sweden' 'Argentina'\n",
            " 'Republic of Ireland' 'Russia' 'Brazil' 'Norway' 'Denmark' 'England'\n",
            " 'France' 'Spain' 'Mexico' 'RCS' 'Netherlands' 'Nigeria' 'Belgium'\n",
            " 'Colombia' 'Poland' 'Romania' 'Uruguay' 'Portugal' 'Cameroon' 'Zambia'\n",
            " 'Egypt' 'Wales' 'USA' \"Côte d'Ivoire\" 'Scotland' 'Tunisia' 'Greece'\n",
            " 'Morocco' 'Algeria' 'Ecuador' 'Korea Republic' 'Bulgaria' 'Austria'\n",
            " 'Costa Rica' 'Northern Ireland' 'Honduras' 'Hungary' 'Japan'\n",
            " 'Saudi Arabia' 'China PR' 'Canada' 'Finland' 'Ghana' 'Chile' 'Zimbabwe'\n",
            " 'Qatar' 'Australia' 'Iceland' 'IR Iran' 'United Arab Emirates'\n",
            " 'Yugoslavia' 'Iraq' 'Senegal' 'Bolivia' 'Kuwait' 'Korea DPR'\n",
            " 'El Salvador' 'Turkey' 'Gabon' 'Guinea' 'Thailand' 'Paraguay' 'Malawi'\n",
            " 'Israel' 'Peru' 'Zaire' 'Cyprus' 'Singapore' 'Mali' 'Malaysia' 'Bermuda'\n",
            " 'Niger' 'Syria' 'Bahrain' 'New Zealand' 'Madagascar' 'Malta' 'Jamaica'\n",
            " 'Lithuania' 'Trinidad and Tobago' 'Sierra Leone' 'Jordan' 'Kenya'\n",
            " 'Latvia' 'Yemen' 'Tanzania' 'Albania' 'Angola' 'Venezuela' 'Ethiopia'\n",
            " 'Burundi' 'Oman' 'Indonesia' 'Liberia' 'Mozambique' 'Puerto Rico'\n",
            " 'Swaziland' 'Hong Kong' 'Uganda' 'Barbados' 'Myanmar' 'Congo' 'Lebanon'\n",
            " 'South Africa' 'Luxembourg' 'Faroe Islands' 'Guatemala' 'Burkina Faso'\n",
            " 'Togo' 'Suriname' 'Fiji' 'Croatia' 'Estonia' 'San Marino' 'Bangladesh'\n",
            " 'St Vincent and the Grenadines' 'Netherlands Antilles' 'Mauritius'\n",
            " 'Benin' 'Panama' 'Sudan' 'Antigua and Barbuda' 'Slovenia' 'India'\n",
            " 'Belarus' 'Ukraine' 'Vietnam' 'Guinea-Bissau' 'Guyana' 'Botswana'\n",
            " 'St Lucia' 'Tahiti' 'Grenada' 'Haiti' 'Libya' 'Laos' 'Mauritania'\n",
            " 'Cape Verde Islands' 'Solomon Islands' 'Brunei Darussalam' 'Lesotho'\n",
            " 'Dominican Republic' 'Pakistan' 'Nicaragua' 'Cuba' 'Seychelles'\n",
            " 'Central African Republic' 'Gambia' 'Namibia' 'Cayman Islands' 'Nepal'\n",
            " 'Liechtenstein' 'Equatorial Guinea' 'Chinese Taipei' 'Sri Lanka'\n",
            " 'Philippines' 'Chad' 'Vanuatu' 'Aruba' 'Bahamas' 'Maldives' 'Macau'\n",
            " 'Slovakia' 'St Kitts and Nevis' 'Czech Republic' 'Georgia'\n",
            " 'FYR Macedonia' 'Moldova' 'Armenia' 'Azerbaijan' 'Uzbekistan'\n",
            " 'Turkmenistan' 'Kazakhstan' 'Tajikistan' 'Kyrgyz Republic' 'Somalia'\n",
            " 'Djibouti' 'Dominica' 'Rwanda' 'Belize' 'Cambodia'\n",
            " 'Bosnia and Herzegovina' 'Guam' 'Papua New Guinea' 'Tonga' 'Samoa'\n",
            " 'Andorra' 'Cook Islands' 'British Virgin Islands' 'Anguilla'\n",
            " 'São Tomé e Príncipe' 'Eritrea' 'American Samoa' 'Palestine' 'Mongolia'\n",
            " 'Turks and Caicos Islands' 'US Virgin Islands' 'Montserrat' 'Congo DR'\n",
            " 'Bhutan' 'Serbia and Montenegro' 'Afghanistan' 'New Caledonia' 'Serbia'\n",
            " 'Timor-Leste' 'Comoros' 'Montenegro' 'Curaçao' 'South Sudan' 'Kosovo'\n",
            " 'Gibraltar']\n",
            "\n",
            "\n",
            "Column Name: previous_points\n",
            "[  57   50   55 ... 1185 1346 1118]\n",
            "\n",
            "\n",
            "Column Name: confederation\n",
            "['UEFA' 'CONMEBOL' 'CONCACAF' 'CAF' 'AFC' 'OFC']\n",
            "\n",
            "\n",
            "Column Name: rank_date\n",
            "['1993-08-08' '1993-09-23' '1993-10-22' '1993-11-19' '1993-12-23'\n",
            " '1994-02-15' '1994-03-15' '1994-04-19' '1994-05-17' '1994-06-14'\n",
            " '1994-07-21' '1994-09-13' '1994-10-25' '1994-11-22' '1994-12-20'\n",
            " '1995-02-20' '1995-04-19' '1995-05-16' '1995-06-13' '1995-07-25'\n",
            " '1995-08-22' '1995-09-19' '1995-10-17' '1995-11-21' '1995-12-19'\n",
            " '1996-01-24' '1996-02-21' '1996-04-24' '1996-05-22' '1996-07-03'\n",
            " '1996-08-28' '1996-09-25' '1996-10-23' '1996-11-20' '1996-12-18'\n",
            " '1997-02-27' '1997-04-09' '1997-05-14' '1997-06-18' '1997-07-16'\n",
            " '1997-08-20' '1997-09-17' '1997-10-17' '1997-11-19' '1997-12-23'\n",
            " '1998-02-18' '1998-03-18' '1998-04-22' '1998-05-20' '1998-07-15'\n",
            " '1998-08-19' '1998-09-16' '1998-10-21' '1998-11-18' '1998-12-23'\n",
            " '1999-01-27' '1999-02-24' '1999-03-24' '1999-04-21' '1999-05-19'\n",
            " '1999-06-16' '1999-07-21' '1999-08-18' '1999-09-15' '1999-10-13'\n",
            " '1999-11-17' '1999-12-22' '2000-01-19' '2000-02-16' '2000-03-15'\n",
            " '2000-04-12' '2000-05-10' '2000-06-07' '2000-07-05' '2000-08-09'\n",
            " '2000-09-06' '2000-10-11' '2000-11-15' '2000-12-20' '2001-01-17'\n",
            " '2001-02-14' '2001-03-14' '2001-04-11' '2001-05-16' '2001-06-20'\n",
            " '2001-07-18' '2001-08-22' '2001-09-19' '2001-10-17' '2001-11-21'\n",
            " '2001-12-19' '2002-01-16' '2002-02-13' '2002-03-20' '2002-04-17'\n",
            " '2002-05-15' '2002-07-03' '2002-08-14' '2002-09-18' '2002-10-23'\n",
            " '2002-11-20' '2002-12-18' '2003-01-15' '2003-02-19' '2003-03-26'\n",
            " '2003-04-23' '2003-05-21' '2003-06-25' '2003-07-30' '2003-08-27'\n",
            " '2003-09-24' '2003-10-22' '2003-11-19' '2003-12-15' '2004-01-14'\n",
            " '2004-02-18' '2004-03-17' '2004-04-14' '2004-05-12' '2004-06-09'\n",
            " '2004-07-07' '2004-08-04' '2004-09-01' '2004-10-06' '2004-11-10'\n",
            " '2004-12-20' '2005-01-19' '2005-02-16' '2005-03-23' '2005-04-20'\n",
            " '2005-05-18' '2005-06-15' '2005-07-20' '2005-08-17' '2005-09-12'\n",
            " '2005-10-17' '2005-11-21' '2005-12-16' '2006-01-18' '2006-02-15'\n",
            " '2006-03-15' '2006-04-19' '2006-05-17' '2006-07-12' '2006-08-16'\n",
            " '2006-09-13' '2006-10-18' '2006-11-22' '2006-12-18' '2007-01-17'\n",
            " '2007-02-14' '2007-03-14' '2007-04-18' '2007-05-16' '2007-06-13'\n",
            " '2007-07-18' '2007-08-22' '2007-09-19' '2007-10-24' '2007-11-23'\n",
            " '2007-12-17' '2008-01-16' '2008-02-13' '2008-03-12' '2008-04-09'\n",
            " '2008-05-07' '2008-06-04' '2008-07-02' '2008-08-06' '2008-09-03'\n",
            " '2008-10-08' '2008-11-12' '2008-12-17' '2009-01-14' '2009-02-11'\n",
            " '2009-03-11' '2009-04-08' '2009-05-06' '2009-06-03' '2009-07-01'\n",
            " '2009-08-05' '2009-09-02' '2009-10-16' '2009-11-20' '2009-12-16'\n",
            " '2010-02-03' '2010-03-03' '2010-03-31' '2010-04-28' '2010-05-26'\n",
            " '2010-07-14' '2010-08-11' '2010-09-15' '2010-10-20' '2010-11-17'\n",
            " '2010-12-15' '2011-01-12' '2011-02-02' '2011-03-09' '2011-04-13'\n",
            " '2011-05-18' '2011-06-29' '2011-07-27' '2011-08-24' '2011-09-21'\n",
            " '2011-10-19' '2011-11-23' '2011-12-21' '2012-01-18' '2012-02-15'\n",
            " '2012-03-07' '2012-04-11' '2012-05-09' '2012-06-06' '2012-07-04'\n",
            " '2012-08-08' '2012-09-05' '2012-10-03' '2012-11-07' '2012-12-19'\n",
            " '2013-01-17' '2013-02-14' '2013-03-14' '2013-04-11' '2013-05-09'\n",
            " '2013-06-06' '2013-07-04' '2013-08-08' '2013-09-12' '2013-10-17'\n",
            " '2013-11-28' '2013-12-19' '2014-01-16' '2014-02-13' '2014-03-13'\n",
            " '2014-04-10' '2014-05-08' '2014-06-05' '2014-07-17' '2014-08-14'\n",
            " '2014-09-18' '2014-10-23' '2014-11-27' '2014-12-18' '2015-01-08'\n",
            " '2015-02-12' '2015-03-12' '2015-04-09' '2015-05-07' '2015-06-04'\n",
            " '2015-07-09' '2015-08-06' '2015-09-03' '2015-10-01' '2015-11-05'\n",
            " '2015-12-03' '2016-01-07' '2016-02-04' '2016-03-03' '2016-04-07'\n",
            " '2016-05-05' '2016-06-02' '2016-07-14' '2016-08-11' '2016-09-15'\n",
            " '2016-10-20' '2016-11-24' '2016-12-22' '2017-01-12' '2017-02-09'\n",
            " '2017-03-09' '2017-04-06' '2017-05-04' '2017-06-01' '2017-07-06'\n",
            " '2017-08-10' '2017-09-14' '2017-10-16' '2017-11-23' '2017-12-21'\n",
            " '2018-01-18' '2018-02-15' '2018-03-15' '2018-04-12' '2018-05-17'\n",
            " '2018-06-07']\n"
          ]
        }
      ]
    },
    {
      "cell_type": "markdown",
      "metadata": {
        "id": "T2geDLVeBFr-"
      },
      "source": [
        "##### EDA"
      ]
    },
    {
      "cell_type": "markdown",
      "metadata": {
        "id": "rfLCNT7ICnxZ"
      },
      "source": [
        "univariate"
      ]
    },
    {
      "cell_type": "code",
      "metadata": {
        "colab": {
          "base_uri": "https://localhost:8080/",
          "height": 311
        },
        "id": "QUE7-SOlJiC5",
        "outputId": "f6715e02-3f65-4031-edc7-dda3cefd0e52"
      },
      "source": [
        "import matplotlib.colors as mcolors\n",
        "\n",
        "a = ranking['confederation'].value_counts()\n",
        "a.plot.barh(color='deeppink')\n",
        "plt.xlabel('frequency')\n",
        "plt.title('most popular confederations')"
      ],
      "execution_count": 12,
      "outputs": [
        {
          "output_type": "execute_result",
          "data": {
            "text/plain": [
              "Text(0.5, 1.0, 'most popular confederations')"
            ]
          },
          "metadata": {},
          "execution_count": 12
        },
        {
          "output_type": "display_data",
          "data": {
            "image/png": "[encoded data removed]",
            "text/plain": [
              "<Figure size 432x288 with 1 Axes>"
            ]
          },
          "metadata": {
            "needs_background": "light"
          }
        }
      ]
    },
    {
      "cell_type": "markdown",
      "metadata": {
        "id": "wMNVZNKtmRaC"
      },
      "source": [
        "UEFA is the most frequent popular confederation"
      ]
    },
    {
      "cell_type": "markdown",
      "metadata": {
        "id": "SMowHU0wB_7y"
      },
      "source": [
        "##### FEATURE ENGINEERING"
      ]
    },
    {
      "cell_type": "markdown",
      "metadata": {
        "id": "xkRzYqJgyJXA"
      },
      "source": [
        "lets convert rank date column to date time then split it "
      ]
    },
    {
      "cell_type": "code",
      "metadata": {
        "id": "_5OAk7uwyI3x"
      },
      "source": [
        "ranking['rank_date']=pd.to_datetime(ranking['rank_date'])"
      ],
      "execution_count": 13,
      "outputs": []
    },
    {
      "cell_type": "code",
      "metadata": {
        "colab": {
          "base_uri": "https://localhost:8080/",
          "height": 408
        },
        "id": "-tkiNFmAyHbE",
        "outputId": "44ca5207-5620-49b4-ec73-0896bded11d2"
      },
      "source": [
        "ranking['day'] = ranking['rank_date'].dt.day\n",
        "ranking['month']=ranking['rank_date'].dt.month\n",
        "ranking['year']=ranking['rank_date'].dt.year\n",
        "\n",
        "ranking"
      ],
      "execution_count": 14,
      "outputs": [
        {
          "output_type": "execute_result",
          "data": {
            "text/html": [
              "<div>\n",
              "<style scoped>\n",
              "    .dataframe tbody tr th:only-of-type {\n",
              "        vertical-align: middle;\n",
              "    }\n",
              "\n",
              "    .dataframe tbody tr th {\n",
              "        vertical-align: top;\n",
              "    }\n",
              "\n",
              "    .dataframe thead th {\n",
              "        text-align: right;\n",
              "    }\n",
              "</style>\n",
              "<table border=\"1\" class=\"dataframe\">\n",
              "  <thead>\n",
              "    <tr style=\"text-align: right;\">\n",
              "      <th></th>\n",
              "      <th>rank</th>\n",
              "      <th>country</th>\n",
              "      <th>previous_points</th>\n",
              "      <th>confederation</th>\n",
              "      <th>rank_date</th>\n",
              "      <th>day</th>\n",
              "      <th>month</th>\n",
              "      <th>year</th>\n",
              "    </tr>\n",
              "  </thead>\n",
              "  <tbody>\n",
              "    <tr>\n",
              "      <th>0</th>\n",
              "      <td>1</td>\n",
              "      <td>Germany</td>\n",
              "      <td>57</td>\n",
              "      <td>UEFA</td>\n",
              "      <td>1993-08-08</td>\n",
              "      <td>8</td>\n",
              "      <td>8</td>\n",
              "      <td>1993</td>\n",
              "    </tr>\n",
              "    <tr>\n",
              "      <th>1</th>\n",
              "      <td>2</td>\n",
              "      <td>Italy</td>\n",
              "      <td>57</td>\n",
              "      <td>UEFA</td>\n",
              "      <td>1993-08-08</td>\n",
              "      <td>8</td>\n",
              "      <td>8</td>\n",
              "      <td>1993</td>\n",
              "    </tr>\n",
              "    <tr>\n",
              "      <th>2</th>\n",
              "      <td>3</td>\n",
              "      <td>Switzerland</td>\n",
              "      <td>50</td>\n",
              "      <td>UEFA</td>\n",
              "      <td>1993-08-08</td>\n",
              "      <td>8</td>\n",
              "      <td>8</td>\n",
              "      <td>1993</td>\n",
              "    </tr>\n",
              "    <tr>\n",
              "      <th>3</th>\n",
              "      <td>4</td>\n",
              "      <td>Sweden</td>\n",
              "      <td>55</td>\n",
              "      <td>UEFA</td>\n",
              "      <td>1993-08-08</td>\n",
              "      <td>8</td>\n",
              "      <td>8</td>\n",
              "      <td>1993</td>\n",
              "    </tr>\n",
              "    <tr>\n",
              "      <th>4</th>\n",
              "      <td>5</td>\n",
              "      <td>Argentina</td>\n",
              "      <td>51</td>\n",
              "      <td>CONMEBOL</td>\n",
              "      <td>1993-08-08</td>\n",
              "      <td>8</td>\n",
              "      <td>8</td>\n",
              "      <td>1993</td>\n",
              "    </tr>\n",
              "    <tr>\n",
              "      <th>...</th>\n",
              "      <td>...</td>\n",
              "      <td>...</td>\n",
              "      <td>...</td>\n",
              "      <td>...</td>\n",
              "      <td>...</td>\n",
              "      <td>...</td>\n",
              "      <td>...</td>\n",
              "      <td>...</td>\n",
              "    </tr>\n",
              "    <tr>\n",
              "      <th>57788</th>\n",
              "      <td>206</td>\n",
              "      <td>Anguilla</td>\n",
              "      <td>0</td>\n",
              "      <td>CONCACAF</td>\n",
              "      <td>2018-06-07</td>\n",
              "      <td>7</td>\n",
              "      <td>6</td>\n",
              "      <td>2018</td>\n",
              "    </tr>\n",
              "    <tr>\n",
              "      <th>57789</th>\n",
              "      <td>206</td>\n",
              "      <td>Bahamas</td>\n",
              "      <td>0</td>\n",
              "      <td>CONCACAF</td>\n",
              "      <td>2018-06-07</td>\n",
              "      <td>7</td>\n",
              "      <td>6</td>\n",
              "      <td>2018</td>\n",
              "    </tr>\n",
              "    <tr>\n",
              "      <th>57790</th>\n",
              "      <td>206</td>\n",
              "      <td>Eritrea</td>\n",
              "      <td>0</td>\n",
              "      <td>CAF</td>\n",
              "      <td>2018-06-07</td>\n",
              "      <td>7</td>\n",
              "      <td>6</td>\n",
              "      <td>2018</td>\n",
              "    </tr>\n",
              "    <tr>\n",
              "      <th>57791</th>\n",
              "      <td>206</td>\n",
              "      <td>Somalia</td>\n",
              "      <td>0</td>\n",
              "      <td>CAF</td>\n",
              "      <td>2018-06-07</td>\n",
              "      <td>7</td>\n",
              "      <td>6</td>\n",
              "      <td>2018</td>\n",
              "    </tr>\n",
              "    <tr>\n",
              "      <th>57792</th>\n",
              "      <td>206</td>\n",
              "      <td>Tonga</td>\n",
              "      <td>0</td>\n",
              "      <td>OFC</td>\n",
              "      <td>2018-06-07</td>\n",
              "      <td>7</td>\n",
              "      <td>6</td>\n",
              "      <td>2018</td>\n",
              "    </tr>\n",
              "  </tbody>\n",
              "</table>\n",
              "<p>57756 rows × 8 columns</p>\n",
              "</div>"
            ],
            "text/plain": [
              "       rank      country  previous_points  ... day month  year\n",
              "0         1      Germany               57  ...   8     8  1993\n",
              "1         2        Italy               57  ...   8     8  1993\n",
              "2         3  Switzerland               50  ...   8     8  1993\n",
              "3         4       Sweden               55  ...   8     8  1993\n",
              "4         5    Argentina               51  ...   8     8  1993\n",
              "...     ...          ...              ...  ...  ..   ...   ...\n",
              "57788   206     Anguilla                0  ...   7     6  2018\n",
              "57789   206      Bahamas                0  ...   7     6  2018\n",
              "57790   206      Eritrea                0  ...   7     6  2018\n",
              "57791   206      Somalia                0  ...   7     6  2018\n",
              "57792   206        Tonga                0  ...   7     6  2018\n",
              "\n",
              "[57756 rows x 8 columns]"
            ]
          },
          "metadata": {},
          "execution_count": 14
        }
      ]
    },
    {
      "cell_type": "code",
      "metadata": {
        "id": "cYiJ9bR5Eu1R"
      },
      "source": [
        "ranking['country_rank']= ranking['country']\n"
      ],
      "execution_count": 15,
      "outputs": []
    },
    {
      "cell_type": "code",
      "metadata": {
        "colab": {
          "base_uri": "https://localhost:8080/",
          "height": 78
        },
        "id": "Qj35Lg-mFkNa",
        "outputId": "b7e46ac1-c5a3-4229-9ba3-d9dc459c2827"
      },
      "source": [
        "ranking.head(1)"
      ],
      "execution_count": 16,
      "outputs": [
        {
          "output_type": "execute_result",
          "data": {
            "text/html": [
              "<div>\n",
              "<style scoped>\n",
              "    .dataframe tbody tr th:only-of-type {\n",
              "        vertical-align: middle;\n",
              "    }\n",
              "\n",
              "    .dataframe tbody tr th {\n",
              "        vertical-align: top;\n",
              "    }\n",
              "\n",
              "    .dataframe thead th {\n",
              "        text-align: right;\n",
              "    }\n",
              "</style>\n",
              "<table border=\"1\" class=\"dataframe\">\n",
              "  <thead>\n",
              "    <tr style=\"text-align: right;\">\n",
              "      <th></th>\n",
              "      <th>rank</th>\n",
              "      <th>country</th>\n",
              "      <th>previous_points</th>\n",
              "      <th>confederation</th>\n",
              "      <th>rank_date</th>\n",
              "      <th>day</th>\n",
              "      <th>month</th>\n",
              "      <th>year</th>\n",
              "      <th>country_rank</th>\n",
              "    </tr>\n",
              "  </thead>\n",
              "  <tbody>\n",
              "    <tr>\n",
              "      <th>0</th>\n",
              "      <td>1</td>\n",
              "      <td>Germany</td>\n",
              "      <td>57</td>\n",
              "      <td>UEFA</td>\n",
              "      <td>1993-08-08</td>\n",
              "      <td>8</td>\n",
              "      <td>8</td>\n",
              "      <td>1993</td>\n",
              "      <td>Germany</td>\n",
              "    </tr>\n",
              "  </tbody>\n",
              "</table>\n",
              "</div>"
            ],
            "text/plain": [
              "   rank  country  previous_points confederation  ... day  month  year  country_rank\n",
              "0     1  Germany               57          UEFA  ...   8      8  1993       Germany\n",
              "\n",
              "[1 rows x 9 columns]"
            ]
          },
          "metadata": {},
          "execution_count": 16
        }
      ]
    },
    {
      "cell_type": "markdown",
      "metadata": {
        "id": "3zJKCPyjR23G"
      },
      "source": [
        "#### RESULTS DATASET"
      ]
    },
    {
      "cell_type": "markdown",
      "metadata": {
        "id": "kpaAs8ftSSdD"
      },
      "source": [
        "##### PREVIEW DATASET"
      ]
    },
    {
      "cell_type": "code",
      "metadata": {
        "colab": {
          "base_uri": "https://localhost:8080/",
          "height": 200
        },
        "id": "grMezrfaGFwP",
        "outputId": "103b5d4c-dfe4-45ac-ab1e-c968955c114c"
      },
      "source": [
        "url1 = \"https://drive.google.com/file/d/1htuUTMvOzbwoKJB79ahvHyZ8B1eIwrTd/view?usp=sharing\"\n",
        "url3 = 'https://drive.google.com/uc?id=' + url1.split('/')[-2]\n",
        "results = pd.read_csv(url3)\n",
        "results.head()"
      ],
      "execution_count": 17,
      "outputs": [
        {
          "output_type": "execute_result",
          "data": {
            "text/html": [
              "<div>\n",
              "<style scoped>\n",
              "    .dataframe tbody tr th:only-of-type {\n",
              "        vertical-align: middle;\n",
              "    }\n",
              "\n",
              "    .dataframe tbody tr th {\n",
              "        vertical-align: top;\n",
              "    }\n",
              "\n",
              "    .dataframe thead th {\n",
              "        text-align: right;\n",
              "    }\n",
              "</style>\n",
              "<table border=\"1\" class=\"dataframe\">\n",
              "  <thead>\n",
              "    <tr style=\"text-align: right;\">\n",
              "      <th></th>\n",
              "      <th>date</th>\n",
              "      <th>home_team</th>\n",
              "      <th>away_team</th>\n",
              "      <th>home_score</th>\n",
              "      <th>away_score</th>\n",
              "      <th>tournament</th>\n",
              "      <th>city</th>\n",
              "      <th>country</th>\n",
              "      <th>neutral</th>\n",
              "    </tr>\n",
              "  </thead>\n",
              "  <tbody>\n",
              "    <tr>\n",
              "      <th>0</th>\n",
              "      <td>1872-11-30</td>\n",
              "      <td>Scotland</td>\n",
              "      <td>England</td>\n",
              "      <td>0</td>\n",
              "      <td>0</td>\n",
              "      <td>Friendly</td>\n",
              "      <td>Glasgow</td>\n",
              "      <td>Scotland</td>\n",
              "      <td>False</td>\n",
              "    </tr>\n",
              "    <tr>\n",
              "      <th>1</th>\n",
              "      <td>1873-03-08</td>\n",
              "      <td>England</td>\n",
              "      <td>Scotland</td>\n",
              "      <td>4</td>\n",
              "      <td>2</td>\n",
              "      <td>Friendly</td>\n",
              "      <td>London</td>\n",
              "      <td>England</td>\n",
              "      <td>False</td>\n",
              "    </tr>\n",
              "    <tr>\n",
              "      <th>2</th>\n",
              "      <td>1874-03-07</td>\n",
              "      <td>Scotland</td>\n",
              "      <td>England</td>\n",
              "      <td>2</td>\n",
              "      <td>1</td>\n",
              "      <td>Friendly</td>\n",
              "      <td>Glasgow</td>\n",
              "      <td>Scotland</td>\n",
              "      <td>False</td>\n",
              "    </tr>\n",
              "    <tr>\n",
              "      <th>3</th>\n",
              "      <td>1875-03-06</td>\n",
              "      <td>England</td>\n",
              "      <td>Scotland</td>\n",
              "      <td>2</td>\n",
              "      <td>2</td>\n",
              "      <td>Friendly</td>\n",
              "      <td>London</td>\n",
              "      <td>England</td>\n",
              "      <td>False</td>\n",
              "    </tr>\n",
              "    <tr>\n",
              "      <th>4</th>\n",
              "      <td>1876-03-04</td>\n",
              "      <td>Scotland</td>\n",
              "      <td>England</td>\n",
              "      <td>3</td>\n",
              "      <td>0</td>\n",
              "      <td>Friendly</td>\n",
              "      <td>Glasgow</td>\n",
              "      <td>Scotland</td>\n",
              "      <td>False</td>\n",
              "    </tr>\n",
              "  </tbody>\n",
              "</table>\n",
              "</div>"
            ],
            "text/plain": [
              "         date home_team away_team  ...     city   country neutral\n",
              "0  1872-11-30  Scotland   England  ...  Glasgow  Scotland   False\n",
              "1  1873-03-08   England  Scotland  ...   London   England   False\n",
              "2  1874-03-07  Scotland   England  ...  Glasgow  Scotland   False\n",
              "3  1875-03-06   England  Scotland  ...   London   England   False\n",
              "4  1876-03-04  Scotland   England  ...  Glasgow  Scotland   False\n",
              "\n",
              "[5 rows x 9 columns]"
            ]
          },
          "metadata": {},
          "execution_count": 17
        }
      ]
    },
    {
      "cell_type": "code",
      "metadata": {
        "colab": {
          "base_uri": "https://localhost:8080/",
          "height": 200
        },
        "id": "vuoIqH0sSgx4",
        "outputId": "3e53783b-a3f1-4fd5-90db-6a75d453049c"
      },
      "source": [
        "results.tail()"
      ],
      "execution_count": 18,
      "outputs": [
        {
          "output_type": "execute_result",
          "data": {
            "text/html": [
              "<div>\n",
              "<style scoped>\n",
              "    .dataframe tbody tr th:only-of-type {\n",
              "        vertical-align: middle;\n",
              "    }\n",
              "\n",
              "    .dataframe tbody tr th {\n",
              "        vertical-align: top;\n",
              "    }\n",
              "\n",
              "    .dataframe thead th {\n",
              "        text-align: right;\n",
              "    }\n",
              "</style>\n",
              "<table border=\"1\" class=\"dataframe\">\n",
              "  <thead>\n",
              "    <tr style=\"text-align: right;\">\n",
              "      <th></th>\n",
              "      <th>date</th>\n",
              "      <th>home_team</th>\n",
              "      <th>away_team</th>\n",
              "      <th>home_score</th>\n",
              "      <th>away_score</th>\n",
              "      <th>tournament</th>\n",
              "      <th>city</th>\n",
              "      <th>country</th>\n",
              "      <th>neutral</th>\n",
              "    </tr>\n",
              "  </thead>\n",
              "  <tbody>\n",
              "    <tr>\n",
              "      <th>40834</th>\n",
              "      <td>2019-07-18</td>\n",
              "      <td>American Samoa</td>\n",
              "      <td>Tahiti</td>\n",
              "      <td>8</td>\n",
              "      <td>1</td>\n",
              "      <td>Pacific Games</td>\n",
              "      <td>Apia</td>\n",
              "      <td>Samoa</td>\n",
              "      <td>True</td>\n",
              "    </tr>\n",
              "    <tr>\n",
              "      <th>40835</th>\n",
              "      <td>2019-07-18</td>\n",
              "      <td>Fiji</td>\n",
              "      <td>Solomon Islands</td>\n",
              "      <td>4</td>\n",
              "      <td>4</td>\n",
              "      <td>Pacific Games</td>\n",
              "      <td>Apia</td>\n",
              "      <td>Samoa</td>\n",
              "      <td>True</td>\n",
              "    </tr>\n",
              "    <tr>\n",
              "      <th>40836</th>\n",
              "      <td>2019-07-19</td>\n",
              "      <td>Senegal</td>\n",
              "      <td>Algeria</td>\n",
              "      <td>0</td>\n",
              "      <td>1</td>\n",
              "      <td>African Cup of Nations</td>\n",
              "      <td>Cairo</td>\n",
              "      <td>Egypt</td>\n",
              "      <td>True</td>\n",
              "    </tr>\n",
              "    <tr>\n",
              "      <th>40837</th>\n",
              "      <td>2019-07-19</td>\n",
              "      <td>Tajikistan</td>\n",
              "      <td>North Korea</td>\n",
              "      <td>0</td>\n",
              "      <td>1</td>\n",
              "      <td>Intercontinental Cup</td>\n",
              "      <td>Ahmedabad</td>\n",
              "      <td>India</td>\n",
              "      <td>True</td>\n",
              "    </tr>\n",
              "    <tr>\n",
              "      <th>40838</th>\n",
              "      <td>2019-07-20</td>\n",
              "      <td>Papua New Guinea</td>\n",
              "      <td>Fiji</td>\n",
              "      <td>1</td>\n",
              "      <td>1</td>\n",
              "      <td>Pacific Games</td>\n",
              "      <td>Apia</td>\n",
              "      <td>Samoa</td>\n",
              "      <td>True</td>\n",
              "    </tr>\n",
              "  </tbody>\n",
              "</table>\n",
              "</div>"
            ],
            "text/plain": [
              "             date         home_team  ... country  neutral\n",
              "40834  2019-07-18    American Samoa  ...   Samoa     True\n",
              "40835  2019-07-18              Fiji  ...   Samoa     True\n",
              "40836  2019-07-19           Senegal  ...   Egypt     True\n",
              "40837  2019-07-19        Tajikistan  ...   India     True\n",
              "40838  2019-07-20  Papua New Guinea  ...   Samoa     True\n",
              "\n",
              "[5 rows x 9 columns]"
            ]
          },
          "metadata": {},
          "execution_count": 18
        }
      ]
    },
    {
      "cell_type": "code",
      "metadata": {
        "colab": {
          "base_uri": "https://localhost:8080/"
        },
        "id": "7mXP58YqYsBr",
        "outputId": "40ad67a2-954e-43fa-f249-3b4f984f8c98"
      },
      "source": [
        "results.shape"
      ],
      "execution_count": 19,
      "outputs": [
        {
          "output_type": "execute_result",
          "data": {
            "text/plain": [
              "(40839, 9)"
            ]
          },
          "metadata": {},
          "execution_count": 19
        }
      ]
    },
    {
      "cell_type": "code",
      "metadata": {
        "colab": {
          "base_uri": "https://localhost:8080/"
        },
        "id": "Nab9BcRzZXif",
        "outputId": "fbdcda4d-1b3c-4cfd-d765-edadf43ebf49"
      },
      "source": [
        "results.info()"
      ],
      "execution_count": 20,
      "outputs": [
        {
          "output_type": "stream",
          "name": "stdout",
          "text": [
            "<class 'pandas.core.frame.DataFrame'>\n",
            "RangeIndex: 40839 entries, 0 to 40838\n",
            "Data columns (total 9 columns):\n",
            " #   Column      Non-Null Count  Dtype \n",
            "---  ------      --------------  ----- \n",
            " 0   date        40839 non-null  object\n",
            " 1   home_team   40839 non-null  object\n",
            " 2   away_team   40839 non-null  object\n",
            " 3   home_score  40839 non-null  int64 \n",
            " 4   away_score  40839 non-null  int64 \n",
            " 5   tournament  40839 non-null  object\n",
            " 6   city        40839 non-null  object\n",
            " 7   country     40839 non-null  object\n",
            " 8   neutral     40839 non-null  bool  \n",
            "dtypes: bool(1), int64(2), object(6)\n",
            "memory usage: 2.5+ MB\n"
          ]
        }
      ]
    },
    {
      "cell_type": "code",
      "metadata": {
        "colab": {
          "base_uri": "https://localhost:8080/"
        },
        "id": "8vjMj1f5ZbpM",
        "outputId": "9c2455ea-be99-4f15-a997-8e6f1347d6f0"
      },
      "source": [
        "results.columns"
      ],
      "execution_count": 21,
      "outputs": [
        {
          "output_type": "execute_result",
          "data": {
            "text/plain": [
              "Index(['date', 'home_team', 'away_team', 'home_score', 'away_score',\n",
              "       'tournament', 'city', 'country', 'neutral'],\n",
              "      dtype='object')"
            ]
          },
          "metadata": {},
          "execution_count": 21
        }
      ]
    },
    {
      "cell_type": "markdown",
      "metadata": {
        "id": "_yNMo2yBSdfk"
      },
      "source": [
        "##### CLEANING"
      ]
    },
    {
      "cell_type": "markdown",
      "metadata": {
        "id": "kNNh3uZiaoMO"
      },
      "source": [
        "to create our models we do not need the city and neutral columns so i'm going to drop them"
      ]
    },
    {
      "cell_type": "code",
      "metadata": {
        "colab": {
          "base_uri": "https://localhost:8080/",
          "height": 138
        },
        "id": "ah5QaU64br6V",
        "outputId": "0a1139e5-a73b-43df-e7c3-537e082d0e3e"
      },
      "source": [
        "results = results.drop(columns=['city','neutral'], axis=1,inplace=False)\n",
        "results.head(3)"
      ],
      "execution_count": 22,
      "outputs": [
        {
          "output_type": "execute_result",
          "data": {
            "text/html": [
              "<div>\n",
              "<style scoped>\n",
              "    .dataframe tbody tr th:only-of-type {\n",
              "        vertical-align: middle;\n",
              "    }\n",
              "\n",
              "    .dataframe tbody tr th {\n",
              "        vertical-align: top;\n",
              "    }\n",
              "\n",
              "    .dataframe thead th {\n",
              "        text-align: right;\n",
              "    }\n",
              "</style>\n",
              "<table border=\"1\" class=\"dataframe\">\n",
              "  <thead>\n",
              "    <tr style=\"text-align: right;\">\n",
              "      <th></th>\n",
              "      <th>date</th>\n",
              "      <th>home_team</th>\n",
              "      <th>away_team</th>\n",
              "      <th>home_score</th>\n",
              "      <th>away_score</th>\n",
              "      <th>tournament</th>\n",
              "      <th>country</th>\n",
              "    </tr>\n",
              "  </thead>\n",
              "  <tbody>\n",
              "    <tr>\n",
              "      <th>0</th>\n",
              "      <td>1872-11-30</td>\n",
              "      <td>Scotland</td>\n",
              "      <td>England</td>\n",
              "      <td>0</td>\n",
              "      <td>0</td>\n",
              "      <td>Friendly</td>\n",
              "      <td>Scotland</td>\n",
              "    </tr>\n",
              "    <tr>\n",
              "      <th>1</th>\n",
              "      <td>1873-03-08</td>\n",
              "      <td>England</td>\n",
              "      <td>Scotland</td>\n",
              "      <td>4</td>\n",
              "      <td>2</td>\n",
              "      <td>Friendly</td>\n",
              "      <td>England</td>\n",
              "    </tr>\n",
              "    <tr>\n",
              "      <th>2</th>\n",
              "      <td>1874-03-07</td>\n",
              "      <td>Scotland</td>\n",
              "      <td>England</td>\n",
              "      <td>2</td>\n",
              "      <td>1</td>\n",
              "      <td>Friendly</td>\n",
              "      <td>Scotland</td>\n",
              "    </tr>\n",
              "  </tbody>\n",
              "</table>\n",
              "</div>"
            ],
            "text/plain": [
              "         date home_team away_team  home_score  away_score tournament   country\n",
              "0  1872-11-30  Scotland   England           0           0   Friendly  Scotland\n",
              "1  1873-03-08   England  Scotland           4           2   Friendly   England\n",
              "2  1874-03-07  Scotland   England           2           1   Friendly  Scotland"
            ]
          },
          "metadata": {},
          "execution_count": 22
        }
      ]
    },
    {
      "cell_type": "markdown",
      "metadata": {
        "id": "NZ44i7NAZwVX"
      },
      "source": [
        "anomalies"
      ]
    },
    {
      "cell_type": "code",
      "metadata": {
        "colab": {
          "base_uri": "https://localhost:8080/"
        },
        "id": "tyIacvooZx7j",
        "outputId": "f438f7c3-cea6-415e-f681-4eb1041887de"
      },
      "source": [
        "column = results.columns.to_list()\n",
        "\n",
        "for column in column:\n",
        "    print(\"\\n\")\n",
        "    print(\"Column Name:\", column)\n",
        "    print(results[column].unique())"
      ],
      "execution_count": 23,
      "outputs": [
        {
          "output_type": "stream",
          "name": "stdout",
          "text": [
            "\n",
            "\n",
            "Column Name: date\n",
            "['1872-11-30' '1873-03-08' '1874-03-07' ... '2019-07-18' '2019-07-19'\n",
            " '2019-07-20']\n",
            "\n",
            "\n",
            "Column Name: home_team\n",
            "['Scotland' 'England' 'Wales' 'Northern Ireland' 'United States' 'Uruguay'\n",
            " 'Austria' 'Hungary' 'Argentina' 'Belgium' 'France' 'Netherlands'\n",
            " 'Czechoslovakia' 'Switzerland' 'Sweden' 'Germany' 'Italy' 'Chile'\n",
            " 'Norway' 'Finland' 'Luxembourg' 'Russia' 'Denmark' 'Catalonia'\n",
            " 'Basque Country' 'Brazil' 'Japan' 'Paraguay' 'Canada' 'Estonia'\n",
            " 'Costa Rica' 'Guatemala' 'Spain' 'Brittany' 'Poland' 'Yugoslavia'\n",
            " 'New Zealand' 'Romania' 'Latvia' 'Galicia' 'Portugal' 'Andalusia'\n",
            " 'China PR' 'Australia' 'Lithuania' 'Turkey' 'Central Spain' 'Mexico'\n",
            " 'Aruba' 'Egypt' 'Haiti' 'Philippines' 'Bulgaria' 'Jamaica' 'Kenya'\n",
            " 'Bolivia' 'Peru' 'Honduras' 'Guyana' 'Uganda' 'Belarus' 'El Salvador'\n",
            " 'Barbados' 'Republic of Ireland' 'Trinidad and Tobago' 'Greece' 'Curaçao'\n",
            " 'Dominica' 'Silesia' 'Guadeloupe' 'Israel' 'Suriname' 'French Guiana'\n",
            " 'Cuba' 'Colombia' 'Ecuador' 'Saint Kitts and Nevis' 'Panama' 'Slovakia'\n",
            " 'Manchukuo' 'Croatia' 'Nicaragua' 'Afghanistan' 'India' 'Martinique'\n",
            " 'Zimbabwe' 'Iceland' 'Albania' 'Madagascar' 'Zambia' 'Mauritius'\n",
            " 'Tanzania' 'Iran' 'Djibouti' 'DR Congo' 'Vietnam' 'Macau' 'Ethiopia'\n",
            " 'Puerto Rico' 'Réunion' 'Sierra Leone' 'Zanzibar' 'South Korea' 'Ghana'\n",
            " 'South Africa' 'New Caledonia' 'Fiji' 'Nigeria' 'Venezuela' 'Burma'\n",
            " 'Sri Lanka' 'Tahiti' 'Gambia' 'Hong Kong' 'Singapore' 'Malaysia'\n",
            " 'Indonesia' 'Guinea-Bissau' 'German DR' 'Vanuatu' 'Kernow' 'Saarland'\n",
            " 'Cambodia' 'Lebanon' 'Pakistan' 'Vietnam Republic' 'North Korea' 'Togo'\n",
            " 'Sudan' 'Malta' 'Syria' 'Tunisia' 'Malawi' 'Morocco' 'Benin' 'Cameroon'\n",
            " 'Central African Republic' 'Gabon' 'Ivory Coast' 'Congo' 'Mali'\n",
            " 'North Vietnam' 'Mongolia' 'Chinese Taipei' 'Cyprus' 'Iraq' 'Saint Lucia'\n",
            " 'Grenada' 'Thailand' 'Senegal' 'Libya' 'Guinea' 'Algeria' 'Kuwait'\n",
            " 'Jordan' 'Solomon Islands' 'Liberia' 'Laos'\n",
            " 'Saint Vincent and the Grenadines' 'Bermuda' 'Niger' 'Bahrain'\n",
            " 'Montenegro' 'Palestine' 'Papua New Guinea' 'Burkina Faso' 'Mauritania'\n",
            " 'Saudi Arabia' 'Eswatini' 'Somalia' 'Lesotho' 'Cook Islands' 'Qatar'\n",
            " 'Antigua and Barbuda' 'Faroe Islands' 'Bangladesh' 'Oman' 'Yemen DPR'\n",
            " 'Burundi' 'Yemen' 'Mozambique' 'Guam' 'Chad' 'Angola'\n",
            " 'Dominican Republic' 'Seychelles' 'Rwanda' 'São Tomé and Príncipe'\n",
            " 'Botswana' 'Northern Cyprus' 'Cape Verde' 'Kyrgyzstan' 'Georgia'\n",
            " 'Azerbaijan' 'Kiribati' 'Tonga' 'Wallis Islands and Futuna'\n",
            " 'United Arab Emirates' 'Brunei' 'Equatorial Guinea' 'Liechtenstein'\n",
            " 'Nepal' 'Greenland' 'Niue' 'Samoa' 'American Samoa' 'Belize' 'Anguilla'\n",
            " 'Cayman Islands' 'Palau' 'Sint Maarten' 'Namibia' 'Åland Islands'\n",
            " 'Ynys Môn' 'Saint Martin' 'San Marino' 'Slovenia' 'Jersey' 'Shetland'\n",
            " 'Isle of Wight' 'Moldova' 'Ukraine' 'Kazakhstan' 'Tajikistan'\n",
            " 'Uzbekistan' 'Turkmenistan' 'Armenia' 'Czech Republic' 'Guernsey'\n",
            " 'Gibraltar' 'Isle of Man' 'North Macedonia' 'Montserrat' 'Serbia'\n",
            " 'Canary Islands' 'Bosnia and Herzegovina' 'Maldives' 'Andorra'\n",
            " 'British Virgin Islands' 'Frøya' 'Hitra' 'U.S. Virgin Islands' 'Corsica'\n",
            " 'Eritrea' 'Bahamas' 'Gotland' 'Saare County' 'Rhodes' 'Micronesia'\n",
            " 'Bhutan' 'Orkney' 'Monaco' 'Tuvalu' 'Sark' 'Alderney' 'Mayotte'\n",
            " 'Turks and Caicos Islands' 'East Timor' 'Western Isles'\n",
            " 'Falkland Islands' 'Kosovo' 'Republic of St. Pauli' 'Găgăuzia' 'Tibet'\n",
            " 'Crimea' 'Occitania' 'Sápmi' 'Northern Mariana Islands' 'Menorca'\n",
            " 'Comoros' 'Provence' 'Arameans Suryoye' 'Padania' 'Iraqi Kurdistan'\n",
            " 'Gozo' 'Bonaire' 'Western Sahara' 'Raetia' 'Darfur' 'Tamil Eelam'\n",
            " 'South Sudan' 'Abkhazia' 'St. Pierre & Miquelon' 'Artsakh' 'Madrid'\n",
            " 'Vatican City' 'Ellan Vannin' 'South Ossetia' 'County of Nice'\n",
            " 'Székely Land' 'Romani people' 'Felvidék' 'Chagos Islands'\n",
            " 'United Koreans in Japan' 'Somaliland' 'Western Armenia' 'Barawa'\n",
            " 'Kárpátalja' 'Yorkshire' 'Panjab' 'Matabeleland' 'Cascadia' 'Kabylia'\n",
            " 'Timor-Leste' 'Myanmar' 'Parishes of Jersey' 'Chameria' 'Saint Helena'\n",
            " 'Curacao']\n",
            "\n",
            "\n",
            "Column Name: away_team\n",
            "['England' 'Scotland' 'Wales' 'Northern Ireland' 'Canada' 'Argentina'\n",
            " 'Hungary' 'Czechoslovakia' 'Uruguay' 'France' 'Austria' 'Switzerland'\n",
            " 'Netherlands' 'Belgium' 'Germany' 'Norway' 'Sweden' 'Italy' 'Chile'\n",
            " 'Catalonia' 'Finland' 'Russia' 'Luxembourg' 'Denmark' 'Brazil'\n",
            " 'Basque Country' 'United States' 'Philippines' 'Estonia' 'Provence'\n",
            " 'El Salvador' 'Costa Rica' 'Paraguay' 'Yugoslavia' 'Poland' 'Portugal'\n",
            " 'Spain' 'Romania' 'Australia' 'Central Spain' 'Mexico' 'Galicia'\n",
            " 'Brittany' 'Asturias' 'China PR' 'New Zealand' 'Latvia' 'Guatemala'\n",
            " 'Curaçao' 'Bulgaria' 'Lithuania' 'Turkey' 'Egypt' 'South Africa'\n",
            " 'Jamaica' 'Japan' 'Republic of Ireland' 'Uganda' 'Bolivia' 'Haiti'\n",
            " 'Trinidad and Tobago' 'Kenya' 'Ukraine' 'Honduras' 'Nicaragua' 'Greece'\n",
            " 'Guyana' 'Peru' 'Aruba' 'Martinique' 'Barbados' 'Cuba' 'Israel'\n",
            " 'Indonesia' 'Suriname' 'Saint Lucia' 'Ecuador' 'Venezuela' 'Grenada'\n",
            " 'India' 'Panama' 'Slovakia' 'Croatia' 'Lebanon' 'Manchukuo' 'Puerto Rico'\n",
            " 'Iran' 'Guadeloupe' 'Mongolia' 'Colombia' 'Tanzania' 'Zambia'\n",
            " 'Montenegro' 'Mauritius' 'Zimbabwe' 'French Guiana' 'Réunion' 'Albania'\n",
            " 'Zanzibar' 'Ethiopia' 'Madagascar' 'Dominica' 'South Korea' 'Djibouti'\n",
            " 'Dominican Republic' 'Cyprus' 'Iceland' 'Nigeria' 'Syria' 'DR Congo'\n",
            " 'Serbia' 'Chinese Taipei' 'Afghanistan' 'Vanuatu' 'Ghana' 'Pakistan'\n",
            " 'German DR' 'Sierra Leone' 'Guinea-Bissau' 'Gambia' 'Saarland' 'Tahiti'\n",
            " 'Burundi' 'Sri Lanka' 'Thailand' 'Burma' 'New Caledonia' 'Cambodia'\n",
            " 'Malaysia' 'Vietnam Republic' 'Kyrgyzstan' 'Belarus' 'Moldova'\n",
            " 'North Vietnam' 'Togo' 'North Korea' 'Sudan' 'Libya' 'Hong Kong'\n",
            " 'Singapore' 'Malta' 'Benin' 'Cape Verde' 'Mali' 'Burkina Faso'\n",
            " 'Ivory Coast' 'Cameroon' 'Iraq' 'Tunisia' 'Morocco'\n",
            " 'Saint Vincent and the Grenadines' 'Guinea' 'Congo' 'Gabon' 'Malawi'\n",
            " 'Jordan' 'Senegal' 'Kuwait' 'Papua New Guinea' 'Solomon Islands'\n",
            " 'Liberia' 'Somalia' 'Laos' 'Saudi Arabia' 'Algeria' 'Chad'\n",
            " 'Central African Republic' 'Bermuda' 'Palestine' 'Yemen' 'Bahrain'\n",
            " 'Wallis Islands and Futuna' 'Niger' 'Corsica' 'Western Australia'\n",
            " 'Botswana' 'Fiji' 'Eswatini' 'Qatar' 'Lesotho' 'Bahamas' 'Brunei'\n",
            " 'Cook Islands' 'Yemen DPR' 'United Arab Emirates' 'Faroe Islands' 'Nepal'\n",
            " 'Antigua and Barbuda' 'Bangladesh' 'Seychelles' 'Oman'\n",
            " 'Equatorial Guinea' 'Mozambique' 'Mauritania' 'Angola'\n",
            " 'São Tomé and Príncipe' 'Macau' 'Saint Kitts and Nevis' 'Armenia'\n",
            " 'Kazakhstan' 'Tonga' 'Kiribati' 'Tuvalu' 'Samoa' 'Greenland'\n",
            " 'Northern Cyprus' 'Rwanda' 'Liechtenstein' 'Bhutan' 'American Samoa'\n",
            " 'Cayman Islands' 'British Virgin Islands' 'Sint Maarten' 'Ynys Môn'\n",
            " 'Shetland' 'Åland Islands' 'Saint Martin' 'San Marino' 'Montserrat'\n",
            " 'Anguilla' 'Guernsey' 'Isle of Wight' 'Jersey' 'Georgia' 'Guam'\n",
            " 'Turkmenistan' 'Slovenia' 'Uzbekistan' 'Eritrea' 'Tajikistan' 'Namibia'\n",
            " 'Azerbaijan' 'Czech Republic' 'Vietnam' 'Isle of Man' 'Gibraltar'\n",
            " 'North Macedonia' 'Belize' 'Bosnia and Herzegovina' 'Maldives' 'Andorra'\n",
            " 'Frøya' 'Hitra' 'Northern Mariana Islands' 'Kernow'\n",
            " 'Turks and Caicos Islands' 'U.S. Virgin Islands' 'Micronesia'\n",
            " 'Saare County' 'Rhodes' 'Tibet' 'Orkney' 'Falkland Islands' 'Mayotte'\n",
            " 'Monaco' 'Vatican City' 'East Timor' 'Gotland' 'Alderney' 'Sark'\n",
            " 'Western Isles' 'Sápmi' 'Crimea' 'Comoros' 'Menorca' 'Iraqi Kurdistan'\n",
            " 'Padania' 'Arameans Suryoye' 'Occitania' 'Gozo' 'Two Sicilies'\n",
            " 'St. Pierre & Miquelon' 'Bonaire' 'Western Sahara' 'Raetia' 'Darfur'\n",
            " 'Tamil Eelam' 'Artsakh' 'Abkhazia' 'South Sudan' 'Andalusia'\n",
            " 'South Ossetia' 'County of Nice' 'Ellan Vannin' 'Romani people'\n",
            " 'Felvidék' 'Chagos Islands' 'Székely Land' 'Somaliland' 'Western Armenia'\n",
            " 'Panjab' 'Kosovo' 'Kárpátalja' 'Yorkshire' 'Surrey' 'Cascadia'\n",
            " 'Matabeleland' 'Kabylia' 'United Koreans in Japan' 'Timor-Leste'\n",
            " 'Myanmar' 'Barawa' 'Parishes of Jersey' 'Chameria' 'Saint Helena'\n",
            " 'Curacao']\n",
            "\n",
            "\n",
            "Column Name: home_score\n",
            "[ 0  4  2  3  1  7  9  5  6  8 11 13 12 10 15 14 30 24 18 16 19 20 17 22\n",
            " 31 21]\n",
            "\n",
            "\n",
            "Column Name: away_score\n",
            "[ 0  2  1  3  4  6  5 13  8  7 10  9 11 12 15 18 16 14 19 20 17 21]\n",
            "\n",
            "\n",
            "Column Name: tournament\n",
            "['Friendly' 'British Championship' 'Copa Lipton' 'Copa Newton'\n",
            " 'Copa Premio Honor Argentino' 'Copa Premio Honor Uruguayo' 'Copa Roca'\n",
            " 'Copa América' 'Copa Chevallier Boutell' 'Nordic Championship'\n",
            " 'International Cup' 'Baltic Cup' 'Balkan Cup' 'FIFA World Cup'\n",
            " 'Copa Rio Branco' 'FIFA World Cup qualification' 'CCCF Championship'\n",
            " 'NAFU Championship' 'Copa Oswaldo Cruz' 'Pan American Championship'\n",
            " 'Copa del Pacífico' \"Copa Bernardo O'Higgins\"\n",
            " 'AFC Asian Cup qualification' 'Atlantic Cup' 'AFC Asian Cup'\n",
            " 'African Cup of Nations' 'Copa Paz del Chaco' 'Merdeka Tournament'\n",
            " 'UEFA Euro qualification' 'UEFA Euro' 'Windward Islands Tournament'\n",
            " 'African Cup of Nations qualification' 'Vietnam Independence Cup'\n",
            " 'Copa Carlos Dittborn' 'CONCACAF Championship' 'Copa Juan Pinto Durán'\n",
            " 'UAFA Cup' 'South Pacific Games' 'CONCACAF Championship qualification'\n",
            " 'Copa Artigas' 'GaNEFo' \"King's Cup\" 'Gulf Cup' 'Indonesia Tournament'\n",
            " 'Korea Cup' 'Brazil Independence Cup' 'Copa Ramón Castilla'\n",
            " 'Oceania Nations Cup' 'CECAFA Cup' 'Copa Félix Bogado' 'Kirin Cup'\n",
            " 'CFU Caribbean Cup qualification' 'CFU Caribbean Cup'\n",
            " 'Amílcar Cabral Cup' 'Mundialito' 'West African Cup' 'Nehru Cup'\n",
            " 'Merlion Cup' 'UDEAC Cup' 'Rous Cup' 'Lunar New Year Cup'\n",
            " 'Tournoi de France' 'Malta International Tournament' 'Island Games'\n",
            " 'Dynasty Cup' 'UNCAF Cup' 'Gold Cup' 'USA Cup'\n",
            " 'Jordan International Tournament' 'Confederations Cup'\n",
            " 'United Arab Emirates Friendship Tournament'\n",
            " 'Oceania Nations Cup qualification' 'Simba Tournament' 'SAFF Cup'\n",
            " 'AFF Championship' 'King Hassan II Tournament'\n",
            " 'Cyprus International Tournament' 'Dunhill Cup' 'COSAFA Cup'\n",
            " 'Gold Cup qualification' 'SKN Football Festival' 'UNIFFAC Cup'\n",
            " 'WAFF Championship' 'Millennium Cup' \"Prime Minister's Cup\"\n",
            " 'EAFF Championship' 'AFC Challenge Cup' 'FIFI Wild Cup' 'ELF Cup'\n",
            " 'Viva World Cup' 'UAFA Cup qualification'\n",
            " 'AFC Challenge Cup qualification' 'African Nations Championship'\n",
            " 'VFF Cup' 'Dragon Cup' 'ABCS Tournament' 'Nile Basin Tournament'\n",
            " 'Nations Cup' 'Pacific Games' 'OSN Cup' 'CONIFA World Football Cup'\n",
            " 'CONIFA European Football Cup' 'Copa América qualification'\n",
            " 'World Unity Cup' 'Intercontinental Cup' 'AFF Championship qualification'\n",
            " 'UEFA Nations League' 'Atlantic Heritage Cup'\n",
            " 'Inter Games Football Tournament']\n",
            "\n",
            "\n",
            "Column Name: country\n",
            "['Scotland' 'England' 'Wales' 'Republic of Ireland' 'United States'\n",
            " 'Uruguay' 'Austria' 'Hungary' 'Argentina' 'Belgium' 'France'\n",
            " 'Netherlands' 'Bohemia' 'Switzerland' 'Sweden' 'Germany' 'Italy' 'Chile'\n",
            " 'Norway' 'Finland' 'Luxembourg' 'Russia' 'Denmark' 'Spain' 'Japan'\n",
            " 'Brazil' 'Paraguay' 'China PR' 'Canada' 'Estonia' 'Guatemala'\n",
            " 'Czechoslovakia' 'Poland' 'Yugoslavia' 'New Zealand' 'Romania' 'Latvia'\n",
            " 'Portugal' 'Northern Ireland' 'Australia' 'Lithuania' 'Turkey' 'Mexico'\n",
            " 'Aruba' 'Soviet Union' 'Haiti' 'Philippines' 'Bulgaria' 'Jamaica' 'Kenya'\n",
            " 'Czech Republic' 'Peru' 'Honduras' 'British Guyana' 'Uganda'\n",
            " 'El Salvador' 'Barbados' 'Irish Free State' 'Trinidad and Tobago'\n",
            " 'Greece' 'Curaçao' 'Egypt' 'Dominica' 'Guadeloupe' 'Palestine'\n",
            " 'Netherlands Guyana' 'French Guiana' 'Cuba' 'Colombia'\n",
            " 'Saint Kitts and Nevis' 'Éire' 'Panama' 'Bohemia and Moravia' 'Slovakia'\n",
            " 'Manchuria' 'Croatia' 'Costa Rica' 'Afghanistan' 'Martinique'\n",
            " 'Southern Rhodesia' 'Iceland' 'Albania' 'Madagascar' 'Northern Rhodesia'\n",
            " 'Tanganyika' 'Iran' 'Ecuador' 'French Somaliland' 'Belgian Congo'\n",
            " 'Mauritius' 'Hong Kong' 'Vietnam' 'Macau' 'Ethiopia' 'Suriname'\n",
            " 'Puerto Rico' 'Réunion' 'Israel' 'Sierra Leone' 'Zanzibar' 'Bolivia'\n",
            " 'Gold Coast' 'South Africa' 'Netherlands Antilles' 'New Caledonia' 'Fiji'\n",
            " 'Nigeria' 'Venezuela' 'Ceylon' 'French Polynesia' 'Gambia' 'Singapore'\n",
            " 'Portuguese Guinea' 'German DR' 'New Hebrides' 'Burma' 'Saarland'\n",
            " 'Cambodia' 'India' 'Lebanon' 'Pakistan' 'Malaya' 'South Korea'\n",
            " 'Vietnam Republic' 'Togo' 'Indonesia' 'Sudan' 'Malta' 'Syria' 'Tunisia'\n",
            " 'Nyasaland' 'Ghana' 'Morocco' 'United Arab Republic' 'North Korea'\n",
            " 'Dahomey' 'Guinea-Bissau' 'Mali Federation' 'Mali' 'Vietnam DR' 'Cyprus'\n",
            " 'Iraq' 'Saint Lucia' 'Senegal' 'Libya' 'Gabon' 'Thailand' 'Congo'\n",
            " 'Tanzania' 'Grenada' 'Guinea' 'Central African Republic' 'Cameroon'\n",
            " 'Algeria' 'Kuwait' 'Ivory Coast' 'Lautoka' 'Liberia' 'Malaysia' 'Jordan'\n",
            " 'Zambia' 'Saint Vincent and the Grenadines' 'Bermuda' 'Niger' 'Malawi'\n",
            " 'DR Congo' 'Upper Volta' 'Chinese Taipei' 'Guyana' 'Mauritania'\n",
            " 'Rhodesia' 'Saudi Arabia' 'Eswatini' 'Mozambique' 'Papua New Guinea'\n",
            " 'Bahrain' 'Lesotho' 'Somalia' 'Zaïre' 'Sri Lanka' 'Antigua and Barbuda'\n",
            " 'Faroe Islands' 'Qatar' 'Yemen DPR' 'Burundi' 'Guam' 'Chad' 'Angola'\n",
            " 'Dominican Republic' 'Seychelles' 'São Tomé and Príncipe' 'Botswana'\n",
            " 'Benin' 'Rwanda' 'Bangladesh' 'United Arab Emirates' 'Zimbabwe' 'Oman'\n",
            " 'Equatorial Guinea' 'Cape Verde' 'Liechtenstein' 'Nepal' 'Greenland'\n",
            " 'Vanuatu' 'Western Samoa' 'Belize' 'Brunei' 'Djibouti' 'Burkina Faso'\n",
            " 'Yemen AR' 'Anguilla' 'Nicaragua' 'Cayman Islands' 'Monaco'\n",
            " 'Solomon Islands' 'Sint Maarten' 'Namibia' 'Saint Martin' 'San Marino'\n",
            " 'Slovenia' 'Moldova' 'Ukraine' 'Kazakhstan' 'Tajikistan' 'Uzbekistan'\n",
            " 'Turkmenistan' 'Georgia' 'Kyrgyzstan' 'Armenia' 'Belarus' 'Guernsey'\n",
            " 'Azerbaijan' 'North Macedonia' 'Jersey' 'Montserrat' 'Gibraltar'\n",
            " 'Bosnia and Herzegovina' 'Tonga' 'Andorra' 'Yemen' 'U.S. Virgin Islands'\n",
            " 'Palau' 'Cook Islands' 'British Virgin Islands' 'Eritrea' 'Bahamas'\n",
            " 'Micronesia' 'Maldives' 'Laos' 'Isle of Man' 'Samoa' 'Bhutan'\n",
            " 'Serbia and Montenegro' 'Mayotte' 'Mongolia' 'Northern Cyprus' 'Serbia'\n",
            " 'Montenegro' 'Northern Mariana Islands' 'Comoros'\n",
            " 'Turks and Caicos Islands' 'South Sudan' 'Kosovo' 'East Timor' 'Tahiti'\n",
            " 'Myanmar']\n"
          ]
        }
      ]
    },
    {
      "cell_type": "markdown",
      "metadata": {
        "id": "VIliq5CpdFGf"
      },
      "source": [
        "outliers\n"
      ]
    },
    {
      "cell_type": "code",
      "metadata": {
        "colab": {
          "base_uri": "https://localhost:8080/"
        },
        "id": "5K98hikLV_7x",
        "outputId": "b2b397f0-92ce-4938-ec94-21c566523979"
      },
      "source": [
        "results.columns"
      ],
      "execution_count": 24,
      "outputs": [
        {
          "output_type": "execute_result",
          "data": {
            "text/plain": [
              "Index(['date', 'home_team', 'away_team', 'home_score', 'away_score',\n",
              "       'tournament', 'country'],\n",
              "      dtype='object')"
            ]
          },
          "metadata": {},
          "execution_count": 24
        }
      ]
    },
    {
      "cell_type": "markdown",
      "metadata": {
        "id": "apMBpBhxah47"
      },
      "source": [
        "checking for outliers, missing values and duplicates"
      ]
    },
    {
      "cell_type": "code",
      "metadata": {
        "colab": {
          "base_uri": "https://localhost:8080/",
          "height": 621
        },
        "id": "vkq1aWtsdDqb",
        "outputId": "1847ba4f-0987-4ae2-91ac-441437019846"
      },
      "source": [
        "col_names = ['home_score', 'away_score']\n",
        "fig, ax = plt.subplots(len(col_names), figsize = (16,10))\n",
        "for i, col_val in enumerate(col_names):\n",
        "\n",
        "    sns.boxplot(x = results[col_val], ax=ax[i])\n",
        "    ax[i].set_title('A boxplot on the {} column'.format(col_val), fontsize=14)\n",
        "    ax[i].set_xlabel(col_val, fontsize=8)\n",
        "plt.show()"
      ],
      "execution_count": 25,
      "outputs": [
        {
          "output_type": "display_data",
          "data": {
            "image/png": "[encoded data removed]",
            "text/plain": [
              "<Figure size 1152x720 with 2 Axes>"
            ]
          },
          "metadata": {
            "needs_background": "light"
          }
        }
      ]
    },
    {
      "cell_type": "code",
      "metadata": {
        "id": "_AZal0-8AYBm"
      },
      "source": [
        "# removing outliers\n",
        "def mod_outlier(results):\n",
        "        data1 = results.copy()\n",
        "        results = results._get_numeric_data()\n",
        "\n",
        "\n",
        "        q1 = results.quantile(0.25)\n",
        "        q3 = results.quantile(0.75)\n",
        "\n",
        "        iqr = q3 - q1\n",
        "\n",
        "        lower_bound = q1 -(1.5 * iqr) \n",
        "        upper_bound = q3 +(1.5 * iqr)\n",
        "\n",
        "\n",
        "        for col in results.columns:\n",
        "            for i in range(0,len(results[col])):\n",
        "                if results[col][i] < lower_bound[col]:            \n",
        "                    results[col][i] = lower_bound[col]\n",
        "\n",
        "                if results[col][i] > upper_bound[col]:            \n",
        "                    results[col][i] = upper_bound[col]    \n",
        "\n",
        "\n",
        "        for col in results.columns:\n",
        "            data1[col] = results[col]\n",
        "\n",
        "        return(data1)"
      ],
      "execution_count": 26,
      "outputs": []
    },
    {
      "cell_type": "markdown",
      "metadata": {
        "id": "Dp9DZIKbBXbu"
      },
      "source": [
        "we are removing the outliers because they will distort our analysis and results"
      ]
    },
    {
      "cell_type": "code",
      "metadata": {
        "id": "VSHXJwrwBIlY"
      },
      "source": [
        "results=mod_outlier(results)"
      ],
      "execution_count": 27,
      "outputs": []
    },
    {
      "cell_type": "code",
      "metadata": {
        "colab": {
          "base_uri": "https://localhost:8080/",
          "height": 621
        },
        "id": "lROWSgpXBR9E",
        "outputId": "6cf25804-e0e1-4b22-fedd-61de32751638"
      },
      "source": [
        "col_names = ['home_score', 'away_score']\n",
        "fig, ax = plt.subplots(len(col_names), figsize = (16,10))\n",
        "for i, col_val in enumerate(col_names):\n",
        "\n",
        "    sns.boxplot(x = results[col_val], ax=ax[i])\n",
        "    ax[i].set_title('A boxplot on the {} column'.format(col_val), fontsize=14)\n",
        "    ax[i].set_xlabel(col_val, fontsize=8)\n",
        "plt.show()"
      ],
      "execution_count": 28,
      "outputs": [
        {
          "output_type": "display_data",
          "data": {
            "image/png": "[encoded data removed]",
            "text/plain": [
              "<Figure size 1152x720 with 2 Axes>"
            ]
          },
          "metadata": {
            "needs_background": "light"
          }
        }
      ]
    },
    {
      "cell_type": "code",
      "metadata": {
        "colab": {
          "base_uri": "https://localhost:8080/"
        },
        "id": "aw-qfiZxZvay",
        "outputId": "fc4410e0-3a00-4e3b-89f6-4974bcd57abe"
      },
      "source": [
        "results.isnull().sum()"
      ],
      "execution_count": 29,
      "outputs": [
        {
          "output_type": "execute_result",
          "data": {
            "text/plain": [
              "date          0\n",
              "home_team     0\n",
              "away_team     0\n",
              "home_score    0\n",
              "away_score    0\n",
              "tournament    0\n",
              "country       0\n",
              "dtype: int64"
            ]
          },
          "metadata": {},
          "execution_count": 29
        }
      ]
    },
    {
      "cell_type": "code",
      "metadata": {
        "colab": {
          "base_uri": "https://localhost:8080/"
        },
        "id": "MxMwLenJZy92",
        "outputId": "d2a5dd67-bc13-42b0-e8f5-64268003ac4d"
      },
      "source": [
        "print(results.duplicated().sum())\n",
        "results.drop_duplicates(inplace=True)\n",
        "print(results.duplicated().sum())"
      ],
      "execution_count": 30,
      "outputs": [
        {
          "output_type": "stream",
          "name": "stdout",
          "text": [
            "1\n",
            "0\n"
          ]
        }
      ]
    },
    {
      "cell_type": "code",
      "metadata": {
        "colab": {
          "base_uri": "https://localhost:8080/"
        },
        "id": "AtTRryGwaogP",
        "outputId": "21a7dd3c-8acb-461b-d659-7f53728f9284"
      },
      "source": [
        "results.shape"
      ],
      "execution_count": 31,
      "outputs": [
        {
          "output_type": "execute_result",
          "data": {
            "text/plain": [
              "(40838, 7)"
            ]
          },
          "metadata": {},
          "execution_count": 31
        }
      ]
    },
    {
      "cell_type": "markdown",
      "metadata": {
        "id": "g5UAtX7dSkeE"
      },
      "source": [
        "##### FEATURE ENGINEERING"
      ]
    },
    {
      "cell_type": "markdown",
      "metadata": {
        "id": "fcrvDg6SrOF6"
      },
      "source": [
        "lets convert date column to datetime"
      ]
    },
    {
      "cell_type": "code",
      "metadata": {
        "id": "i9QHeDTurNR_"
      },
      "source": [
        "results['date']=pd.to_datetime(results['date'])"
      ],
      "execution_count": 32,
      "outputs": []
    },
    {
      "cell_type": "markdown",
      "metadata": {
        "id": "K4EmZGbpqgwB"
      },
      "source": [
        "lets split date column to date month and year to be able to understand our dataset further"
      ]
    },
    {
      "cell_type": "code",
      "metadata": {
        "colab": {
          "base_uri": "https://localhost:8080/",
          "height": 408
        },
        "id": "h1mlI-RWqf1-",
        "outputId": "aa7bd48c-e06c-4097-d8f2-1cf2bb1e8e57"
      },
      "source": [
        "results['day'] = results['date'].dt.day\n",
        "results['month']=results['date'].dt.month\n",
        "results['year']=results['date'].dt.year\n",
        "\n",
        "results"
      ],
      "execution_count": 33,
      "outputs": [
        {
          "output_type": "execute_result",
          "data": {
            "text/html": [
              "<div>\n",
              "<style scoped>\n",
              "    .dataframe tbody tr th:only-of-type {\n",
              "        vertical-align: middle;\n",
              "    }\n",
              "\n",
              "    .dataframe tbody tr th {\n",
              "        vertical-align: top;\n",
              "    }\n",
              "\n",
              "    .dataframe thead th {\n",
              "        text-align: right;\n",
              "    }\n",
              "</style>\n",
              "<table border=\"1\" class=\"dataframe\">\n",
              "  <thead>\n",
              "    <tr style=\"text-align: right;\">\n",
              "      <th></th>\n",
              "      <th>date</th>\n",
              "      <th>home_team</th>\n",
              "      <th>away_team</th>\n",
              "      <th>home_score</th>\n",
              "      <th>away_score</th>\n",
              "      <th>tournament</th>\n",
              "      <th>country</th>\n",
              "      <th>day</th>\n",
              "      <th>month</th>\n",
              "      <th>year</th>\n",
              "    </tr>\n",
              "  </thead>\n",
              "  <tbody>\n",
              "    <tr>\n",
              "      <th>0</th>\n",
              "      <td>1872-11-30</td>\n",
              "      <td>Scotland</td>\n",
              "      <td>England</td>\n",
              "      <td>0</td>\n",
              "      <td>0</td>\n",
              "      <td>Friendly</td>\n",
              "      <td>Scotland</td>\n",
              "      <td>30</td>\n",
              "      <td>11</td>\n",
              "      <td>1872</td>\n",
              "    </tr>\n",
              "    <tr>\n",
              "      <th>1</th>\n",
              "      <td>1873-03-08</td>\n",
              "      <td>England</td>\n",
              "      <td>Scotland</td>\n",
              "      <td>3</td>\n",
              "      <td>2</td>\n",
              "      <td>Friendly</td>\n",
              "      <td>England</td>\n",
              "      <td>8</td>\n",
              "      <td>3</td>\n",
              "      <td>1873</td>\n",
              "    </tr>\n",
              "    <tr>\n",
              "      <th>2</th>\n",
              "      <td>1874-03-07</td>\n",
              "      <td>Scotland</td>\n",
              "      <td>England</td>\n",
              "      <td>2</td>\n",
              "      <td>1</td>\n",
              "      <td>Friendly</td>\n",
              "      <td>Scotland</td>\n",
              "      <td>7</td>\n",
              "      <td>3</td>\n",
              "      <td>1874</td>\n",
              "    </tr>\n",
              "    <tr>\n",
              "      <th>3</th>\n",
              "      <td>1875-03-06</td>\n",
              "      <td>England</td>\n",
              "      <td>Scotland</td>\n",
              "      <td>2</td>\n",
              "      <td>2</td>\n",
              "      <td>Friendly</td>\n",
              "      <td>England</td>\n",
              "      <td>6</td>\n",
              "      <td>3</td>\n",
              "      <td>1875</td>\n",
              "    </tr>\n",
              "    <tr>\n",
              "      <th>4</th>\n",
              "      <td>1876-03-04</td>\n",
              "      <td>Scotland</td>\n",
              "      <td>England</td>\n",
              "      <td>3</td>\n",
              "      <td>0</td>\n",
              "      <td>Friendly</td>\n",
              "      <td>Scotland</td>\n",
              "      <td>4</td>\n",
              "      <td>3</td>\n",
              "      <td>1876</td>\n",
              "    </tr>\n",
              "    <tr>\n",
              "      <th>...</th>\n",
              "      <td>...</td>\n",
              "      <td>...</td>\n",
              "      <td>...</td>\n",
              "      <td>...</td>\n",
              "      <td>...</td>\n",
              "      <td>...</td>\n",
              "      <td>...</td>\n",
              "      <td>...</td>\n",
              "      <td>...</td>\n",
              "      <td>...</td>\n",
              "    </tr>\n",
              "    <tr>\n",
              "      <th>40834</th>\n",
              "      <td>2019-07-18</td>\n",
              "      <td>American Samoa</td>\n",
              "      <td>Tahiti</td>\n",
              "      <td>3</td>\n",
              "      <td>1</td>\n",
              "      <td>Pacific Games</td>\n",
              "      <td>Samoa</td>\n",
              "      <td>18</td>\n",
              "      <td>7</td>\n",
              "      <td>2019</td>\n",
              "    </tr>\n",
              "    <tr>\n",
              "      <th>40835</th>\n",
              "      <td>2019-07-18</td>\n",
              "      <td>Fiji</td>\n",
              "      <td>Solomon Islands</td>\n",
              "      <td>3</td>\n",
              "      <td>4</td>\n",
              "      <td>Pacific Games</td>\n",
              "      <td>Samoa</td>\n",
              "      <td>18</td>\n",
              "      <td>7</td>\n",
              "      <td>2019</td>\n",
              "    </tr>\n",
              "    <tr>\n",
              "      <th>40836</th>\n",
              "      <td>2019-07-19</td>\n",
              "      <td>Senegal</td>\n",
              "      <td>Algeria</td>\n",
              "      <td>0</td>\n",
              "      <td>1</td>\n",
              "      <td>African Cup of Nations</td>\n",
              "      <td>Egypt</td>\n",
              "      <td>19</td>\n",
              "      <td>7</td>\n",
              "      <td>2019</td>\n",
              "    </tr>\n",
              "    <tr>\n",
              "      <th>40837</th>\n",
              "      <td>2019-07-19</td>\n",
              "      <td>Tajikistan</td>\n",
              "      <td>North Korea</td>\n",
              "      <td>0</td>\n",
              "      <td>1</td>\n",
              "      <td>Intercontinental Cup</td>\n",
              "      <td>India</td>\n",
              "      <td>19</td>\n",
              "      <td>7</td>\n",
              "      <td>2019</td>\n",
              "    </tr>\n",
              "    <tr>\n",
              "      <th>40838</th>\n",
              "      <td>2019-07-20</td>\n",
              "      <td>Papua New Guinea</td>\n",
              "      <td>Fiji</td>\n",
              "      <td>1</td>\n",
              "      <td>1</td>\n",
              "      <td>Pacific Games</td>\n",
              "      <td>Samoa</td>\n",
              "      <td>20</td>\n",
              "      <td>7</td>\n",
              "      <td>2019</td>\n",
              "    </tr>\n",
              "  </tbody>\n",
              "</table>\n",
              "<p>40838 rows × 10 columns</p>\n",
              "</div>"
            ],
            "text/plain": [
              "            date         home_team        away_team  ...  day  month  year\n",
              "0     1872-11-30          Scotland          England  ...   30     11  1872\n",
              "1     1873-03-08           England         Scotland  ...    8      3  1873\n",
              "2     1874-03-07          Scotland          England  ...    7      3  1874\n",
              "3     1875-03-06           England         Scotland  ...    6      3  1875\n",
              "4     1876-03-04          Scotland          England  ...    4      3  1876\n",
              "...          ...               ...              ...  ...  ...    ...   ...\n",
              "40834 2019-07-18    American Samoa           Tahiti  ...   18      7  2019\n",
              "40835 2019-07-18              Fiji  Solomon Islands  ...   18      7  2019\n",
              "40836 2019-07-19           Senegal          Algeria  ...   19      7  2019\n",
              "40837 2019-07-19        Tajikistan      North Korea  ...   19      7  2019\n",
              "40838 2019-07-20  Papua New Guinea             Fiji  ...   20      7  2019\n",
              "\n",
              "[40838 rows x 10 columns]"
            ]
          },
          "metadata": {},
          "execution_count": 33
        }
      ]
    },
    {
      "cell_type": "markdown",
      "metadata": {
        "id": "OhuDTO9L2N3r"
      },
      "source": [
        "locking the dates to match with the dates in the ranking dataset"
      ]
    },
    {
      "cell_type": "code",
      "metadata": {
        "colab": {
          "base_uri": "https://localhost:8080/",
          "height": 408
        },
        "id": "XqzvJ9EXud_-",
        "outputId": "7022a6bf-fe09-416e-aaa0-05ca2bceec75"
      },
      "source": [
        "results= results.loc[(results['date']>='1993-08-07')&(results['date']<'2018-06-08')]\n",
        "results"
      ],
      "execution_count": 34,
      "outputs": [
        {
          "output_type": "execute_result",
          "data": {
            "text/html": [
              "<div>\n",
              "<style scoped>\n",
              "    .dataframe tbody tr th:only-of-type {\n",
              "        vertical-align: middle;\n",
              "    }\n",
              "\n",
              "    .dataframe tbody tr th {\n",
              "        vertical-align: top;\n",
              "    }\n",
              "\n",
              "    .dataframe thead th {\n",
              "        text-align: right;\n",
              "    }\n",
              "</style>\n",
              "<table border=\"1\" class=\"dataframe\">\n",
              "  <thead>\n",
              "    <tr style=\"text-align: right;\">\n",
              "      <th></th>\n",
              "      <th>date</th>\n",
              "      <th>home_team</th>\n",
              "      <th>away_team</th>\n",
              "      <th>home_score</th>\n",
              "      <th>away_score</th>\n",
              "      <th>tournament</th>\n",
              "      <th>country</th>\n",
              "      <th>day</th>\n",
              "      <th>month</th>\n",
              "      <th>year</th>\n",
              "    </tr>\n",
              "  </thead>\n",
              "  <tbody>\n",
              "    <tr>\n",
              "      <th>17914</th>\n",
              "      <td>1993-08-07</td>\n",
              "      <td>Senegal</td>\n",
              "      <td>Zambia</td>\n",
              "      <td>0</td>\n",
              "      <td>0</td>\n",
              "      <td>FIFA World Cup qualification</td>\n",
              "      <td>Ivory Coast</td>\n",
              "      <td>7</td>\n",
              "      <td>8</td>\n",
              "      <td>1993</td>\n",
              "    </tr>\n",
              "    <tr>\n",
              "      <th>17915</th>\n",
              "      <td>1993-08-08</td>\n",
              "      <td>Bolivia</td>\n",
              "      <td>Uruguay</td>\n",
              "      <td>3</td>\n",
              "      <td>1</td>\n",
              "      <td>FIFA World Cup qualification</td>\n",
              "      <td>Bolivia</td>\n",
              "      <td>8</td>\n",
              "      <td>8</td>\n",
              "      <td>1993</td>\n",
              "    </tr>\n",
              "    <tr>\n",
              "      <th>17916</th>\n",
              "      <td>1993-08-08</td>\n",
              "      <td>Brazil</td>\n",
              "      <td>Mexico</td>\n",
              "      <td>1</td>\n",
              "      <td>1</td>\n",
              "      <td>Friendly</td>\n",
              "      <td>Brazil</td>\n",
              "      <td>8</td>\n",
              "      <td>8</td>\n",
              "      <td>1993</td>\n",
              "    </tr>\n",
              "    <tr>\n",
              "      <th>17917</th>\n",
              "      <td>1993-08-08</td>\n",
              "      <td>Ecuador</td>\n",
              "      <td>Venezuela</td>\n",
              "      <td>3</td>\n",
              "      <td>0</td>\n",
              "      <td>FIFA World Cup qualification</td>\n",
              "      <td>Ecuador</td>\n",
              "      <td>8</td>\n",
              "      <td>8</td>\n",
              "      <td>1993</td>\n",
              "    </tr>\n",
              "    <tr>\n",
              "      <th>17918</th>\n",
              "      <td>1993-08-08</td>\n",
              "      <td>Guinea</td>\n",
              "      <td>Sierra Leone</td>\n",
              "      <td>1</td>\n",
              "      <td>0</td>\n",
              "      <td>Friendly</td>\n",
              "      <td>Guinea</td>\n",
              "      <td>8</td>\n",
              "      <td>8</td>\n",
              "      <td>1993</td>\n",
              "    </tr>\n",
              "    <tr>\n",
              "      <th>...</th>\n",
              "      <td>...</td>\n",
              "      <td>...</td>\n",
              "      <td>...</td>\n",
              "      <td>...</td>\n",
              "      <td>...</td>\n",
              "      <td>...</td>\n",
              "      <td>...</td>\n",
              "      <td>...</td>\n",
              "      <td>...</td>\n",
              "      <td>...</td>\n",
              "    </tr>\n",
              "    <tr>\n",
              "      <th>39829</th>\n",
              "      <td>2018-06-07</td>\n",
              "      <td>Abkhazia</td>\n",
              "      <td>United Koreans in Japan</td>\n",
              "      <td>2</td>\n",
              "      <td>0</td>\n",
              "      <td>CONIFA World Football Cup</td>\n",
              "      <td>England</td>\n",
              "      <td>7</td>\n",
              "      <td>6</td>\n",
              "      <td>2018</td>\n",
              "    </tr>\n",
              "    <tr>\n",
              "      <th>39830</th>\n",
              "      <td>2018-06-07</td>\n",
              "      <td>Barawa</td>\n",
              "      <td>Panjab</td>\n",
              "      <td>0</td>\n",
              "      <td>5</td>\n",
              "      <td>CONIFA World Football Cup</td>\n",
              "      <td>England</td>\n",
              "      <td>7</td>\n",
              "      <td>6</td>\n",
              "      <td>2018</td>\n",
              "    </tr>\n",
              "    <tr>\n",
              "      <th>39831</th>\n",
              "      <td>2018-06-07</td>\n",
              "      <td>Cascadia</td>\n",
              "      <td>Western Armenia</td>\n",
              "      <td>3</td>\n",
              "      <td>0</td>\n",
              "      <td>CONIFA World Football Cup</td>\n",
              "      <td>England</td>\n",
              "      <td>7</td>\n",
              "      <td>6</td>\n",
              "      <td>2018</td>\n",
              "    </tr>\n",
              "    <tr>\n",
              "      <th>39832</th>\n",
              "      <td>2018-06-07</td>\n",
              "      <td>Northern Cyprus</td>\n",
              "      <td>Padania</td>\n",
              "      <td>3</td>\n",
              "      <td>2</td>\n",
              "      <td>CONIFA World Football Cup</td>\n",
              "      <td>England</td>\n",
              "      <td>7</td>\n",
              "      <td>6</td>\n",
              "      <td>2018</td>\n",
              "    </tr>\n",
              "    <tr>\n",
              "      <th>39833</th>\n",
              "      <td>2018-06-07</td>\n",
              "      <td>Kárpátalja</td>\n",
              "      <td>Székely Land</td>\n",
              "      <td>3</td>\n",
              "      <td>2</td>\n",
              "      <td>CONIFA World Football Cup</td>\n",
              "      <td>England</td>\n",
              "      <td>7</td>\n",
              "      <td>6</td>\n",
              "      <td>2018</td>\n",
              "    </tr>\n",
              "  </tbody>\n",
              "</table>\n",
              "<p>21919 rows × 10 columns</p>\n",
              "</div>"
            ],
            "text/plain": [
              "            date        home_team                away_team  ...  day  month  year\n",
              "17914 1993-08-07          Senegal                   Zambia  ...    7      8  1993\n",
              "17915 1993-08-08          Bolivia                  Uruguay  ...    8      8  1993\n",
              "17916 1993-08-08           Brazil                   Mexico  ...    8      8  1993\n",
              "17917 1993-08-08          Ecuador                Venezuela  ...    8      8  1993\n",
              "17918 1993-08-08           Guinea             Sierra Leone  ...    8      8  1993\n",
              "...          ...              ...                      ...  ...  ...    ...   ...\n",
              "39829 2018-06-07         Abkhazia  United Koreans in Japan  ...    7      6  2018\n",
              "39830 2018-06-07           Barawa                   Panjab  ...    7      6  2018\n",
              "39831 2018-06-07         Cascadia          Western Armenia  ...    7      6  2018\n",
              "39832 2018-06-07  Northern Cyprus                  Padania  ...    7      6  2018\n",
              "39833 2018-06-07       Kárpátalja             Székely Land  ...    7      6  2018\n",
              "\n",
              "[21919 rows x 10 columns]"
            ]
          },
          "metadata": {},
          "execution_count": 34
        }
      ]
    },
    {
      "cell_type": "code",
      "metadata": {
        "colab": {
          "base_uri": "https://localhost:8080/"
        },
        "id": "tgpSEni2xlhV",
        "outputId": "f96ab508-71ba-46b1-f391-d02e001940d3"
      },
      "source": [
        "results['year'].unique()"
      ],
      "execution_count": 35,
      "outputs": [
        {
          "output_type": "execute_result",
          "data": {
            "text/plain": [
              "array([1993, 1994, 1995, 1996, 1997, 1998, 1999, 2000, 2001, 2002, 2003,\n",
              "       2004, 2005, 2006, 2007, 2008, 2009, 2010, 2011, 2012, 2013, 2014,\n",
              "       2015, 2016, 2017, 2018])"
            ]
          },
          "metadata": {},
          "execution_count": 35
        }
      ]
    },
    {
      "cell_type": "code",
      "metadata": {
        "colab": {
          "base_uri": "https://localhost:8080/",
          "height": 408
        },
        "id": "owaZnqpL5IqY",
        "outputId": "c0ff15a2-7ef4-45ed-9145-5ad151c50303"
      },
      "source": [
        "results = results.reset_index()\n",
        "results"
      ],
      "execution_count": 36,
      "outputs": [
        {
          "output_type": "execute_result",
          "data": {
            "text/html": [
              "<div>\n",
              "<style scoped>\n",
              "    .dataframe tbody tr th:only-of-type {\n",
              "        vertical-align: middle;\n",
              "    }\n",
              "\n",
              "    .dataframe tbody tr th {\n",
              "        vertical-align: top;\n",
              "    }\n",
              "\n",
              "    .dataframe thead th {\n",
              "        text-align: right;\n",
              "    }\n",
              "</style>\n",
              "<table border=\"1\" class=\"dataframe\">\n",
              "  <thead>\n",
              "    <tr style=\"text-align: right;\">\n",
              "      <th></th>\n",
              "      <th>index</th>\n",
              "      <th>date</th>\n",
              "      <th>home_team</th>\n",
              "      <th>away_team</th>\n",
              "      <th>home_score</th>\n",
              "      <th>away_score</th>\n",
              "      <th>tournament</th>\n",
              "      <th>country</th>\n",
              "      <th>day</th>\n",
              "      <th>month</th>\n",
              "      <th>year</th>\n",
              "    </tr>\n",
              "  </thead>\n",
              "  <tbody>\n",
              "    <tr>\n",
              "      <th>0</th>\n",
              "      <td>17914</td>\n",
              "      <td>1993-08-07</td>\n",
              "      <td>Senegal</td>\n",
              "      <td>Zambia</td>\n",
              "      <td>0</td>\n",
              "      <td>0</td>\n",
              "      <td>FIFA World Cup qualification</td>\n",
              "      <td>Ivory Coast</td>\n",
              "      <td>7</td>\n",
              "      <td>8</td>\n",
              "      <td>1993</td>\n",
              "    </tr>\n",
              "    <tr>\n",
              "      <th>1</th>\n",
              "      <td>17915</td>\n",
              "      <td>1993-08-08</td>\n",
              "      <td>Bolivia</td>\n",
              "      <td>Uruguay</td>\n",
              "      <td>3</td>\n",
              "      <td>1</td>\n",
              "      <td>FIFA World Cup qualification</td>\n",
              "      <td>Bolivia</td>\n",
              "      <td>8</td>\n",
              "      <td>8</td>\n",
              "      <td>1993</td>\n",
              "    </tr>\n",
              "    <tr>\n",
              "      <th>2</th>\n",
              "      <td>17916</td>\n",
              "      <td>1993-08-08</td>\n",
              "      <td>Brazil</td>\n",
              "      <td>Mexico</td>\n",
              "      <td>1</td>\n",
              "      <td>1</td>\n",
              "      <td>Friendly</td>\n",
              "      <td>Brazil</td>\n",
              "      <td>8</td>\n",
              "      <td>8</td>\n",
              "      <td>1993</td>\n",
              "    </tr>\n",
              "    <tr>\n",
              "      <th>3</th>\n",
              "      <td>17917</td>\n",
              "      <td>1993-08-08</td>\n",
              "      <td>Ecuador</td>\n",
              "      <td>Venezuela</td>\n",
              "      <td>3</td>\n",
              "      <td>0</td>\n",
              "      <td>FIFA World Cup qualification</td>\n",
              "      <td>Ecuador</td>\n",
              "      <td>8</td>\n",
              "      <td>8</td>\n",
              "      <td>1993</td>\n",
              "    </tr>\n",
              "    <tr>\n",
              "      <th>4</th>\n",
              "      <td>17918</td>\n",
              "      <td>1993-08-08</td>\n",
              "      <td>Guinea</td>\n",
              "      <td>Sierra Leone</td>\n",
              "      <td>1</td>\n",
              "      <td>0</td>\n",
              "      <td>Friendly</td>\n",
              "      <td>Guinea</td>\n",
              "      <td>8</td>\n",
              "      <td>8</td>\n",
              "      <td>1993</td>\n",
              "    </tr>\n",
              "    <tr>\n",
              "      <th>...</th>\n",
              "      <td>...</td>\n",
              "      <td>...</td>\n",
              "      <td>...</td>\n",
              "      <td>...</td>\n",
              "      <td>...</td>\n",
              "      <td>...</td>\n",
              "      <td>...</td>\n",
              "      <td>...</td>\n",
              "      <td>...</td>\n",
              "      <td>...</td>\n",
              "      <td>...</td>\n",
              "    </tr>\n",
              "    <tr>\n",
              "      <th>21914</th>\n",
              "      <td>39829</td>\n",
              "      <td>2018-06-07</td>\n",
              "      <td>Abkhazia</td>\n",
              "      <td>United Koreans in Japan</td>\n",
              "      <td>2</td>\n",
              "      <td>0</td>\n",
              "      <td>CONIFA World Football Cup</td>\n",
              "      <td>England</td>\n",
              "      <td>7</td>\n",
              "      <td>6</td>\n",
              "      <td>2018</td>\n",
              "    </tr>\n",
              "    <tr>\n",
              "      <th>21915</th>\n",
              "      <td>39830</td>\n",
              "      <td>2018-06-07</td>\n",
              "      <td>Barawa</td>\n",
              "      <td>Panjab</td>\n",
              "      <td>0</td>\n",
              "      <td>5</td>\n",
              "      <td>CONIFA World Football Cup</td>\n",
              "      <td>England</td>\n",
              "      <td>7</td>\n",
              "      <td>6</td>\n",
              "      <td>2018</td>\n",
              "    </tr>\n",
              "    <tr>\n",
              "      <th>21916</th>\n",
              "      <td>39831</td>\n",
              "      <td>2018-06-07</td>\n",
              "      <td>Cascadia</td>\n",
              "      <td>Western Armenia</td>\n",
              "      <td>3</td>\n",
              "      <td>0</td>\n",
              "      <td>CONIFA World Football Cup</td>\n",
              "      <td>England</td>\n",
              "      <td>7</td>\n",
              "      <td>6</td>\n",
              "      <td>2018</td>\n",
              "    </tr>\n",
              "    <tr>\n",
              "      <th>21917</th>\n",
              "      <td>39832</td>\n",
              "      <td>2018-06-07</td>\n",
              "      <td>Northern Cyprus</td>\n",
              "      <td>Padania</td>\n",
              "      <td>3</td>\n",
              "      <td>2</td>\n",
              "      <td>CONIFA World Football Cup</td>\n",
              "      <td>England</td>\n",
              "      <td>7</td>\n",
              "      <td>6</td>\n",
              "      <td>2018</td>\n",
              "    </tr>\n",
              "    <tr>\n",
              "      <th>21918</th>\n",
              "      <td>39833</td>\n",
              "      <td>2018-06-07</td>\n",
              "      <td>Kárpátalja</td>\n",
              "      <td>Székely Land</td>\n",
              "      <td>3</td>\n",
              "      <td>2</td>\n",
              "      <td>CONIFA World Football Cup</td>\n",
              "      <td>England</td>\n",
              "      <td>7</td>\n",
              "      <td>6</td>\n",
              "      <td>2018</td>\n",
              "    </tr>\n",
              "  </tbody>\n",
              "</table>\n",
              "<p>21919 rows × 11 columns</p>\n",
              "</div>"
            ],
            "text/plain": [
              "       index       date        home_team  ... day  month  year\n",
              "0      17914 1993-08-07          Senegal  ...   7      8  1993\n",
              "1      17915 1993-08-08          Bolivia  ...   8      8  1993\n",
              "2      17916 1993-08-08           Brazil  ...   8      8  1993\n",
              "3      17917 1993-08-08          Ecuador  ...   8      8  1993\n",
              "4      17918 1993-08-08           Guinea  ...   8      8  1993\n",
              "...      ...        ...              ...  ...  ..    ...   ...\n",
              "21914  39829 2018-06-07         Abkhazia  ...   7      6  2018\n",
              "21915  39830 2018-06-07           Barawa  ...   7      6  2018\n",
              "21916  39831 2018-06-07         Cascadia  ...   7      6  2018\n",
              "21917  39832 2018-06-07  Northern Cyprus  ...   7      6  2018\n",
              "21918  39833 2018-06-07       Kárpátalja  ...   7      6  2018\n",
              "\n",
              "[21919 rows x 11 columns]"
            ]
          },
          "metadata": {},
          "execution_count": 36
        }
      ]
    },
    {
      "cell_type": "code",
      "metadata": {
        "colab": {
          "base_uri": "https://localhost:8080/",
          "height": 138
        },
        "id": "ldRUvM9C5996",
        "outputId": "93bf3c54-bb24-469c-d3a6-11fbead416a9"
      },
      "source": [
        "results.columns\n",
        "results = results.drop(columns=['index'], inplace=False)\n",
        "results.head(3)"
      ],
      "execution_count": 37,
      "outputs": [
        {
          "output_type": "execute_result",
          "data": {
            "text/html": [
              "<div>\n",
              "<style scoped>\n",
              "    .dataframe tbody tr th:only-of-type {\n",
              "        vertical-align: middle;\n",
              "    }\n",
              "\n",
              "    .dataframe tbody tr th {\n",
              "        vertical-align: top;\n",
              "    }\n",
              "\n",
              "    .dataframe thead th {\n",
              "        text-align: right;\n",
              "    }\n",
              "</style>\n",
              "<table border=\"1\" class=\"dataframe\">\n",
              "  <thead>\n",
              "    <tr style=\"text-align: right;\">\n",
              "      <th></th>\n",
              "      <th>date</th>\n",
              "      <th>home_team</th>\n",
              "      <th>away_team</th>\n",
              "      <th>home_score</th>\n",
              "      <th>away_score</th>\n",
              "      <th>tournament</th>\n",
              "      <th>country</th>\n",
              "      <th>day</th>\n",
              "      <th>month</th>\n",
              "      <th>year</th>\n",
              "    </tr>\n",
              "  </thead>\n",
              "  <tbody>\n",
              "    <tr>\n",
              "      <th>0</th>\n",
              "      <td>1993-08-07</td>\n",
              "      <td>Senegal</td>\n",
              "      <td>Zambia</td>\n",
              "      <td>0</td>\n",
              "      <td>0</td>\n",
              "      <td>FIFA World Cup qualification</td>\n",
              "      <td>Ivory Coast</td>\n",
              "      <td>7</td>\n",
              "      <td>8</td>\n",
              "      <td>1993</td>\n",
              "    </tr>\n",
              "    <tr>\n",
              "      <th>1</th>\n",
              "      <td>1993-08-08</td>\n",
              "      <td>Bolivia</td>\n",
              "      <td>Uruguay</td>\n",
              "      <td>3</td>\n",
              "      <td>1</td>\n",
              "      <td>FIFA World Cup qualification</td>\n",
              "      <td>Bolivia</td>\n",
              "      <td>8</td>\n",
              "      <td>8</td>\n",
              "      <td>1993</td>\n",
              "    </tr>\n",
              "    <tr>\n",
              "      <th>2</th>\n",
              "      <td>1993-08-08</td>\n",
              "      <td>Brazil</td>\n",
              "      <td>Mexico</td>\n",
              "      <td>1</td>\n",
              "      <td>1</td>\n",
              "      <td>Friendly</td>\n",
              "      <td>Brazil</td>\n",
              "      <td>8</td>\n",
              "      <td>8</td>\n",
              "      <td>1993</td>\n",
              "    </tr>\n",
              "  </tbody>\n",
              "</table>\n",
              "</div>"
            ],
            "text/plain": [
              "        date home_team away_team  home_score  ...      country day month  year\n",
              "0 1993-08-07   Senegal    Zambia           0  ...  Ivory Coast   7     8  1993\n",
              "1 1993-08-08   Bolivia   Uruguay           3  ...      Bolivia   8     8  1993\n",
              "2 1993-08-08    Brazil    Mexico           1  ...       Brazil   8     8  1993\n",
              "\n",
              "[3 rows x 10 columns]"
            ]
          },
          "metadata": {},
          "execution_count": 37
        }
      ]
    },
    {
      "cell_type": "markdown",
      "metadata": {
        "id": "VbvsCraUWqCr"
      },
      "source": [
        "lets fix the tournament column"
      ]
    },
    {
      "cell_type": "code",
      "metadata": {
        "colab": {
          "base_uri": "https://localhost:8080/",
          "height": 200
        },
        "id": "31ZaRV8VWodK",
        "outputId": "3053e626-57dc-4389-c52f-2cc29563f539"
      },
      "source": [
        "\n",
        "def tournament(typ):\n",
        "    if typ == 'Friendly':\n",
        "        return 'Friendly'\n",
        "    elif typ == 'FIFA World Cup qualification':\n",
        "        return 'World cup'\n",
        "    elif typ == 'FIFA World Cup': \n",
        "        return 'World cup'\n",
        "    else:\n",
        "        return 'Other'\n",
        "      \n",
        "results['tournament'] = results.tournament.apply(lambda q: tournament(q))\n",
        "\n",
        "results.sample(5)"
      ],
      "execution_count": 38,
      "outputs": [
        {
          "output_type": "execute_result",
          "data": {
            "text/html": [
              "<div>\n",
              "<style scoped>\n",
              "    .dataframe tbody tr th:only-of-type {\n",
              "        vertical-align: middle;\n",
              "    }\n",
              "\n",
              "    .dataframe tbody tr th {\n",
              "        vertical-align: top;\n",
              "    }\n",
              "\n",
              "    .dataframe thead th {\n",
              "        text-align: right;\n",
              "    }\n",
              "</style>\n",
              "<table border=\"1\" class=\"dataframe\">\n",
              "  <thead>\n",
              "    <tr style=\"text-align: right;\">\n",
              "      <th></th>\n",
              "      <th>date</th>\n",
              "      <th>home_team</th>\n",
              "      <th>away_team</th>\n",
              "      <th>home_score</th>\n",
              "      <th>away_score</th>\n",
              "      <th>tournament</th>\n",
              "      <th>country</th>\n",
              "      <th>day</th>\n",
              "      <th>month</th>\n",
              "      <th>year</th>\n",
              "    </tr>\n",
              "  </thead>\n",
              "  <tbody>\n",
              "    <tr>\n",
              "      <th>17620</th>\n",
              "      <td>2013-10-11</td>\n",
              "      <td>France</td>\n",
              "      <td>Australia</td>\n",
              "      <td>3</td>\n",
              "      <td>0</td>\n",
              "      <td>Friendly</td>\n",
              "      <td>France</td>\n",
              "      <td>11</td>\n",
              "      <td>10</td>\n",
              "      <td>2013</td>\n",
              "    </tr>\n",
              "    <tr>\n",
              "      <th>496</th>\n",
              "      <td>1994-07-08</td>\n",
              "      <td>Vanuatu</td>\n",
              "      <td>Fiji</td>\n",
              "      <td>2</td>\n",
              "      <td>4</td>\n",
              "      <td>Other</td>\n",
              "      <td>Solomon Islands</td>\n",
              "      <td>8</td>\n",
              "      <td>7</td>\n",
              "      <td>1994</td>\n",
              "    </tr>\n",
              "    <tr>\n",
              "      <th>4113</th>\n",
              "      <td>1999-06-09</td>\n",
              "      <td>Wales</td>\n",
              "      <td>Denmark</td>\n",
              "      <td>0</td>\n",
              "      <td>2</td>\n",
              "      <td>Other</td>\n",
              "      <td>England</td>\n",
              "      <td>9</td>\n",
              "      <td>6</td>\n",
              "      <td>1999</td>\n",
              "    </tr>\n",
              "    <tr>\n",
              "      <th>2792</th>\n",
              "      <td>1997-08-06</td>\n",
              "      <td>Estonia</td>\n",
              "      <td>Faroe Islands</td>\n",
              "      <td>0</td>\n",
              "      <td>2</td>\n",
              "      <td>Friendly</td>\n",
              "      <td>Estonia</td>\n",
              "      <td>6</td>\n",
              "      <td>8</td>\n",
              "      <td>1997</td>\n",
              "    </tr>\n",
              "    <tr>\n",
              "      <th>6595</th>\n",
              "      <td>2002-01-18</td>\n",
              "      <td>Haiti</td>\n",
              "      <td>Canada</td>\n",
              "      <td>0</td>\n",
              "      <td>2</td>\n",
              "      <td>Other</td>\n",
              "      <td>United States</td>\n",
              "      <td>18</td>\n",
              "      <td>1</td>\n",
              "      <td>2002</td>\n",
              "    </tr>\n",
              "  </tbody>\n",
              "</table>\n",
              "</div>"
            ],
            "text/plain": [
              "            date home_team      away_team  ...  day  month  year\n",
              "17620 2013-10-11    France      Australia  ...   11     10  2013\n",
              "496   1994-07-08   Vanuatu           Fiji  ...    8      7  1994\n",
              "4113  1999-06-09     Wales        Denmark  ...    9      6  1999\n",
              "2792  1997-08-06   Estonia  Faroe Islands  ...    6      8  1997\n",
              "6595  2002-01-18     Haiti         Canada  ...   18      1  2002\n",
              "\n",
              "[5 rows x 10 columns]"
            ]
          },
          "metadata": {},
          "execution_count": 38
        }
      ]
    },
    {
      "cell_type": "markdown",
      "metadata": {
        "id": "e_QPGXbFZWrx"
      },
      "source": [
        "lets add another column for home status"
      ]
    },
    {
      "cell_type": "code",
      "metadata": {
        "id": "J_Y8Mqm2XJTp"
      },
      "source": [
        "\n",
        "# def status(row):\n",
        "#     if row['home_score'] == row['away_score']:\n",
        "#         value = 'Draw'\n",
        "#     elif row['home_score'] < row['away_score']:\n",
        "#         value = 'Loss'\n",
        "#     else:\n",
        "#         value = 'Win'\n",
        "#     return value\n",
        "\n",
        "# results['home_status'] = results.apply(status, axis=1)\n",
        "# results.head(3)"
      ],
      "execution_count": 39,
      "outputs": []
    },
    {
      "cell_type": "code",
      "metadata": {
        "colab": {
          "base_uri": "https://localhost:8080/"
        },
        "id": "Ws6Kr-MM7cbE",
        "outputId": "a38e3336-e5e4-4e2b-e920-c2dd65048a93"
      },
      "source": [
        "results.shape"
      ],
      "execution_count": 40,
      "outputs": [
        {
          "output_type": "execute_result",
          "data": {
            "text/plain": [
              "(21919, 10)"
            ]
          },
          "metadata": {},
          "execution_count": 40
        }
      ]
    },
    {
      "cell_type": "code",
      "metadata": {
        "colab": {
          "base_uri": "https://localhost:8080/",
          "height": 138
        },
        "id": "IuHZC6j0vgni",
        "outputId": "b39c35d8-2bd3-4e86-accb-f0344a100e1a"
      },
      "source": [
        "results.head(3)"
      ],
      "execution_count": 41,
      "outputs": [
        {
          "output_type": "execute_result",
          "data": {
            "text/html": [
              "<div>\n",
              "<style scoped>\n",
              "    .dataframe tbody tr th:only-of-type {\n",
              "        vertical-align: middle;\n",
              "    }\n",
              "\n",
              "    .dataframe tbody tr th {\n",
              "        vertical-align: top;\n",
              "    }\n",
              "\n",
              "    .dataframe thead th {\n",
              "        text-align: right;\n",
              "    }\n",
              "</style>\n",
              "<table border=\"1\" class=\"dataframe\">\n",
              "  <thead>\n",
              "    <tr style=\"text-align: right;\">\n",
              "      <th></th>\n",
              "      <th>date</th>\n",
              "      <th>home_team</th>\n",
              "      <th>away_team</th>\n",
              "      <th>home_score</th>\n",
              "      <th>away_score</th>\n",
              "      <th>tournament</th>\n",
              "      <th>country</th>\n",
              "      <th>day</th>\n",
              "      <th>month</th>\n",
              "      <th>year</th>\n",
              "    </tr>\n",
              "  </thead>\n",
              "  <tbody>\n",
              "    <tr>\n",
              "      <th>0</th>\n",
              "      <td>1993-08-07</td>\n",
              "      <td>Senegal</td>\n",
              "      <td>Zambia</td>\n",
              "      <td>0</td>\n",
              "      <td>0</td>\n",
              "      <td>World cup</td>\n",
              "      <td>Ivory Coast</td>\n",
              "      <td>7</td>\n",
              "      <td>8</td>\n",
              "      <td>1993</td>\n",
              "    </tr>\n",
              "    <tr>\n",
              "      <th>1</th>\n",
              "      <td>1993-08-08</td>\n",
              "      <td>Bolivia</td>\n",
              "      <td>Uruguay</td>\n",
              "      <td>3</td>\n",
              "      <td>1</td>\n",
              "      <td>World cup</td>\n",
              "      <td>Bolivia</td>\n",
              "      <td>8</td>\n",
              "      <td>8</td>\n",
              "      <td>1993</td>\n",
              "    </tr>\n",
              "    <tr>\n",
              "      <th>2</th>\n",
              "      <td>1993-08-08</td>\n",
              "      <td>Brazil</td>\n",
              "      <td>Mexico</td>\n",
              "      <td>1</td>\n",
              "      <td>1</td>\n",
              "      <td>Friendly</td>\n",
              "      <td>Brazil</td>\n",
              "      <td>8</td>\n",
              "      <td>8</td>\n",
              "      <td>1993</td>\n",
              "    </tr>\n",
              "  </tbody>\n",
              "</table>\n",
              "</div>"
            ],
            "text/plain": [
              "        date home_team away_team  home_score  ...      country day month  year\n",
              "0 1993-08-07   Senegal    Zambia           0  ...  Ivory Coast   7     8  1993\n",
              "1 1993-08-08   Bolivia   Uruguay           3  ...      Bolivia   8     8  1993\n",
              "2 1993-08-08    Brazil    Mexico           1  ...       Brazil   8     8  1993\n",
              "\n",
              "[3 rows x 10 columns]"
            ]
          },
          "metadata": {},
          "execution_count": 41
        }
      ]
    },
    {
      "cell_type": "markdown",
      "metadata": {
        "id": "_BMtMhLsTIQO"
      },
      "source": [
        "##### EDA"
      ]
    },
    {
      "cell_type": "markdown",
      "metadata": {
        "id": "tDPIwh98TfcW"
      },
      "source": [
        "univariate"
      ]
    },
    {
      "cell_type": "code",
      "metadata": {
        "colab": {
          "base_uri": "https://localhost:8080/",
          "height": 295
        },
        "id": "xuhRjzwVTPSJ",
        "outputId": "4011b0c8-4673-4e79-dff5-4d1bb4864036"
      },
      "source": [
        "\n",
        "sns.histplot(x='tournament', data=results, hue='tournament')"
      ],
      "execution_count": 42,
      "outputs": [
        {
          "output_type": "execute_result",
          "data": {
            "text/plain": [
              "<matplotlib.axes._subplots.AxesSubplot at 0x7f6be62a48d0>"
            ]
          },
          "metadata": {},
          "execution_count": 42
        },
        {
          "output_type": "display_data",
          "data": {
            "image/png": "[encoded data removed]",
            "text/plain": [
              "<Figure size 432x288 with 1 Axes>"
            ]
          },
          "metadata": {
            "needs_background": "light"
          }
        }
      ]
    },
    {
      "cell_type": "markdown",
      "metadata": {
        "id": "7RyY8lOra1Xv"
      },
      "source": [
        "world cup has the lowest counts followed by friendly tournaments then the others"
      ]
    },
    {
      "cell_type": "code",
      "metadata": {
        "colab": {
          "base_uri": "https://localhost:8080/",
          "height": 347
        },
        "id": "fKTAy5zKa9WH",
        "outputId": "308c92c8-3194-45b9-a4fb-0b8f0a9d21b7"
      },
      "source": [
        "sns.distplot(results['away_score'], color='blue')"
      ],
      "execution_count": 43,
      "outputs": [
        {
          "output_type": "stream",
          "name": "stderr",
          "text": [
            "/usr/local/lib/python3.7/dist-packages/seaborn/distributions.py:2619: FutureWarning: `distplot` is a deprecated function and will be removed in a future version. Please adapt your code to use either `displot` (a figure-level function with similar flexibility) or `histplot` (an axes-level function for histograms).\n",
            "  warnings.warn(msg, FutureWarning)\n"
          ]
        },
        {
          "output_type": "execute_result",
          "data": {
            "text/plain": [
              "<matplotlib.axes._subplots.AxesSubplot at 0x7f6be6197b50>"
            ]
          },
          "metadata": {},
          "execution_count": 43
        },
        {
          "output_type": "display_data",
          "data": {
            "image/png": "[encoded data removed]",
            "text/plain": [
              "<Figure size 432x288 with 1 Axes>"
            ]
          },
          "metadata": {
            "needs_background": "light"
          }
        }
      ]
    },
    {
      "cell_type": "code",
      "metadata": {
        "colab": {
          "base_uri": "https://localhost:8080/",
          "height": 348
        },
        "id": "Qdw1Ge04cnUO",
        "outputId": "f96d4937-c61b-4faa-c382-ae8fc5dec3db"
      },
      "source": [
        "sns.distplot(results['home_score'], color='blue')"
      ],
      "execution_count": 44,
      "outputs": [
        {
          "output_type": "stream",
          "name": "stderr",
          "text": [
            "/usr/local/lib/python3.7/dist-packages/seaborn/distributions.py:2619: FutureWarning: `distplot` is a deprecated function and will be removed in a future version. Please adapt your code to use either `displot` (a figure-level function with similar flexibility) or `histplot` (an axes-level function for histograms).\n",
            "  warnings.warn(msg, FutureWarning)\n"
          ]
        },
        {
          "output_type": "execute_result",
          "data": {
            "text/plain": [
              "<matplotlib.axes._subplots.AxesSubplot at 0x7f6be6206190>"
            ]
          },
          "metadata": {},
          "execution_count": 44
        },
        {
          "output_type": "display_data",
          "data": {
            "image/png": "[encoded data removed]",
            "text/plain": [
              "<Figure size 432x288 with 1 Axes>"
            ]
          },
          "metadata": {
            "needs_background": "light"
          }
        }
      ]
    },
    {
      "cell_type": "markdown",
      "metadata": {
        "id": "YWKT3Aj4o-JF"
      },
      "source": [
        "bivariate"
      ]
    },
    {
      "cell_type": "code",
      "metadata": {
        "id": "GzH_gpzEc7Rg"
      },
      "source": [
        ""
      ],
      "execution_count": 44,
      "outputs": []
    },
    {
      "cell_type": "markdown",
      "metadata": {
        "id": "IrH_Vt1mqcs6"
      },
      "source": [
        "#### MERGING, CHECKING AND CLEANING DATA, FEATURE ENGINEERING"
      ]
    },
    {
      "cell_type": "markdown",
      "metadata": {
        "id": "e9V8T2NwxPzC"
      },
      "source": [
        "merging on home team"
      ]
    },
    {
      "cell_type": "code",
      "metadata": {
        "colab": {
          "base_uri": "https://localhost:8080/",
          "height": 301
        },
        "id": "lyv7sAOipw3M",
        "outputId": "032780b5-de90-4185-a6b0-f2eed51d4454"
      },
      "source": [
        "\n",
        "df1 = pd.merge(ranking,results, how='inner', left_on=['country_rank','year','month'], right_on = ['home_team','year', 'month'] )\n",
        "\n",
        "df1.tail()"
      ],
      "execution_count": 45,
      "outputs": [
        {
          "output_type": "execute_result",
          "data": {
            "text/html": [
              "<div>\n",
              "<style scoped>\n",
              "    .dataframe tbody tr th:only-of-type {\n",
              "        vertical-align: middle;\n",
              "    }\n",
              "\n",
              "    .dataframe tbody tr th {\n",
              "        vertical-align: top;\n",
              "    }\n",
              "\n",
              "    .dataframe thead th {\n",
              "        text-align: right;\n",
              "    }\n",
              "</style>\n",
              "<table border=\"1\" class=\"dataframe\">\n",
              "  <thead>\n",
              "    <tr style=\"text-align: right;\">\n",
              "      <th></th>\n",
              "      <th>rank</th>\n",
              "      <th>country_x</th>\n",
              "      <th>previous_points</th>\n",
              "      <th>confederation</th>\n",
              "      <th>rank_date</th>\n",
              "      <th>day_x</th>\n",
              "      <th>month</th>\n",
              "      <th>year</th>\n",
              "      <th>country_rank</th>\n",
              "      <th>date</th>\n",
              "      <th>home_team</th>\n",
              "      <th>away_team</th>\n",
              "      <th>home_score</th>\n",
              "      <th>away_score</th>\n",
              "      <th>tournament</th>\n",
              "      <th>country_y</th>\n",
              "      <th>day_y</th>\n",
              "    </tr>\n",
              "  </thead>\n",
              "  <tbody>\n",
              "    <tr>\n",
              "      <th>18518</th>\n",
              "      <td>139</td>\n",
              "      <td>Botswana</td>\n",
              "      <td>195</td>\n",
              "      <td>CAF</td>\n",
              "      <td>2018-06-07</td>\n",
              "      <td>7</td>\n",
              "      <td>6</td>\n",
              "      <td>2018</td>\n",
              "      <td>Botswana</td>\n",
              "      <td>2018-06-01</td>\n",
              "      <td>Botswana</td>\n",
              "      <td>Mauritius</td>\n",
              "      <td>3</td>\n",
              "      <td>0</td>\n",
              "      <td>Other</td>\n",
              "      <td>South Africa</td>\n",
              "      <td>1</td>\n",
              "    </tr>\n",
              "    <tr>\n",
              "      <th>18519</th>\n",
              "      <td>147</td>\n",
              "      <td>Lesotho</td>\n",
              "      <td>172</td>\n",
              "      <td>CAF</td>\n",
              "      <td>2018-06-07</td>\n",
              "      <td>7</td>\n",
              "      <td>6</td>\n",
              "      <td>2018</td>\n",
              "      <td>Lesotho</td>\n",
              "      <td>2018-06-02</td>\n",
              "      <td>Lesotho</td>\n",
              "      <td>Eswatini</td>\n",
              "      <td>1</td>\n",
              "      <td>0</td>\n",
              "      <td>Other</td>\n",
              "      <td>South Africa</td>\n",
              "      <td>2</td>\n",
              "    </tr>\n",
              "    <tr>\n",
              "      <th>18520</th>\n",
              "      <td>147</td>\n",
              "      <td>Lesotho</td>\n",
              "      <td>172</td>\n",
              "      <td>CAF</td>\n",
              "      <td>2018-06-07</td>\n",
              "      <td>7</td>\n",
              "      <td>6</td>\n",
              "      <td>2018</td>\n",
              "      <td>Lesotho</td>\n",
              "      <td>2018-06-06</td>\n",
              "      <td>Lesotho</td>\n",
              "      <td>Zimbabwe</td>\n",
              "      <td>0</td>\n",
              "      <td>0</td>\n",
              "      <td>Other</td>\n",
              "      <td>South Africa</td>\n",
              "      <td>6</td>\n",
              "    </tr>\n",
              "    <tr>\n",
              "      <th>18521</th>\n",
              "      <td>160</td>\n",
              "      <td>Barbados</td>\n",
              "      <td>129</td>\n",
              "      <td>CONCACAF</td>\n",
              "      <td>2018-06-07</td>\n",
              "      <td>7</td>\n",
              "      <td>6</td>\n",
              "      <td>2018</td>\n",
              "      <td>Barbados</td>\n",
              "      <td>2018-06-03</td>\n",
              "      <td>Barbados</td>\n",
              "      <td>Belize</td>\n",
              "      <td>0</td>\n",
              "      <td>0</td>\n",
              "      <td>Friendly</td>\n",
              "      <td>Barbados</td>\n",
              "      <td>3</td>\n",
              "    </tr>\n",
              "    <tr>\n",
              "      <th>18522</th>\n",
              "      <td>184</td>\n",
              "      <td>Malta</td>\n",
              "      <td>62</td>\n",
              "      <td>UEFA</td>\n",
              "      <td>2018-06-07</td>\n",
              "      <td>7</td>\n",
              "      <td>6</td>\n",
              "      <td>2018</td>\n",
              "      <td>Malta</td>\n",
              "      <td>2018-06-01</td>\n",
              "      <td>Malta</td>\n",
              "      <td>Georgia</td>\n",
              "      <td>0</td>\n",
              "      <td>1</td>\n",
              "      <td>Friendly</td>\n",
              "      <td>Austria</td>\n",
              "      <td>1</td>\n",
              "    </tr>\n",
              "  </tbody>\n",
              "</table>\n",
              "</div>"
            ],
            "text/plain": [
              "       rank country_x  previous_points  ... tournament     country_y  day_y\n",
              "18518   139  Botswana              195  ...      Other  South Africa      1\n",
              "18519   147   Lesotho              172  ...      Other  South Africa      2\n",
              "18520   147   Lesotho              172  ...      Other  South Africa      6\n",
              "18521   160  Barbados              129  ...   Friendly      Barbados      3\n",
              "18522   184     Malta               62  ...   Friendly       Austria      1\n",
              "\n",
              "[5 rows x 17 columns]"
            ]
          },
          "metadata": {},
          "execution_count": 45
        }
      ]
    },
    {
      "cell_type": "code",
      "metadata": {
        "colab": {
          "base_uri": "https://localhost:8080/",
          "height": 115
        },
        "id": "Mawj6Vt4ydVL",
        "outputId": "d3876391-365f-4815-ce2a-66248b4dfb5d"
      },
      "source": [
        "df1.rename(columns={'rank':'home_rank'}, inplace=True)\n",
        "df1.head(1)"
      ],
      "execution_count": 46,
      "outputs": [
        {
          "output_type": "execute_result",
          "data": {
            "text/html": [
              "<div>\n",
              "<style scoped>\n",
              "    .dataframe tbody tr th:only-of-type {\n",
              "        vertical-align: middle;\n",
              "    }\n",
              "\n",
              "    .dataframe tbody tr th {\n",
              "        vertical-align: top;\n",
              "    }\n",
              "\n",
              "    .dataframe thead th {\n",
              "        text-align: right;\n",
              "    }\n",
              "</style>\n",
              "<table border=\"1\" class=\"dataframe\">\n",
              "  <thead>\n",
              "    <tr style=\"text-align: right;\">\n",
              "      <th></th>\n",
              "      <th>home_rank</th>\n",
              "      <th>country_x</th>\n",
              "      <th>previous_points</th>\n",
              "      <th>confederation</th>\n",
              "      <th>rank_date</th>\n",
              "      <th>day_x</th>\n",
              "      <th>month</th>\n",
              "      <th>year</th>\n",
              "      <th>country_rank</th>\n",
              "      <th>date</th>\n",
              "      <th>home_team</th>\n",
              "      <th>away_team</th>\n",
              "      <th>home_score</th>\n",
              "      <th>away_score</th>\n",
              "      <th>tournament</th>\n",
              "      <th>country_y</th>\n",
              "      <th>day_y</th>\n",
              "    </tr>\n",
              "  </thead>\n",
              "  <tbody>\n",
              "    <tr>\n",
              "      <th>0</th>\n",
              "      <td>4</td>\n",
              "      <td>Sweden</td>\n",
              "      <td>55</td>\n",
              "      <td>UEFA</td>\n",
              "      <td>1993-08-08</td>\n",
              "      <td>8</td>\n",
              "      <td>8</td>\n",
              "      <td>1993</td>\n",
              "      <td>Sweden</td>\n",
              "      <td>1993-08-11</td>\n",
              "      <td>Sweden</td>\n",
              "      <td>Switzerland</td>\n",
              "      <td>1</td>\n",
              "      <td>2</td>\n",
              "      <td>Friendly</td>\n",
              "      <td>Sweden</td>\n",
              "      <td>11</td>\n",
              "    </tr>\n",
              "  </tbody>\n",
              "</table>\n",
              "</div>"
            ],
            "text/plain": [
              "   home_rank country_x  previous_points  ... tournament country_y  day_y\n",
              "0          4    Sweden               55  ...   Friendly    Sweden     11\n",
              "\n",
              "[1 rows x 17 columns]"
            ]
          },
          "metadata": {},
          "execution_count": 46
        }
      ]
    },
    {
      "cell_type": "code",
      "metadata": {
        "colab": {
          "base_uri": "https://localhost:8080/"
        },
        "id": "_EtZBBND40-i",
        "outputId": "675365c0-f6c3-43fa-b73e-aa0156bac6da"
      },
      "source": [
        "df1.columns"
      ],
      "execution_count": 47,
      "outputs": [
        {
          "output_type": "execute_result",
          "data": {
            "text/plain": [
              "Index(['home_rank', 'country_x', 'previous_points', 'confederation',\n",
              "       'rank_date', 'day_x', 'month', 'year', 'country_rank', 'date',\n",
              "       'home_team', 'away_team', 'home_score', 'away_score', 'tournament',\n",
              "       'country_y', 'day_y'],\n",
              "      dtype='object')"
            ]
          },
          "metadata": {},
          "execution_count": 47
        }
      ]
    },
    {
      "cell_type": "code",
      "metadata": {
        "colab": {
          "base_uri": "https://localhost:8080/",
          "height": 78
        },
        "id": "bzE4jaJh4QuR",
        "outputId": "e74007db-ffb3-4cde-8e1b-9b170edd125f"
      },
      "source": [
        "df1=df1.drop(columns=[ 'country_x', 'previous_points', 'confederation',\n",
        "       'rank_date', 'day_x', 'month', 'country_rank', 'date',\n",
        "         'away_score', 'tournament',\n",
        "       'country_y', 'day_y'])\n",
        "df1.head(1)"
      ],
      "execution_count": 48,
      "outputs": [
        {
          "output_type": "execute_result",
          "data": {
            "text/html": [
              "<div>\n",
              "<style scoped>\n",
              "    .dataframe tbody tr th:only-of-type {\n",
              "        vertical-align: middle;\n",
              "    }\n",
              "\n",
              "    .dataframe tbody tr th {\n",
              "        vertical-align: top;\n",
              "    }\n",
              "\n",
              "    .dataframe thead th {\n",
              "        text-align: right;\n",
              "    }\n",
              "</style>\n",
              "<table border=\"1\" class=\"dataframe\">\n",
              "  <thead>\n",
              "    <tr style=\"text-align: right;\">\n",
              "      <th></th>\n",
              "      <th>home_rank</th>\n",
              "      <th>year</th>\n",
              "      <th>home_team</th>\n",
              "      <th>away_team</th>\n",
              "      <th>home_score</th>\n",
              "    </tr>\n",
              "  </thead>\n",
              "  <tbody>\n",
              "    <tr>\n",
              "      <th>0</th>\n",
              "      <td>4</td>\n",
              "      <td>1993</td>\n",
              "      <td>Sweden</td>\n",
              "      <td>Switzerland</td>\n",
              "      <td>1</td>\n",
              "    </tr>\n",
              "  </tbody>\n",
              "</table>\n",
              "</div>"
            ],
            "text/plain": [
              "   home_rank  year home_team    away_team  home_score\n",
              "0          4  1993    Sweden  Switzerland           1"
            ]
          },
          "metadata": {},
          "execution_count": 48
        }
      ]
    },
    {
      "cell_type": "markdown",
      "metadata": {
        "id": "N2s10_lkxS8r"
      },
      "source": [
        "merging on away team"
      ]
    },
    {
      "cell_type": "code",
      "metadata": {
        "colab": {
          "base_uri": "https://localhost:8080/",
          "height": 301
        },
        "id": "GY9o1HD5xWoR",
        "outputId": "ae72e238-9a35-4303-951a-f2dae3de9c8e"
      },
      "source": [
        "df2= pd.merge(ranking,results, how='inner', left_on=['country_rank','year','month'], right_on = ['away_team','year', 'month'] )\n",
        "df2.head()"
      ],
      "execution_count": 49,
      "outputs": [
        {
          "output_type": "execute_result",
          "data": {
            "text/html": [
              "<div>\n",
              "<style scoped>\n",
              "    .dataframe tbody tr th:only-of-type {\n",
              "        vertical-align: middle;\n",
              "    }\n",
              "\n",
              "    .dataframe tbody tr th {\n",
              "        vertical-align: top;\n",
              "    }\n",
              "\n",
              "    .dataframe thead th {\n",
              "        text-align: right;\n",
              "    }\n",
              "</style>\n",
              "<table border=\"1\" class=\"dataframe\">\n",
              "  <thead>\n",
              "    <tr style=\"text-align: right;\">\n",
              "      <th></th>\n",
              "      <th>rank</th>\n",
              "      <th>country_x</th>\n",
              "      <th>previous_points</th>\n",
              "      <th>confederation</th>\n",
              "      <th>rank_date</th>\n",
              "      <th>day_x</th>\n",
              "      <th>month</th>\n",
              "      <th>year</th>\n",
              "      <th>country_rank</th>\n",
              "      <th>date</th>\n",
              "      <th>home_team</th>\n",
              "      <th>away_team</th>\n",
              "      <th>home_score</th>\n",
              "      <th>away_score</th>\n",
              "      <th>tournament</th>\n",
              "      <th>country_y</th>\n",
              "      <th>day_y</th>\n",
              "    </tr>\n",
              "  </thead>\n",
              "  <tbody>\n",
              "    <tr>\n",
              "      <th>0</th>\n",
              "      <td>3</td>\n",
              "      <td>Switzerland</td>\n",
              "      <td>50</td>\n",
              "      <td>UEFA</td>\n",
              "      <td>1993-08-08</td>\n",
              "      <td>8</td>\n",
              "      <td>8</td>\n",
              "      <td>1993</td>\n",
              "      <td>Switzerland</td>\n",
              "      <td>1993-08-11</td>\n",
              "      <td>Sweden</td>\n",
              "      <td>Switzerland</td>\n",
              "      <td>1</td>\n",
              "      <td>2</td>\n",
              "      <td>Friendly</td>\n",
              "      <td>Sweden</td>\n",
              "      <td>11</td>\n",
              "    </tr>\n",
              "    <tr>\n",
              "      <th>1</th>\n",
              "      <td>5</td>\n",
              "      <td>Argentina</td>\n",
              "      <td>51</td>\n",
              "      <td>CONMEBOL</td>\n",
              "      <td>1993-08-08</td>\n",
              "      <td>8</td>\n",
              "      <td>8</td>\n",
              "      <td>1993</td>\n",
              "      <td>Argentina</td>\n",
              "      <td>1993-08-08</td>\n",
              "      <td>Paraguay</td>\n",
              "      <td>Argentina</td>\n",
              "      <td>1</td>\n",
              "      <td>3</td>\n",
              "      <td>World cup</td>\n",
              "      <td>Paraguay</td>\n",
              "      <td>8</td>\n",
              "    </tr>\n",
              "    <tr>\n",
              "      <th>2</th>\n",
              "      <td>5</td>\n",
              "      <td>Argentina</td>\n",
              "      <td>51</td>\n",
              "      <td>CONMEBOL</td>\n",
              "      <td>1993-08-08</td>\n",
              "      <td>8</td>\n",
              "      <td>8</td>\n",
              "      <td>1993</td>\n",
              "      <td>Argentina</td>\n",
              "      <td>1993-08-15</td>\n",
              "      <td>Colombia</td>\n",
              "      <td>Argentina</td>\n",
              "      <td>2</td>\n",
              "      <td>1</td>\n",
              "      <td>World cup</td>\n",
              "      <td>Colombia</td>\n",
              "      <td>15</td>\n",
              "    </tr>\n",
              "    <tr>\n",
              "      <th>3</th>\n",
              "      <td>8</td>\n",
              "      <td>Brazil</td>\n",
              "      <td>55</td>\n",
              "      <td>CONMEBOL</td>\n",
              "      <td>1993-08-08</td>\n",
              "      <td>8</td>\n",
              "      <td>8</td>\n",
              "      <td>1993</td>\n",
              "      <td>Brazil</td>\n",
              "      <td>1993-08-15</td>\n",
              "      <td>Uruguay</td>\n",
              "      <td>Brazil</td>\n",
              "      <td>1</td>\n",
              "      <td>1</td>\n",
              "      <td>World cup</td>\n",
              "      <td>Uruguay</td>\n",
              "      <td>15</td>\n",
              "    </tr>\n",
              "    <tr>\n",
              "      <th>4</th>\n",
              "      <td>9</td>\n",
              "      <td>Norway</td>\n",
              "      <td>49</td>\n",
              "      <td>UEFA</td>\n",
              "      <td>1993-08-08</td>\n",
              "      <td>8</td>\n",
              "      <td>8</td>\n",
              "      <td>1993</td>\n",
              "      <td>Norway</td>\n",
              "      <td>1993-08-11</td>\n",
              "      <td>Faroe Islands</td>\n",
              "      <td>Norway</td>\n",
              "      <td>0</td>\n",
              "      <td>5</td>\n",
              "      <td>Friendly</td>\n",
              "      <td>Faroe Islands</td>\n",
              "      <td>11</td>\n",
              "    </tr>\n",
              "  </tbody>\n",
              "</table>\n",
              "</div>"
            ],
            "text/plain": [
              "   rank    country_x  previous_points  ... tournament      country_y  day_y\n",
              "0     3  Switzerland               50  ...   Friendly         Sweden     11\n",
              "1     5    Argentina               51  ...  World cup       Paraguay      8\n",
              "2     5    Argentina               51  ...  World cup       Colombia     15\n",
              "3     8       Brazil               55  ...  World cup        Uruguay     15\n",
              "4     9       Norway               49  ...   Friendly  Faroe Islands     11\n",
              "\n",
              "[5 rows x 17 columns]"
            ]
          },
          "metadata": {},
          "execution_count": 49
        }
      ]
    },
    {
      "cell_type": "code",
      "metadata": {
        "colab": {
          "base_uri": "https://localhost:8080/",
          "height": 115
        },
        "id": "OrGjYrWYx2P6",
        "outputId": "3726678f-780a-443c-9feb-f4708776756a"
      },
      "source": [
        "df2.rename(columns={'rank':'away_rank'}, inplace=True)\n",
        "df2.head(1)"
      ],
      "execution_count": 50,
      "outputs": [
        {
          "output_type": "execute_result",
          "data": {
            "text/html": [
              "<div>\n",
              "<style scoped>\n",
              "    .dataframe tbody tr th:only-of-type {\n",
              "        vertical-align: middle;\n",
              "    }\n",
              "\n",
              "    .dataframe tbody tr th {\n",
              "        vertical-align: top;\n",
              "    }\n",
              "\n",
              "    .dataframe thead th {\n",
              "        text-align: right;\n",
              "    }\n",
              "</style>\n",
              "<table border=\"1\" class=\"dataframe\">\n",
              "  <thead>\n",
              "    <tr style=\"text-align: right;\">\n",
              "      <th></th>\n",
              "      <th>away_rank</th>\n",
              "      <th>country_x</th>\n",
              "      <th>previous_points</th>\n",
              "      <th>confederation</th>\n",
              "      <th>rank_date</th>\n",
              "      <th>day_x</th>\n",
              "      <th>month</th>\n",
              "      <th>year</th>\n",
              "      <th>country_rank</th>\n",
              "      <th>date</th>\n",
              "      <th>home_team</th>\n",
              "      <th>away_team</th>\n",
              "      <th>home_score</th>\n",
              "      <th>away_score</th>\n",
              "      <th>tournament</th>\n",
              "      <th>country_y</th>\n",
              "      <th>day_y</th>\n",
              "    </tr>\n",
              "  </thead>\n",
              "  <tbody>\n",
              "    <tr>\n",
              "      <th>0</th>\n",
              "      <td>3</td>\n",
              "      <td>Switzerland</td>\n",
              "      <td>50</td>\n",
              "      <td>UEFA</td>\n",
              "      <td>1993-08-08</td>\n",
              "      <td>8</td>\n",
              "      <td>8</td>\n",
              "      <td>1993</td>\n",
              "      <td>Switzerland</td>\n",
              "      <td>1993-08-11</td>\n",
              "      <td>Sweden</td>\n",
              "      <td>Switzerland</td>\n",
              "      <td>1</td>\n",
              "      <td>2</td>\n",
              "      <td>Friendly</td>\n",
              "      <td>Sweden</td>\n",
              "      <td>11</td>\n",
              "    </tr>\n",
              "  </tbody>\n",
              "</table>\n",
              "</div>"
            ],
            "text/plain": [
              "   away_rank    country_x  previous_points  ... tournament country_y  day_y\n",
              "0          3  Switzerland               50  ...   Friendly    Sweden     11\n",
              "\n",
              "[1 rows x 17 columns]"
            ]
          },
          "metadata": {},
          "execution_count": 50
        }
      ]
    },
    {
      "cell_type": "code",
      "metadata": {
        "colab": {
          "base_uri": "https://localhost:8080/"
        },
        "id": "4jYYux211ma6",
        "outputId": "60451770-22d0-4944-f3a6-4e62834bbf4c"
      },
      "source": [
        "df2.columns"
      ],
      "execution_count": 51,
      "outputs": [
        {
          "output_type": "execute_result",
          "data": {
            "text/plain": [
              "Index(['away_rank', 'country_x', 'previous_points', 'confederation',\n",
              "       'rank_date', 'day_x', 'month', 'year', 'country_rank', 'date',\n",
              "       'home_team', 'away_team', 'home_score', 'away_score', 'tournament',\n",
              "       'country_y', 'day_y'],\n",
              "      dtype='object')"
            ]
          },
          "metadata": {},
          "execution_count": 51
        }
      ]
    },
    {
      "cell_type": "code",
      "metadata": {
        "colab": {
          "base_uri": "https://localhost:8080/",
          "height": 78
        },
        "id": "7yC_6F93zK-z",
        "outputId": "7b7e4b1c-93b4-48e7-ea25-9b67fa1fa546"
      },
      "source": [
        "df2=df2.drop(columns=[ 'country_x', 'previous_points', 'confederation',\n",
        "       'rank_date', 'day_x', 'month', 'country_rank', 'date',\n",
        "       'home_team', 'home_score',\n",
        "       'country_y', 'day_y'])\n",
        "df2.head(1)\n"
      ],
      "execution_count": 52,
      "outputs": [
        {
          "output_type": "execute_result",
          "data": {
            "text/html": [
              "<div>\n",
              "<style scoped>\n",
              "    .dataframe tbody tr th:only-of-type {\n",
              "        vertical-align: middle;\n",
              "    }\n",
              "\n",
              "    .dataframe tbody tr th {\n",
              "        vertical-align: top;\n",
              "    }\n",
              "\n",
              "    .dataframe thead th {\n",
              "        text-align: right;\n",
              "    }\n",
              "</style>\n",
              "<table border=\"1\" class=\"dataframe\">\n",
              "  <thead>\n",
              "    <tr style=\"text-align: right;\">\n",
              "      <th></th>\n",
              "      <th>away_rank</th>\n",
              "      <th>year</th>\n",
              "      <th>away_team</th>\n",
              "      <th>away_score</th>\n",
              "      <th>tournament</th>\n",
              "    </tr>\n",
              "  </thead>\n",
              "  <tbody>\n",
              "    <tr>\n",
              "      <th>0</th>\n",
              "      <td>3</td>\n",
              "      <td>1993</td>\n",
              "      <td>Switzerland</td>\n",
              "      <td>2</td>\n",
              "      <td>Friendly</td>\n",
              "    </tr>\n",
              "  </tbody>\n",
              "</table>\n",
              "</div>"
            ],
            "text/plain": [
              "   away_rank  year    away_team  away_score tournament\n",
              "0          3  1993  Switzerland           2   Friendly"
            ]
          },
          "metadata": {},
          "execution_count": 52
        }
      ]
    },
    {
      "cell_type": "markdown",
      "metadata": {
        "id": "jQoj2EPi5_oV"
      },
      "source": [
        "merging df1 and df2"
      ]
    },
    {
      "cell_type": "code",
      "metadata": {
        "colab": {
          "base_uri": "https://localhost:8080/",
          "height": 138
        },
        "id": "-8nuWWZx6CgK",
        "outputId": "0d1e7f9e-df9e-486d-fc14-42d848df75b3"
      },
      "source": [
        "df = pd.merge(df1, df2, how = 'inner', left_on = ['year', 'away_team'], right_on = ['year', 'away_team'])\n",
        "\n",
        "df.head(3)"
      ],
      "execution_count": 53,
      "outputs": [
        {
          "output_type": "execute_result",
          "data": {
            "text/html": [
              "<div>\n",
              "<style scoped>\n",
              "    .dataframe tbody tr th:only-of-type {\n",
              "        vertical-align: middle;\n",
              "    }\n",
              "\n",
              "    .dataframe tbody tr th {\n",
              "        vertical-align: top;\n",
              "    }\n",
              "\n",
              "    .dataframe thead th {\n",
              "        text-align: right;\n",
              "    }\n",
              "</style>\n",
              "<table border=\"1\" class=\"dataframe\">\n",
              "  <thead>\n",
              "    <tr style=\"text-align: right;\">\n",
              "      <th></th>\n",
              "      <th>home_rank</th>\n",
              "      <th>year</th>\n",
              "      <th>home_team</th>\n",
              "      <th>away_team</th>\n",
              "      <th>home_score</th>\n",
              "      <th>away_rank</th>\n",
              "      <th>away_score</th>\n",
              "      <th>tournament</th>\n",
              "    </tr>\n",
              "  </thead>\n",
              "  <tbody>\n",
              "    <tr>\n",
              "      <th>0</th>\n",
              "      <td>4</td>\n",
              "      <td>1993</td>\n",
              "      <td>Sweden</td>\n",
              "      <td>Switzerland</td>\n",
              "      <td>1</td>\n",
              "      <td>3</td>\n",
              "      <td>2</td>\n",
              "      <td>Friendly</td>\n",
              "    </tr>\n",
              "    <tr>\n",
              "      <th>1</th>\n",
              "      <td>4</td>\n",
              "      <td>1993</td>\n",
              "      <td>Sweden</td>\n",
              "      <td>Switzerland</td>\n",
              "      <td>1</td>\n",
              "      <td>10</td>\n",
              "      <td>1</td>\n",
              "      <td>World cup</td>\n",
              "    </tr>\n",
              "    <tr>\n",
              "      <th>2</th>\n",
              "      <td>4</td>\n",
              "      <td>1993</td>\n",
              "      <td>Sweden</td>\n",
              "      <td>Switzerland</td>\n",
              "      <td>1</td>\n",
              "      <td>13</td>\n",
              "      <td>0</td>\n",
              "      <td>World cup</td>\n",
              "    </tr>\n",
              "  </tbody>\n",
              "</table>\n",
              "</div>"
            ],
            "text/plain": [
              "   home_rank  year home_team  ... away_rank  away_score  tournament\n",
              "0          4  1993    Sweden  ...         3           2    Friendly\n",
              "1          4  1993    Sweden  ...        10           1   World cup\n",
              "2          4  1993    Sweden  ...        13           0   World cup\n",
              "\n",
              "[3 rows x 8 columns]"
            ]
          },
          "metadata": {},
          "execution_count": 53
        }
      ]
    },
    {
      "cell_type": "code",
      "metadata": {
        "colab": {
          "base_uri": "https://localhost:8080/",
          "height": 138
        },
        "id": "Nj0O3qQ87ekp",
        "outputId": "1bec6cd1-4a6f-4a3a-b122-37d9e23e8744"
      },
      "source": [
        "def status(row):\n",
        "    if row['home_score'] == row['away_score']:\n",
        "        value = 'Draw'\n",
        "    elif row['home_score'] < row['away_score']:\n",
        "        value = 'Loss'\n",
        "    else:\n",
        "        value = 'Win'\n",
        "    return value\n",
        "\n",
        "df['home_status'] = df.apply(status, axis=1)\n",
        "results.head(3)"
      ],
      "execution_count": 54,
      "outputs": [
        {
          "output_type": "execute_result",
          "data": {
            "text/html": [
              "<div>\n",
              "<style scoped>\n",
              "    .dataframe tbody tr th:only-of-type {\n",
              "        vertical-align: middle;\n",
              "    }\n",
              "\n",
              "    .dataframe tbody tr th {\n",
              "        vertical-align: top;\n",
              "    }\n",
              "\n",
              "    .dataframe thead th {\n",
              "        text-align: right;\n",
              "    }\n",
              "</style>\n",
              "<table border=\"1\" class=\"dataframe\">\n",
              "  <thead>\n",
              "    <tr style=\"text-align: right;\">\n",
              "      <th></th>\n",
              "      <th>date</th>\n",
              "      <th>home_team</th>\n",
              "      <th>away_team</th>\n",
              "      <th>home_score</th>\n",
              "      <th>away_score</th>\n",
              "      <th>tournament</th>\n",
              "      <th>country</th>\n",
              "      <th>day</th>\n",
              "      <th>month</th>\n",
              "      <th>year</th>\n",
              "    </tr>\n",
              "  </thead>\n",
              "  <tbody>\n",
              "    <tr>\n",
              "      <th>0</th>\n",
              "      <td>1993-08-07</td>\n",
              "      <td>Senegal</td>\n",
              "      <td>Zambia</td>\n",
              "      <td>0</td>\n",
              "      <td>0</td>\n",
              "      <td>World cup</td>\n",
              "      <td>Ivory Coast</td>\n",
              "      <td>7</td>\n",
              "      <td>8</td>\n",
              "      <td>1993</td>\n",
              "    </tr>\n",
              "    <tr>\n",
              "      <th>1</th>\n",
              "      <td>1993-08-08</td>\n",
              "      <td>Bolivia</td>\n",
              "      <td>Uruguay</td>\n",
              "      <td>3</td>\n",
              "      <td>1</td>\n",
              "      <td>World cup</td>\n",
              "      <td>Bolivia</td>\n",
              "      <td>8</td>\n",
              "      <td>8</td>\n",
              "      <td>1993</td>\n",
              "    </tr>\n",
              "    <tr>\n",
              "      <th>2</th>\n",
              "      <td>1993-08-08</td>\n",
              "      <td>Brazil</td>\n",
              "      <td>Mexico</td>\n",
              "      <td>1</td>\n",
              "      <td>1</td>\n",
              "      <td>Friendly</td>\n",
              "      <td>Brazil</td>\n",
              "      <td>8</td>\n",
              "      <td>8</td>\n",
              "      <td>1993</td>\n",
              "    </tr>\n",
              "  </tbody>\n",
              "</table>\n",
              "</div>"
            ],
            "text/plain": [
              "        date home_team away_team  home_score  ...      country day month  year\n",
              "0 1993-08-07   Senegal    Zambia           0  ...  Ivory Coast   7     8  1993\n",
              "1 1993-08-08   Bolivia   Uruguay           3  ...      Bolivia   8     8  1993\n",
              "2 1993-08-08    Brazil    Mexico           1  ...       Brazil   8     8  1993\n",
              "\n",
              "[3 rows x 10 columns]"
            ]
          },
          "metadata": {},
          "execution_count": 54
        }
      ]
    },
    {
      "cell_type": "markdown",
      "metadata": {
        "id": "rRAAegMl-TX1"
      },
      "source": [
        "convert data types"
      ]
    },
    {
      "cell_type": "code",
      "metadata": {
        "id": "UeR_EglD4x4r"
      },
      "source": [
        "\n",
        "df['away_team']=df['away_team'].astype('category')\n",
        "df['home_team']=df['home_team'].astype('category')\n",
        "df['home_status']=df['home_status'].astype('category')\n",
        "\n"
      ],
      "execution_count": 55,
      "outputs": []
    },
    {
      "cell_type": "code",
      "metadata": {
        "colab": {
          "base_uri": "https://localhost:8080/"
        },
        "id": "eHGMG1JG5Hjz",
        "outputId": "e586ebd6-f365-455e-dee0-91fdb41b0bfe"
      },
      "source": [
        "df.info()"
      ],
      "execution_count": 56,
      "outputs": [
        {
          "output_type": "stream",
          "name": "stdout",
          "text": [
            "<class 'pandas.core.frame.DataFrame'>\n",
            "Int64Index: 99617 entries, 0 to 99616\n",
            "Data columns (total 9 columns):\n",
            " #   Column       Non-Null Count  Dtype   \n",
            "---  ------       --------------  -----   \n",
            " 0   home_rank    99617 non-null  int64   \n",
            " 1   year         99617 non-null  int64   \n",
            " 2   home_team    99617 non-null  category\n",
            " 3   away_team    99617 non-null  category\n",
            " 4   home_score   99617 non-null  int64   \n",
            " 5   away_rank    99617 non-null  int64   \n",
            " 6   away_score   99617 non-null  int64   \n",
            " 7   tournament   99617 non-null  object  \n",
            " 8   home_status  99617 non-null  category\n",
            "dtypes: category(3), int64(5), object(1)\n",
            "memory usage: 5.8+ MB\n"
          ]
        }
      ]
    },
    {
      "cell_type": "code",
      "metadata": {
        "colab": {
          "base_uri": "https://localhost:8080/",
          "height": 290
        },
        "id": "aIfT1Q0p5O6U",
        "outputId": "4a534ff3-0007-46bd-bda1-174268819956"
      },
      "source": [
        "df.describe()"
      ],
      "execution_count": 57,
      "outputs": [
        {
          "output_type": "execute_result",
          "data": {
            "text/html": [
              "<div>\n",
              "<style scoped>\n",
              "    .dataframe tbody tr th:only-of-type {\n",
              "        vertical-align: middle;\n",
              "    }\n",
              "\n",
              "    .dataframe tbody tr th {\n",
              "        vertical-align: top;\n",
              "    }\n",
              "\n",
              "    .dataframe thead th {\n",
              "        text-align: right;\n",
              "    }\n",
              "</style>\n",
              "<table border=\"1\" class=\"dataframe\">\n",
              "  <thead>\n",
              "    <tr style=\"text-align: right;\">\n",
              "      <th></th>\n",
              "      <th>home_rank</th>\n",
              "      <th>year</th>\n",
              "      <th>home_score</th>\n",
              "      <th>away_rank</th>\n",
              "      <th>away_score</th>\n",
              "    </tr>\n",
              "  </thead>\n",
              "  <tbody>\n",
              "    <tr>\n",
              "      <th>count</th>\n",
              "      <td>99617.000000</td>\n",
              "      <td>99617.000000</td>\n",
              "      <td>99617.000000</td>\n",
              "      <td>99617.000000</td>\n",
              "      <td>99617.000000</td>\n",
              "    </tr>\n",
              "    <tr>\n",
              "      <th>mean</th>\n",
              "      <td>74.068031</td>\n",
              "      <td>2006.467019</td>\n",
              "      <td>1.333808</td>\n",
              "      <td>72.587721</td>\n",
              "      <td>1.081442</td>\n",
              "    </tr>\n",
              "    <tr>\n",
              "      <th>std</th>\n",
              "      <td>49.442183</td>\n",
              "      <td>6.548083</td>\n",
              "      <td>1.071924</td>\n",
              "      <td>48.123568</td>\n",
              "      <td>1.167921</td>\n",
              "    </tr>\n",
              "    <tr>\n",
              "      <th>min</th>\n",
              "      <td>1.000000</td>\n",
              "      <td>1993.000000</td>\n",
              "      <td>0.000000</td>\n",
              "      <td>1.000000</td>\n",
              "      <td>0.000000</td>\n",
              "    </tr>\n",
              "    <tr>\n",
              "      <th>25%</th>\n",
              "      <td>33.000000</td>\n",
              "      <td>2001.000000</td>\n",
              "      <td>0.000000</td>\n",
              "      <td>33.000000</td>\n",
              "      <td>0.000000</td>\n",
              "    </tr>\n",
              "    <tr>\n",
              "      <th>50%</th>\n",
              "      <td>68.000000</td>\n",
              "      <td>2007.000000</td>\n",
              "      <td>1.000000</td>\n",
              "      <td>67.000000</td>\n",
              "      <td>1.000000</td>\n",
              "    </tr>\n",
              "    <tr>\n",
              "      <th>75%</th>\n",
              "      <td>108.000000</td>\n",
              "      <td>2012.000000</td>\n",
              "      <td>2.000000</td>\n",
              "      <td>105.000000</td>\n",
              "      <td>2.000000</td>\n",
              "    </tr>\n",
              "    <tr>\n",
              "      <th>max</th>\n",
              "      <td>209.000000</td>\n",
              "      <td>2018.000000</td>\n",
              "      <td>3.000000</td>\n",
              "      <td>209.000000</td>\n",
              "      <td>5.000000</td>\n",
              "    </tr>\n",
              "  </tbody>\n",
              "</table>\n",
              "</div>"
            ],
            "text/plain": [
              "          home_rank          year    home_score     away_rank    away_score\n",
              "count  99617.000000  99617.000000  99617.000000  99617.000000  99617.000000\n",
              "mean      74.068031   2006.467019      1.333808     72.587721      1.081442\n",
              "std       49.442183      6.548083      1.071924     48.123568      1.167921\n",
              "min        1.000000   1993.000000      0.000000      1.000000      0.000000\n",
              "25%       33.000000   2001.000000      0.000000     33.000000      0.000000\n",
              "50%       68.000000   2007.000000      1.000000     67.000000      1.000000\n",
              "75%      108.000000   2012.000000      2.000000    105.000000      2.000000\n",
              "max      209.000000   2018.000000      3.000000    209.000000      5.000000"
            ]
          },
          "metadata": {},
          "execution_count": 57
        }
      ]
    },
    {
      "cell_type": "code",
      "metadata": {
        "colab": {
          "base_uri": "https://localhost:8080/"
        },
        "id": "DJxW_b9R0kIc",
        "outputId": "ca0523d9-d1cf-4262-fcd0-ba42a4b0ac76"
      },
      "source": [
        "df.isnull().sum()"
      ],
      "execution_count": 58,
      "outputs": [
        {
          "output_type": "execute_result",
          "data": {
            "text/plain": [
              "home_rank      0\n",
              "year           0\n",
              "home_team      0\n",
              "away_team      0\n",
              "home_score     0\n",
              "away_rank      0\n",
              "away_score     0\n",
              "tournament     0\n",
              "home_status    0\n",
              "dtype: int64"
            ]
          },
          "metadata": {},
          "execution_count": 58
        }
      ]
    },
    {
      "cell_type": "markdown",
      "metadata": {
        "id": "A4Ce66zUCVeP"
      },
      "source": [
        "since its possible to have had repeat matches, there is no need to remove the duplicated values"
      ]
    },
    {
      "cell_type": "code",
      "metadata": {
        "colab": {
          "base_uri": "https://localhost:8080/"
        },
        "id": "vLmxEK1N4sY6",
        "outputId": "190872c5-7b28-48af-9c3d-ffb3627d45ba"
      },
      "source": [
        "print(df.duplicated().sum())\n",
        "#df.drop_duplicates(keep=False,inplace=True)\n",
        "#print(df.duplicated().sum())"
      ],
      "execution_count": 59,
      "outputs": [
        {
          "output_type": "stream",
          "name": "stdout",
          "text": [
            "11193\n"
          ]
        }
      ]
    },
    {
      "cell_type": "code",
      "metadata": {
        "colab": {
          "base_uri": "https://localhost:8080/"
        },
        "id": "AOOxYXkl8ij9",
        "outputId": "7623b00c-cb9a-456d-f0be-5efc4b73b9c2"
      },
      "source": [
        "df.info()"
      ],
      "execution_count": 60,
      "outputs": [
        {
          "output_type": "stream",
          "name": "stdout",
          "text": [
            "<class 'pandas.core.frame.DataFrame'>\n",
            "Int64Index: 99617 entries, 0 to 99616\n",
            "Data columns (total 9 columns):\n",
            " #   Column       Non-Null Count  Dtype   \n",
            "---  ------       --------------  -----   \n",
            " 0   home_rank    99617 non-null  int64   \n",
            " 1   year         99617 non-null  int64   \n",
            " 2   home_team    99617 non-null  category\n",
            " 3   away_team    99617 non-null  category\n",
            " 4   home_score   99617 non-null  int64   \n",
            " 5   away_rank    99617 non-null  int64   \n",
            " 6   away_score   99617 non-null  int64   \n",
            " 7   tournament   99617 non-null  object  \n",
            " 8   home_status  99617 non-null  category\n",
            "dtypes: category(3), int64(5), object(1)\n",
            "memory usage: 5.8+ MB\n"
          ]
        }
      ]
    },
    {
      "cell_type": "code",
      "metadata": {
        "colab": {
          "base_uri": "https://localhost:8080/",
          "height": 200
        },
        "id": "NHmrrzW_DvP5",
        "outputId": "f2dd608b-fab8-4702-f262-8e1f0f47599f"
      },
      "source": [
        "df.head()"
      ],
      "execution_count": 61,
      "outputs": [
        {
          "output_type": "execute_result",
          "data": {
            "text/html": [
              "<div>\n",
              "<style scoped>\n",
              "    .dataframe tbody tr th:only-of-type {\n",
              "        vertical-align: middle;\n",
              "    }\n",
              "\n",
              "    .dataframe tbody tr th {\n",
              "        vertical-align: top;\n",
              "    }\n",
              "\n",
              "    .dataframe thead th {\n",
              "        text-align: right;\n",
              "    }\n",
              "</style>\n",
              "<table border=\"1\" class=\"dataframe\">\n",
              "  <thead>\n",
              "    <tr style=\"text-align: right;\">\n",
              "      <th></th>\n",
              "      <th>home_rank</th>\n",
              "      <th>year</th>\n",
              "      <th>home_team</th>\n",
              "      <th>away_team</th>\n",
              "      <th>home_score</th>\n",
              "      <th>away_rank</th>\n",
              "      <th>away_score</th>\n",
              "      <th>tournament</th>\n",
              "      <th>home_status</th>\n",
              "    </tr>\n",
              "  </thead>\n",
              "  <tbody>\n",
              "    <tr>\n",
              "      <th>0</th>\n",
              "      <td>4</td>\n",
              "      <td>1993</td>\n",
              "      <td>Sweden</td>\n",
              "      <td>Switzerland</td>\n",
              "      <td>1</td>\n",
              "      <td>3</td>\n",
              "      <td>2</td>\n",
              "      <td>Friendly</td>\n",
              "      <td>Loss</td>\n",
              "    </tr>\n",
              "    <tr>\n",
              "      <th>1</th>\n",
              "      <td>4</td>\n",
              "      <td>1993</td>\n",
              "      <td>Sweden</td>\n",
              "      <td>Switzerland</td>\n",
              "      <td>1</td>\n",
              "      <td>10</td>\n",
              "      <td>1</td>\n",
              "      <td>World cup</td>\n",
              "      <td>Draw</td>\n",
              "    </tr>\n",
              "    <tr>\n",
              "      <th>2</th>\n",
              "      <td>4</td>\n",
              "      <td>1993</td>\n",
              "      <td>Sweden</td>\n",
              "      <td>Switzerland</td>\n",
              "      <td>1</td>\n",
              "      <td>13</td>\n",
              "      <td>0</td>\n",
              "      <td>World cup</td>\n",
              "      <td>Win</td>\n",
              "    </tr>\n",
              "    <tr>\n",
              "      <th>3</th>\n",
              "      <td>28</td>\n",
              "      <td>1993</td>\n",
              "      <td>Scotland</td>\n",
              "      <td>Switzerland</td>\n",
              "      <td>1</td>\n",
              "      <td>3</td>\n",
              "      <td>2</td>\n",
              "      <td>Friendly</td>\n",
              "      <td>Loss</td>\n",
              "    </tr>\n",
              "    <tr>\n",
              "      <th>4</th>\n",
              "      <td>28</td>\n",
              "      <td>1993</td>\n",
              "      <td>Scotland</td>\n",
              "      <td>Switzerland</td>\n",
              "      <td>1</td>\n",
              "      <td>10</td>\n",
              "      <td>1</td>\n",
              "      <td>World cup</td>\n",
              "      <td>Draw</td>\n",
              "    </tr>\n",
              "  </tbody>\n",
              "</table>\n",
              "</div>"
            ],
            "text/plain": [
              "   home_rank  year home_team  ... away_score  tournament  home_status\n",
              "0          4  1993    Sweden  ...          2    Friendly         Loss\n",
              "1          4  1993    Sweden  ...          1   World cup         Draw\n",
              "2          4  1993    Sweden  ...          0   World cup          Win\n",
              "3         28  1993  Scotland  ...          2    Friendly         Loss\n",
              "4         28  1993  Scotland  ...          1   World cup         Draw\n",
              "\n",
              "[5 rows x 9 columns]"
            ]
          },
          "metadata": {},
          "execution_count": 61
        }
      ]
    },
    {
      "cell_type": "markdown",
      "metadata": {
        "id": "7JHxhYaX-bRP"
      },
      "source": [
        "#####EDA\n"
      ]
    },
    {
      "cell_type": "code",
      "metadata": {
        "id": "sRUFIwdq_ZZs"
      },
      "source": [
        "a=df[['home_score','away_score']]\n"
      ],
      "execution_count": 62,
      "outputs": []
    },
    {
      "cell_type": "code",
      "metadata": {
        "colab": {
          "base_uri": "https://localhost:8080/"
        },
        "id": "B8WpI2Xf_8wK",
        "outputId": "48caf846-fc5b-47a3-de47-4186e8a7f595"
      },
      "source": [
        "a.var()"
      ],
      "execution_count": 63,
      "outputs": [
        {
          "output_type": "execute_result",
          "data": {
            "text/plain": [
              "home_score    1.149021\n",
              "away_score    1.364041\n",
              "dtype: float64"
            ]
          },
          "metadata": {},
          "execution_count": 63
        }
      ]
    },
    {
      "cell_type": "code",
      "metadata": {
        "colab": {
          "base_uri": "https://localhost:8080/"
        },
        "id": "9TGKT7tAAUoF",
        "outputId": "14dca675-c277-4b0c-c73b-220c457ab6a9"
      },
      "source": [
        "a.std()"
      ],
      "execution_count": 64,
      "outputs": [
        {
          "output_type": "execute_result",
          "data": {
            "text/plain": [
              "home_score    1.071924\n",
              "away_score    1.167921\n",
              "dtype: float64"
            ]
          },
          "metadata": {},
          "execution_count": 64
        }
      ]
    },
    {
      "cell_type": "code",
      "metadata": {
        "colab": {
          "base_uri": "https://localhost:8080/"
        },
        "id": "VMTFp-qnAW3m",
        "outputId": "71f53d3e-34c0-4c73-91ad-68c093854b0b"
      },
      "source": [
        "a.skew()"
      ],
      "execution_count": 65,
      "outputs": [
        {
          "output_type": "execute_result",
          "data": {
            "text/plain": [
              "home_score    0.238385\n",
              "away_score    1.200157\n",
              "dtype: float64"
            ]
          },
          "metadata": {},
          "execution_count": 65
        }
      ]
    },
    {
      "cell_type": "code",
      "metadata": {
        "colab": {
          "base_uri": "https://localhost:8080/"
        },
        "id": "Cnx5sGpxAbfo",
        "outputId": "183f6509-7fcf-4f65-909c-36d7df4aa5fc"
      },
      "source": [
        "a.kurtosis()"
      ],
      "execution_count": 66,
      "outputs": [
        {
          "output_type": "execute_result",
          "data": {
            "text/plain": [
              "home_score   -1.194945\n",
              "away_score    1.258360\n",
              "dtype: float64"
            ]
          },
          "metadata": {},
          "execution_count": 66
        }
      ]
    },
    {
      "cell_type": "code",
      "metadata": {
        "colab": {
          "base_uri": "https://localhost:8080/",
          "height": 346
        },
        "id": "1D6Frr9ADgNH",
        "outputId": "741401d5-e3e4-4469-9165-e393c39cfec4"
      },
      "source": [
        "#distribution of the home_scores\n",
        "from scipy.stats import norm\n",
        "sns.distplot(df['home_score'], fit=norm)\n",
        "plt.title('distribution of the home_scores', fontsize = 10)\n",
        "plt.show()"
      ],
      "execution_count": 67,
      "outputs": [
        {
          "output_type": "stream",
          "name": "stderr",
          "text": [
            "/usr/local/lib/python3.7/dist-packages/seaborn/distributions.py:2619: FutureWarning: `distplot` is a deprecated function and will be removed in a future version. Please adapt your code to use either `displot` (a figure-level function with similar flexibility) or `histplot` (an axes-level function for histograms).\n",
            "  warnings.warn(msg, FutureWarning)\n"
          ]
        },
        {
          "output_type": "display_data",
          "data": {
            "image/png": "[encoded data removed]",
            "text/plain": [
              "<Figure size 432x288 with 1 Axes>"
            ]
          },
          "metadata": {
            "needs_background": "light"
          }
        }
      ]
    },
    {
      "cell_type": "markdown",
      "metadata": {
        "id": "_XZYPc5eKkbG"
      },
      "source": [
        "over the years"
      ]
    },
    {
      "cell_type": "code",
      "metadata": {
        "colab": {
          "base_uri": "https://localhost:8080/",
          "height": 308
        },
        "id": "dChzcfYfGvsd",
        "outputId": "a321a355-bad5-49a1-e79e-493dddcec950"
      },
      "source": [
        "y=sns.countplot(x='year', data=df)\n",
        "sns.set(rc={'figure.figsize':(10,10)})\n",
        "plt.title('ditribution of the years', fontsize = 10)\n",
        "y.set_xticklabels(y.get_xticklabels(),rotation=90)\n",
        "plt.show()"
      ],
      "execution_count": 68,
      "outputs": [
        {
          "output_type": "display_data",
          "data": {
            "image/png": "[encoded data removed]",
            "text/plain": [
              "<Figure size 432x288 with 1 Axes>"
            ]
          },
          "metadata": {
            "needs_background": "light"
          }
        }
      ]
    },
    {
      "cell_type": "code",
      "metadata": {
        "colab": {
          "base_uri": "https://localhost:8080/",
          "height": 625
        },
        "id": "6Ub19L7AEj0g",
        "outputId": "6550561b-c2e0-4ae5-8ec9-dab4bfa647f4"
      },
      "source": [
        "\n",
        "#distribution of the away_scores\n",
        "sns.countplot(x='away_score', data=df)\n",
        "plt.title('distribution of the away_scores', fontsize = 10)\n",
        "plt.show()"
      ],
      "execution_count": 69,
      "outputs": [
        {
          "output_type": "display_data",
          "data": {
            "image/png": "[encoded data removed]",
            "text/plain": [
              "<Figure size 720x720 with 1 Axes>"
            ]
          },
          "metadata": {}
        }
      ]
    },
    {
      "cell_type": "code",
      "metadata": {
        "colab": {
          "base_uri": "https://localhost:8080/",
          "height": 670
        },
        "id": "Aag3JYNOM-VH",
        "outputId": "31671e0f-88ed-47c9-f67c-8dd5198e8074"
      },
      "source": [
        "y=sns.countplot(x='tournament', data=df)\n",
        "sns.set(rc={'figure.figsize':(10,10)})\n",
        "plt.title('frequency of tournaments over the years', fontsize = 10)\n",
        "y.set_xticklabels(y.get_xticklabels(),rotation=90)\n",
        "plt.show()"
      ],
      "execution_count": 70,
      "outputs": [
        {
          "output_type": "display_data",
          "data": {
            "image/png": "[encoded data removed]",
            "text/plain": [
              "<Figure size 720x720 with 1 Axes>"
            ]
          },
          "metadata": {}
        }
      ]
    },
    {
      "cell_type": "markdown",
      "metadata": {
        "id": "VXbAjQO6-nkO"
      },
      "source": [
        "#####MULTICOLLINEARITY"
      ]
    },
    {
      "cell_type": "code",
      "metadata": {
        "colab": {
          "base_uri": "https://localhost:8080/",
          "height": 200
        },
        "id": "pfjUnaz48k_E",
        "outputId": "a59846fb-046b-4e78-f091-687c495fa465"
      },
      "source": [
        "df.corr()"
      ],
      "execution_count": 71,
      "outputs": [
        {
          "output_type": "execute_result",
          "data": {
            "text/html": [
              "<div>\n",
              "<style scoped>\n",
              "    .dataframe tbody tr th:only-of-type {\n",
              "        vertical-align: middle;\n",
              "    }\n",
              "\n",
              "    .dataframe tbody tr th {\n",
              "        vertical-align: top;\n",
              "    }\n",
              "\n",
              "    .dataframe thead th {\n",
              "        text-align: right;\n",
              "    }\n",
              "</style>\n",
              "<table border=\"1\" class=\"dataframe\">\n",
              "  <thead>\n",
              "    <tr style=\"text-align: right;\">\n",
              "      <th></th>\n",
              "      <th>home_rank</th>\n",
              "      <th>year</th>\n",
              "      <th>home_score</th>\n",
              "      <th>away_rank</th>\n",
              "      <th>away_score</th>\n",
              "    </tr>\n",
              "  </thead>\n",
              "  <tbody>\n",
              "    <tr>\n",
              "      <th>home_rank</th>\n",
              "      <td>1.000000</td>\n",
              "      <td>0.118441</td>\n",
              "      <td>-0.206087</td>\n",
              "      <td>0.457446</td>\n",
              "      <td>-0.001682</td>\n",
              "    </tr>\n",
              "    <tr>\n",
              "      <th>year</th>\n",
              "      <td>0.118441</td>\n",
              "      <td>1.000000</td>\n",
              "      <td>-0.027484</td>\n",
              "      <td>0.143335</td>\n",
              "      <td>-0.012336</td>\n",
              "    </tr>\n",
              "    <tr>\n",
              "      <th>home_score</th>\n",
              "      <td>-0.206087</td>\n",
              "      <td>-0.027484</td>\n",
              "      <td>1.000000</td>\n",
              "      <td>0.227655</td>\n",
              "      <td>-0.069674</td>\n",
              "    </tr>\n",
              "    <tr>\n",
              "      <th>away_rank</th>\n",
              "      <td>0.457446</td>\n",
              "      <td>0.143335</td>\n",
              "      <td>0.227655</td>\n",
              "      <td>1.000000</td>\n",
              "      <td>-0.169055</td>\n",
              "    </tr>\n",
              "    <tr>\n",
              "      <th>away_score</th>\n",
              "      <td>-0.001682</td>\n",
              "      <td>-0.012336</td>\n",
              "      <td>-0.069674</td>\n",
              "      <td>-0.169055</td>\n",
              "      <td>1.000000</td>\n",
              "    </tr>\n",
              "  </tbody>\n",
              "</table>\n",
              "</div>"
            ],
            "text/plain": [
              "            home_rank      year  home_score  away_rank  away_score\n",
              "home_rank    1.000000  0.118441   -0.206087   0.457446   -0.001682\n",
              "year         0.118441  1.000000   -0.027484   0.143335   -0.012336\n",
              "home_score  -0.206087 -0.027484    1.000000   0.227655   -0.069674\n",
              "away_rank    0.457446  0.143335    0.227655   1.000000   -0.169055\n",
              "away_score  -0.001682 -0.012336   -0.069674  -0.169055    1.000000"
            ]
          },
          "metadata": {},
          "execution_count": 71
        }
      ]
    },
    {
      "cell_type": "code",
      "metadata": {
        "colab": {
          "base_uri": "https://localhost:8080/",
          "height": 598
        },
        "id": "ZslogFmZKaw-",
        "outputId": "f2ed23c7-d3be-487f-f0c9-44362449cc08"
      },
      "source": [
        "correlations =sns.heatmap(df[['away_score','home_score']].corr())"
      ],
      "execution_count": 72,
      "outputs": [
        {
          "output_type": "display_data",
          "data": {
            "image/png": "[encoded data removed]",
            "text/plain": [
              "<Figure size 720x720 with 2 Axes>"
            ]
          },
          "metadata": {}
        }
      ]
    },
    {
      "cell_type": "markdown",
      "metadata": {
        "id": "p05ur-azBnSU"
      },
      "source": [
        "the independent values, home score and away score are not correlated"
      ]
    },
    {
      "cell_type": "markdown",
      "metadata": {
        "id": "StvD1Y_iaGvT"
      },
      "source": [
        "###MODELS"
      ]
    },
    {
      "cell_type": "markdown",
      "metadata": {
        "id": "ZoG16vGWQvQy"
      },
      "source": [
        "encode categorical columns"
      ]
    },
    {
      "cell_type": "code",
      "metadata": {
        "colab": {
          "base_uri": "https://localhost:8080/",
          "height": 408
        },
        "id": "4On_FHasPqgI",
        "outputId": "63533ec6-f40f-4727-e4ff-61faae9bc64d"
      },
      "source": [
        "from sklearn.preprocessing import LabelEncoder\n",
        "label = LabelEncoder()\n",
        "dfe = df.apply(label.fit_transform)\n",
        "dfe"
      ],
      "execution_count": 73,
      "outputs": [
        {
          "output_type": "execute_result",
          "data": {
            "text/html": [
              "<div>\n",
              "<style scoped>\n",
              "    .dataframe tbody tr th:only-of-type {\n",
              "        vertical-align: middle;\n",
              "    }\n",
              "\n",
              "    .dataframe tbody tr th {\n",
              "        vertical-align: top;\n",
              "    }\n",
              "\n",
              "    .dataframe thead th {\n",
              "        text-align: right;\n",
              "    }\n",
              "</style>\n",
              "<table border=\"1\" class=\"dataframe\">\n",
              "  <thead>\n",
              "    <tr style=\"text-align: right;\">\n",
              "      <th></th>\n",
              "      <th>home_rank</th>\n",
              "      <th>year</th>\n",
              "      <th>home_team</th>\n",
              "      <th>away_team</th>\n",
              "      <th>home_score</th>\n",
              "      <th>away_rank</th>\n",
              "      <th>away_score</th>\n",
              "      <th>tournament</th>\n",
              "      <th>home_status</th>\n",
              "    </tr>\n",
              "  </thead>\n",
              "  <tbody>\n",
              "    <tr>\n",
              "      <th>0</th>\n",
              "      <td>3</td>\n",
              "      <td>0</td>\n",
              "      <td>167</td>\n",
              "      <td>168</td>\n",
              "      <td>1</td>\n",
              "      <td>2</td>\n",
              "      <td>2</td>\n",
              "      <td>0</td>\n",
              "      <td>1</td>\n",
              "    </tr>\n",
              "    <tr>\n",
              "      <th>1</th>\n",
              "      <td>3</td>\n",
              "      <td>0</td>\n",
              "      <td>167</td>\n",
              "      <td>168</td>\n",
              "      <td>1</td>\n",
              "      <td>9</td>\n",
              "      <td>1</td>\n",
              "      <td>2</td>\n",
              "      <td>0</td>\n",
              "    </tr>\n",
              "    <tr>\n",
              "      <th>2</th>\n",
              "      <td>3</td>\n",
              "      <td>0</td>\n",
              "      <td>167</td>\n",
              "      <td>168</td>\n",
              "      <td>1</td>\n",
              "      <td>12</td>\n",
              "      <td>0</td>\n",
              "      <td>2</td>\n",
              "      <td>2</td>\n",
              "    </tr>\n",
              "    <tr>\n",
              "      <th>3</th>\n",
              "      <td>27</td>\n",
              "      <td>0</td>\n",
              "      <td>151</td>\n",
              "      <td>168</td>\n",
              "      <td>1</td>\n",
              "      <td>2</td>\n",
              "      <td>2</td>\n",
              "      <td>0</td>\n",
              "      <td>1</td>\n",
              "    </tr>\n",
              "    <tr>\n",
              "      <th>4</th>\n",
              "      <td>27</td>\n",
              "      <td>0</td>\n",
              "      <td>151</td>\n",
              "      <td>168</td>\n",
              "      <td>1</td>\n",
              "      <td>9</td>\n",
              "      <td>1</td>\n",
              "      <td>2</td>\n",
              "      <td>0</td>\n",
              "    </tr>\n",
              "    <tr>\n",
              "      <th>...</th>\n",
              "      <td>...</td>\n",
              "      <td>...</td>\n",
              "      <td>...</td>\n",
              "      <td>...</td>\n",
              "      <td>...</td>\n",
              "      <td>...</td>\n",
              "      <td>...</td>\n",
              "      <td>...</td>\n",
              "      <td>...</td>\n",
              "    </tr>\n",
              "    <tr>\n",
              "      <th>99612</th>\n",
              "      <td>183</td>\n",
              "      <td>25</td>\n",
              "      <td>112</td>\n",
              "      <td>69</td>\n",
              "      <td>0</td>\n",
              "      <td>95</td>\n",
              "      <td>0</td>\n",
              "      <td>0</td>\n",
              "      <td>0</td>\n",
              "    </tr>\n",
              "    <tr>\n",
              "      <th>99613</th>\n",
              "      <td>96</td>\n",
              "      <td>25</td>\n",
              "      <td>85</td>\n",
              "      <td>40</td>\n",
              "      <td>3</td>\n",
              "      <td>122</td>\n",
              "      <td>0</td>\n",
              "      <td>1</td>\n",
              "      <td>2</td>\n",
              "    </tr>\n",
              "    <tr>\n",
              "      <th>99614</th>\n",
              "      <td>116</td>\n",
              "      <td>25</td>\n",
              "      <td>93</td>\n",
              "      <td>13</td>\n",
              "      <td>3</td>\n",
              "      <td>104</td>\n",
              "      <td>0</td>\n",
              "      <td>0</td>\n",
              "      <td>2</td>\n",
              "    </tr>\n",
              "    <tr>\n",
              "      <th>99615</th>\n",
              "      <td>121</td>\n",
              "      <td>25</td>\n",
              "      <td>173</td>\n",
              "      <td>39</td>\n",
              "      <td>0</td>\n",
              "      <td>74</td>\n",
              "      <td>2</td>\n",
              "      <td>0</td>\n",
              "      <td>1</td>\n",
              "    </tr>\n",
              "    <tr>\n",
              "      <th>99616</th>\n",
              "      <td>159</td>\n",
              "      <td>25</td>\n",
              "      <td>17</td>\n",
              "      <td>20</td>\n",
              "      <td>0</td>\n",
              "      <td>162</td>\n",
              "      <td>0</td>\n",
              "      <td>0</td>\n",
              "      <td>0</td>\n",
              "    </tr>\n",
              "  </tbody>\n",
              "</table>\n",
              "<p>99617 rows × 9 columns</p>\n",
              "</div>"
            ],
            "text/plain": [
              "       home_rank  year  home_team  ...  away_score  tournament  home_status\n",
              "0              3     0        167  ...           2           0            1\n",
              "1              3     0        167  ...           1           2            0\n",
              "2              3     0        167  ...           0           2            2\n",
              "3             27     0        151  ...           2           0            1\n",
              "4             27     0        151  ...           1           2            0\n",
              "...          ...   ...        ...  ...         ...         ...          ...\n",
              "99612        183    25        112  ...           0           0            0\n",
              "99613         96    25         85  ...           0           1            2\n",
              "99614        116    25         93  ...           0           0            2\n",
              "99615        121    25        173  ...           2           0            1\n",
              "99616        159    25         17  ...           0           0            0\n",
              "\n",
              "[99617 rows x 9 columns]"
            ]
          },
          "metadata": {},
          "execution_count": 73
        }
      ]
    },
    {
      "cell_type": "code",
      "metadata": {
        "colab": {
          "base_uri": "https://localhost:8080/"
        },
        "id": "W4f5_C5WResV",
        "outputId": "a02e9664-8996-41ce-b475-7d48f18c6e5a"
      },
      "source": [
        "dfe.columns"
      ],
      "execution_count": 74,
      "outputs": [
        {
          "output_type": "execute_result",
          "data": {
            "text/plain": [
              "Index(['home_rank', 'year', 'home_team', 'away_team', 'home_score',\n",
              "       'away_rank', 'away_score', 'tournament', 'home_status'],\n",
              "      dtype='object')"
            ]
          },
          "metadata": {},
          "execution_count": 74
        }
      ]
    },
    {
      "cell_type": "markdown",
      "metadata": {
        "id": "2Oba2fcJaYG_"
      },
      "source": [
        "#####LOGISTIC APPROACH"
      ]
    },
    {
      "cell_type": "markdown",
      "metadata": {
        "id": "P2R6XMe6SCp_"
      },
      "source": [
        "split our data set"
      ]
    },
    {
      "cell_type": "code",
      "metadata": {
        "id": "cjEdMEVWaLVa"
      },
      "source": [
        "X1 = dfe[[ 'away_score', 'home_score',\n",
        "        'tournament']].values\n",
        "y = dfe[ 'home_status'].values\n",
        "\n",
        "from sklearn.model_selection import train_test_split\n",
        "X1_train, X1_test, y_train, y_test = train_test_split(X1, y, test_size = .2, random_state=0)"
      ],
      "execution_count": 75,
      "outputs": []
    },
    {
      "cell_type": "markdown",
      "metadata": {
        "id": "FlxW05pZSF1W"
      },
      "source": [
        "fit the model"
      ]
    },
    {
      "cell_type": "code",
      "metadata": {
        "colab": {
          "base_uri": "https://localhost:8080/"
        },
        "id": "XKUv89MvSWcg",
        "outputId": "99269ea4-ba6b-413e-c948-87e63c7e605a"
      },
      "source": [
        "from sklearn.linear_model import LogisticRegression\n",
        "\n",
        "lr = LogisticRegression()\n",
        "lr.fit(X1_train, y_train)"
      ],
      "execution_count": 76,
      "outputs": [
        {
          "output_type": "execute_result",
          "data": {
            "text/plain": [
              "LogisticRegression(C=1.0, class_weight=None, dual=False, fit_intercept=True,\n",
              "                   intercept_scaling=1, l1_ratio=None, max_iter=100,\n",
              "                   multi_class='auto', n_jobs=None, penalty='l2',\n",
              "                   random_state=None, solver='lbfgs', tol=0.0001, verbose=0,\n",
              "                   warm_start=False)"
            ]
          },
          "metadata": {},
          "execution_count": 76
        }
      ]
    },
    {
      "cell_type": "markdown",
      "metadata": {
        "id": "3faTRwBZUv3y"
      },
      "source": [
        "make a prediction. test the accuracy of the model"
      ]
    },
    {
      "cell_type": "code",
      "metadata": {
        "colab": {
          "base_uri": "https://localhost:8080/"
        },
        "id": "sd8tYLCqUya9",
        "outputId": "7a611d0b-c202-4943-e458-00c605ac15f8"
      },
      "source": [
        "y_predicted=lr.predict(X1_test)\n",
        "\n",
        "from sklearn.metrics import confusion_matrix\n",
        "\n",
        "cm = confusion_matrix(y_test, y_predicted)\n",
        "print(cm)\n",
        "\n",
        "df3=pd.DataFrame({'Actual':y_test,'Predicted':y_predicted})\n",
        "print(df3)"
      ],
      "execution_count": 77,
      "outputs": [
        {
          "output_type": "stream",
          "name": "stdout",
          "text": [
            "[[4959    0    0]\n",
            " [   0 5958    0]\n",
            " [   0    0 9007]]\n",
            "       Actual  Predicted\n",
            "0           2          2\n",
            "1           0          0\n",
            "2           2          2\n",
            "3           1          1\n",
            "4           2          2\n",
            "...       ...        ...\n",
            "19919       1          1\n",
            "19920       0          0\n",
            "19921       2          2\n",
            "19922       2          2\n",
            "19923       0          0\n",
            "\n",
            "[19924 rows x 2 columns]\n"
          ]
        }
      ]
    },
    {
      "cell_type": "code",
      "metadata": {
        "colab": {
          "base_uri": "https://localhost:8080/"
        },
        "id": "RRByEEo0VeAa",
        "outputId": "07c0fe3f-e173-4fa2-bdf1-799209bf4820"
      },
      "source": [
        "#sklearn.metrics.log_loss(y_test, y_predicted, *, eps=1e-15, normalize=True, sample_weight=None, labels=None)\n",
        "from sklearn.metrics import log_loss\n",
        "log_loss([0, 1, 2],[[4959,  0,  0],[ 0, 5958,  0], [ 0,  0, 9007]])"
      ],
      "execution_count": 78,
      "outputs": [
        {
          "output_type": "execute_result",
          "data": {
            "text/plain": [
              "2.1094237467877998e-15"
            ]
          },
          "metadata": {},
          "execution_count": 78
        }
      ]
    },
    {
      "cell_type": "markdown",
      "metadata": {
        "id": "Mg4NaSXLWbKb"
      },
      "source": [
        "our value diverges far from the true value. My recommendation would be maybe use a different model."
      ]
    },
    {
      "cell_type": "markdown",
      "metadata": {
        "id": "HkwOUWiBXxiD"
      },
      "source": [
        "lets increase our test size and observe what happens"
      ]
    },
    {
      "cell_type": "code",
      "metadata": {
        "colab": {
          "base_uri": "https://localhost:8080/"
        },
        "id": "HZB2egxZW5sX",
        "outputId": "4983e745-d4c1-4950-9187-96bce2e22656"
      },
      "source": [
        "X = dfe[[ 'away_score', 'home_score',\n",
        "        'tournament']].values\n",
        "y1 = dfe[ 'home_status'].values\n",
        "\n",
        "from sklearn.model_selection import train_test_split\n",
        "X_train, X_test, y1_train, y1_test = train_test_split(X, y1, test_size = .4, random_state=0)\n",
        "\n",
        "from sklearn.linear_model import LogisticRegression\n",
        "\n",
        "logreg = LogisticRegression()\n",
        "logreg.fit(X_train, y1_train)\n",
        "\n",
        "\n",
        "y1_predicted=logreg.predict(X_test)\n",
        "\n",
        "from sklearn.metrics import confusion_matrix\n",
        "\n",
        "cm1 = confusion_matrix(y1_test, y1_predicted)\n",
        "print(cm)\n",
        "\n",
        "df4=pd.DataFrame({'Actual':y1_test,'Predicted':y1_predicted})\n",
        "print(df4)"
      ],
      "execution_count": 79,
      "outputs": [
        {
          "output_type": "stream",
          "name": "stdout",
          "text": [
            "[[4959    0    0]\n",
            " [   0 5958    0]\n",
            " [   0    0 9007]]\n",
            "       Actual  Predicted\n",
            "0           2          2\n",
            "1           0          0\n",
            "2           2          2\n",
            "3           1          1\n",
            "4           2          2\n",
            "...       ...        ...\n",
            "39842       0          0\n",
            "39843       2          2\n",
            "39844       1          1\n",
            "39845       0          0\n",
            "39846       1          1\n",
            "\n",
            "[39847 rows x 2 columns]\n"
          ]
        }
      ]
    },
    {
      "cell_type": "markdown",
      "metadata": {
        "id": "INsYhcUqZMzr"
      },
      "source": [
        "no difference"
      ]
    },
    {
      "cell_type": "markdown",
      "metadata": {
        "id": "_K2R2l-tdSQJ"
      },
      "source": [
        "using k nearest"
      ]
    },
    {
      "cell_type": "code",
      "metadata": {
        "colab": {
          "base_uri": "https://localhost:8080/"
        },
        "id": "2VxtDK65ZhV6",
        "outputId": "1cb66a44-2cae-466b-a1d6-91975e4030fa"
      },
      "source": [
        "from sklearn.neighbors import KNeighborsClassifier\n",
        "knn = KNeighborsClassifier()\n",
        "knn.fit(X1_train,y_train)\n",
        "accuracy= knn.score(X1_test,y_test)\n",
        "print(accuracy)\n",
        "\n"
      ],
      "execution_count": 80,
      "outputs": [
        {
          "output_type": "stream",
          "name": "stdout",
          "text": [
            "1.0\n"
          ]
        }
      ]
    },
    {
      "cell_type": "code",
      "metadata": {
        "colab": {
          "base_uri": "https://localhost:8080/"
        },
        "id": "bpyd4WY19E7w",
        "outputId": "857dd520-acdc-4dcc-e9d2-39add1a74487"
      },
      "source": [
        "from sklearn import metrics\n",
        "print('Mean Absolute Error:', metrics.mean_absolute_error(y_test, y_predicted))\n",
        "print('Mean Squared Error:', metrics.mean_squared_error(y_test, y_predicted))\n",
        "print('Root Mean Squared Error:', np.sqrt(metrics.mean_squared_error(y_test, y_predicted)))\n",
        "print('R-Squared:', metrics.r2_score(y_test, y_predicted))"
      ],
      "execution_count": 81,
      "outputs": [
        {
          "output_type": "stream",
          "name": "stdout",
          "text": [
            "Mean Absolute Error: 0.0\n",
            "Mean Squared Error: 0.0\n",
            "Root Mean Squared Error: 0.0\n",
            "R-Squared: 1.0\n"
          ]
        }
      ]
    },
    {
      "cell_type": "markdown",
      "metadata": {
        "id": "KgqWSmqRdH5s"
      },
      "source": [
        "the model is perfect, a bit too perfect and overfitted. the values used: tournament,home score and away score do not majorly affect the prediction of the model. Other factors should be put in place."
      ]
    },
    {
      "cell_type": "markdown",
      "metadata": {
        "id": "9L6UhFpJeuGW"
      },
      "source": [
        "#####POLYNOMIAL APPROACH"
      ]
    },
    {
      "cell_type": "code",
      "metadata": {
        "id": "2zmC-VVJ-wmg"
      },
      "source": [
        ""
      ],
      "execution_count": 81,
      "outputs": []
    },
    {
      "cell_type": "markdown",
      "metadata": {
        "id": "KyS5eJkekohG"
      },
      "source": [
        "###### HOW MANY GOALS THE HOME TEAM SCORES"
      ]
    },
    {
      "cell_type": "code",
      "metadata": {
        "colab": {
          "base_uri": "https://localhost:8080/",
          "height": 200
        },
        "id": "ekcuHs59dE90",
        "outputId": "6fb77e23-51fb-40c8-d3ee-e3a3aef37003"
      },
      "source": [
        "dfe.head()"
      ],
      "execution_count": 82,
      "outputs": [
        {
          "output_type": "execute_result",
          "data": {
            "text/html": [
              "<div>\n",
              "<style scoped>\n",
              "    .dataframe tbody tr th:only-of-type {\n",
              "        vertical-align: middle;\n",
              "    }\n",
              "\n",
              "    .dataframe tbody tr th {\n",
              "        vertical-align: top;\n",
              "    }\n",
              "\n",
              "    .dataframe thead th {\n",
              "        text-align: right;\n",
              "    }\n",
              "</style>\n",
              "<table border=\"1\" class=\"dataframe\">\n",
              "  <thead>\n",
              "    <tr style=\"text-align: right;\">\n",
              "      <th></th>\n",
              "      <th>home_rank</th>\n",
              "      <th>year</th>\n",
              "      <th>home_team</th>\n",
              "      <th>away_team</th>\n",
              "      <th>home_score</th>\n",
              "      <th>away_rank</th>\n",
              "      <th>away_score</th>\n",
              "      <th>tournament</th>\n",
              "      <th>home_status</th>\n",
              "    </tr>\n",
              "  </thead>\n",
              "  <tbody>\n",
              "    <tr>\n",
              "      <th>0</th>\n",
              "      <td>3</td>\n",
              "      <td>0</td>\n",
              "      <td>167</td>\n",
              "      <td>168</td>\n",
              "      <td>1</td>\n",
              "      <td>2</td>\n",
              "      <td>2</td>\n",
              "      <td>0</td>\n",
              "      <td>1</td>\n",
              "    </tr>\n",
              "    <tr>\n",
              "      <th>1</th>\n",
              "      <td>3</td>\n",
              "      <td>0</td>\n",
              "      <td>167</td>\n",
              "      <td>168</td>\n",
              "      <td>1</td>\n",
              "      <td>9</td>\n",
              "      <td>1</td>\n",
              "      <td>2</td>\n",
              "      <td>0</td>\n",
              "    </tr>\n",
              "    <tr>\n",
              "      <th>2</th>\n",
              "      <td>3</td>\n",
              "      <td>0</td>\n",
              "      <td>167</td>\n",
              "      <td>168</td>\n",
              "      <td>1</td>\n",
              "      <td>12</td>\n",
              "      <td>0</td>\n",
              "      <td>2</td>\n",
              "      <td>2</td>\n",
              "    </tr>\n",
              "    <tr>\n",
              "      <th>3</th>\n",
              "      <td>27</td>\n",
              "      <td>0</td>\n",
              "      <td>151</td>\n",
              "      <td>168</td>\n",
              "      <td>1</td>\n",
              "      <td>2</td>\n",
              "      <td>2</td>\n",
              "      <td>0</td>\n",
              "      <td>1</td>\n",
              "    </tr>\n",
              "    <tr>\n",
              "      <th>4</th>\n",
              "      <td>27</td>\n",
              "      <td>0</td>\n",
              "      <td>151</td>\n",
              "      <td>168</td>\n",
              "      <td>1</td>\n",
              "      <td>9</td>\n",
              "      <td>1</td>\n",
              "      <td>2</td>\n",
              "      <td>0</td>\n",
              "    </tr>\n",
              "  </tbody>\n",
              "</table>\n",
              "</div>"
            ],
            "text/plain": [
              "   home_rank  year  home_team  ...  away_score  tournament  home_status\n",
              "0          3     0        167  ...           2           0            1\n",
              "1          3     0        167  ...           1           2            0\n",
              "2          3     0        167  ...           0           2            2\n",
              "3         27     0        151  ...           2           0            1\n",
              "4         27     0        151  ...           1           2            0\n",
              "\n",
              "[5 rows x 9 columns]"
            ]
          },
          "metadata": {},
          "execution_count": 82
        }
      ]
    },
    {
      "cell_type": "code",
      "metadata": {
        "colab": {
          "base_uri": "https://localhost:8080/",
          "height": 200
        },
        "id": "ZaDtGcnpk-TC",
        "outputId": "74714813-4c57-4cee-bc05-e78d1dc7bb8e"
      },
      "source": [
        "df2=pd.DataFrame()\n",
        "df2['tournament'],df2['home_score']=dfe['tournament'], dfe['home_score']\n",
        "df2.tail()"
      ],
      "execution_count": 83,
      "outputs": [
        {
          "output_type": "execute_result",
          "data": {
            "text/html": [
              "<div>\n",
              "<style scoped>\n",
              "    .dataframe tbody tr th:only-of-type {\n",
              "        vertical-align: middle;\n",
              "    }\n",
              "\n",
              "    .dataframe tbody tr th {\n",
              "        vertical-align: top;\n",
              "    }\n",
              "\n",
              "    .dataframe thead th {\n",
              "        text-align: right;\n",
              "    }\n",
              "</style>\n",
              "<table border=\"1\" class=\"dataframe\">\n",
              "  <thead>\n",
              "    <tr style=\"text-align: right;\">\n",
              "      <th></th>\n",
              "      <th>tournament</th>\n",
              "      <th>home_score</th>\n",
              "    </tr>\n",
              "  </thead>\n",
              "  <tbody>\n",
              "    <tr>\n",
              "      <th>99612</th>\n",
              "      <td>0</td>\n",
              "      <td>0</td>\n",
              "    </tr>\n",
              "    <tr>\n",
              "      <th>99613</th>\n",
              "      <td>1</td>\n",
              "      <td>3</td>\n",
              "    </tr>\n",
              "    <tr>\n",
              "      <th>99614</th>\n",
              "      <td>0</td>\n",
              "      <td>3</td>\n",
              "    </tr>\n",
              "    <tr>\n",
              "      <th>99615</th>\n",
              "      <td>0</td>\n",
              "      <td>0</td>\n",
              "    </tr>\n",
              "    <tr>\n",
              "      <th>99616</th>\n",
              "      <td>0</td>\n",
              "      <td>0</td>\n",
              "    </tr>\n",
              "  </tbody>\n",
              "</table>\n",
              "</div>"
            ],
            "text/plain": [
              "       tournament  home_score\n",
              "99612           0           0\n",
              "99613           1           3\n",
              "99614           0           3\n",
              "99615           0           0\n",
              "99616           0           0"
            ]
          },
          "metadata": {},
          "execution_count": 83
        }
      ]
    },
    {
      "cell_type": "code",
      "metadata": {
        "colab": {
          "base_uri": "https://localhost:8080/"
        },
        "id": "l1aZJJlMxey7",
        "outputId": "f92916c9-f78a-4a6d-80ed-de8929a5aab3"
      },
      "source": [
        "from sklearn.model_selection import train_test_split\n",
        "\n",
        "X_train, X_test, y_train,y_test = train_test_split(df2['home_score'], df2['tournament'])\n",
        "print(X_train)\n",
        "print(X_test)\n",
        "print(y_train)\n",
        "print(y_test)\n",
        "\n",
        "X_train_df, X_test_df =pd.DataFrame(X_train), pd.DataFrame(X_test)\n",
        "\n",
        "from sklearn.preprocessing import PolynomialFeatures\n",
        "\n",
        "poly = PolynomialFeatures(degree=2)\n",
        "X_train_poly, X_test_poly = poly.fit_transform(X_train_df), poly.fit_transform(X_test_df)\n"
      ],
      "execution_count": 84,
      "outputs": [
        {
          "output_type": "stream",
          "name": "stdout",
          "text": [
            "34517    0\n",
            "93652    2\n",
            "5812     1\n",
            "84115    1\n",
            "78279    1\n",
            "        ..\n",
            "63693    1\n",
            "66840    0\n",
            "94612    1\n",
            "82846    1\n",
            "63391    1\n",
            "Name: home_score, Length: 74712, dtype: int64\n",
            "12769    0\n",
            "63685    0\n",
            "26178    1\n",
            "67095    2\n",
            "31087    0\n",
            "        ..\n",
            "22238    0\n",
            "41189    2\n",
            "1110     0\n",
            "29220    1\n",
            "13325    0\n",
            "Name: home_score, Length: 24905, dtype: int64\n",
            "34517    0\n",
            "93652    1\n",
            "5812     0\n",
            "84115    0\n",
            "78279    0\n",
            "        ..\n",
            "63693    0\n",
            "66840    2\n",
            "94612    2\n",
            "82846    1\n",
            "63391    0\n",
            "Name: tournament, Length: 74712, dtype: int64\n",
            "12769    1\n",
            "63685    0\n",
            "26178    1\n",
            "67095    2\n",
            "31087    0\n",
            "        ..\n",
            "22238    2\n",
            "41189    2\n",
            "1110     2\n",
            "29220    0\n",
            "13325    1\n",
            "Name: tournament, Length: 24905, dtype: int64\n"
          ]
        }
      ]
    },
    {
      "cell_type": "code",
      "metadata": {
        "id": "mPIbAoCJycxr"
      },
      "source": [
        "from sklearn import linear_model\n",
        "\n",
        "model=linear_model.LinearRegression()\n",
        "model=model.fit(X_train_poly, y_train)\n",
        "co = model.coef_\n",
        "intercept=model.intercept_"
      ],
      "execution_count": 85,
      "outputs": []
    },
    {
      "cell_type": "code",
      "metadata": {
        "colab": {
          "base_uri": "https://localhost:8080/",
          "height": 593
        },
        "id": "OO0SD5dh2QLa",
        "outputId": "a13a8f0c-090c-41b1-ae50-6490fc6c971f"
      },
      "source": [
        "x_axis=np.arange(0,10,0.01)\n",
        "#response=intercept+co(1)*x_axis + co(2)*x_axis**2\n",
        "plt.scatter(df2['tournament'], df2['home_score'], color='b',marker='x')\n",
        "plt.show()"
      ],
      "execution_count": 86,
      "outputs": [
        {
          "output_type": "display_data",
          "data": {
            "image/png": "[encoded data removed]",
            "text/plain": [
              "<Figure size 720x720 with 1 Axes>"
            ]
          },
          "metadata": {}
        }
      ]
    },
    {
      "cell_type": "code",
      "metadata": {
        "colab": {
          "base_uri": "https://localhost:8080/"
        },
        "id": "Cc4xc-zF3Bcl",
        "outputId": "30c1d64e-6cbf-4706-affe-6d0edb075f11"
      },
      "source": [
        "from sklearn.metrics import r2_score\n",
        "\n",
        "prediction=model.predict(X_test_poly)\n",
        "r2_score(prediction, y_test)\n"
      ],
      "execution_count": 87,
      "outputs": [
        {
          "output_type": "execute_result",
          "data": {
            "text/plain": [
              "-780.9447924208275"
            ]
          },
          "metadata": {},
          "execution_count": 87
        }
      ]
    },
    {
      "cell_type": "markdown",
      "metadata": {
        "id": "0btm9Brr6ye7"
      },
      "source": [
        "Not a good model. Lets try another one"
      ]
    },
    {
      "cell_type": "code",
      "metadata": {
        "colab": {
          "base_uri": "https://localhost:8080/",
          "height": 200
        },
        "id": "I_fwb-DQ6-22",
        "outputId": "c71c6610-3194-4470-d28c-64f862cd62da"
      },
      "source": [
        "cor=df.corr()\n",
        "pd.DataFrame(np.linalg.inv(cor.values), index = cor.index, columns=cor.columns)"
      ],
      "execution_count": 114,
      "outputs": [
        {
          "output_type": "execute_result",
          "data": {
            "text/html": [
              "<div>\n",
              "<style scoped>\n",
              "    .dataframe tbody tr th:only-of-type {\n",
              "        vertical-align: middle;\n",
              "    }\n",
              "\n",
              "    .dataframe tbody tr th {\n",
              "        vertical-align: top;\n",
              "    }\n",
              "\n",
              "    .dataframe thead th {\n",
              "        text-align: right;\n",
              "    }\n",
              "</style>\n",
              "<table border=\"1\" class=\"dataframe\">\n",
              "  <thead>\n",
              "    <tr style=\"text-align: right;\">\n",
              "      <th></th>\n",
              "      <th>home_rank</th>\n",
              "      <th>year</th>\n",
              "      <th>home_score</th>\n",
              "      <th>away_rank</th>\n",
              "      <th>away_score</th>\n",
              "    </tr>\n",
              "  </thead>\n",
              "  <tbody>\n",
              "    <tr>\n",
              "      <th>home_rank</th>\n",
              "      <td>1.462539</td>\n",
              "      <td>-0.048778</td>\n",
              "      <td>0.472199</td>\n",
              "      <td>-0.786131</td>\n",
              "      <td>-0.098141</td>\n",
              "    </tr>\n",
              "    <tr>\n",
              "      <th>year</th>\n",
              "      <td>-0.048778</td>\n",
              "      <td>1.026697</td>\n",
              "      <td>0.048897</td>\n",
              "      <td>-0.137197</td>\n",
              "      <td>-0.007204</td>\n",
              "    </tr>\n",
              "    <tr>\n",
              "      <th>home_score</th>\n",
              "      <td>0.472199</td>\n",
              "      <td>0.048897</td>\n",
              "      <td>1.212307</td>\n",
              "      <td>-0.498741</td>\n",
              "      <td>0.001549</td>\n",
              "    </tr>\n",
              "    <tr>\n",
              "      <th>away_rank</th>\n",
              "      <td>-0.786131</td>\n",
              "      <td>-0.137197</td>\n",
              "      <td>-0.498741</td>\n",
              "      <td>1.530166</td>\n",
              "      <td>0.220918</td>\n",
              "    </tr>\n",
              "    <tr>\n",
              "      <th>away_score</th>\n",
              "      <td>-0.098141</td>\n",
              "      <td>-0.007204</td>\n",
              "      <td>0.001549</td>\n",
              "      <td>0.220918</td>\n",
              "      <td>1.037201</td>\n",
              "    </tr>\n",
              "  </tbody>\n",
              "</table>\n",
              "</div>"
            ],
            "text/plain": [
              "            home_rank      year  home_score  away_rank  away_score\n",
              "home_rank    1.462539 -0.048778    0.472199  -0.786131   -0.098141\n",
              "year        -0.048778  1.026697    0.048897  -0.137197   -0.007204\n",
              "home_score   0.472199  0.048897    1.212307  -0.498741    0.001549\n",
              "away_rank   -0.786131 -0.137197   -0.498741   1.530166    0.220918\n",
              "away_score  -0.098141 -0.007204    0.001549   0.220918    1.037201"
            ]
          },
          "metadata": {},
          "execution_count": 114
        }
      ]
    },
    {
      "cell_type": "code",
      "metadata": {
        "colab": {
          "base_uri": "https://localhost:8080/"
        },
        "id": "OzPeGvEEBCke",
        "outputId": "5d204334-3fb7-4ea0-ab59-98a508bbfbf0"
      },
      "source": [
        "x=dfe[['home_rank','away_rank']].values\n",
        "y=dfe['home_score'].values\n",
        "\n",
        "print(x.shape)\n",
        "print(y.shape)"
      ],
      "execution_count": 115,
      "outputs": [
        {
          "output_type": "stream",
          "name": "stdout",
          "text": [
            "(99617, 2)\n",
            "(99617,)\n"
          ]
        }
      ]
    },
    {
      "cell_type": "code",
      "metadata": {
        "colab": {
          "base_uri": "https://localhost:8080/"
        },
        "id": "g1a9udtuLbMz",
        "outputId": "abac30d4-3bc2-4501-e5ee-e49d9ee47ff1"
      },
      "source": [
        "dfe['tournament'].unique()"
      ],
      "execution_count": 116,
      "outputs": [
        {
          "output_type": "execute_result",
          "data": {
            "text/plain": [
              "array([0, 2, 1])"
            ]
          },
          "metadata": {},
          "execution_count": 116
        }
      ]
    },
    {
      "cell_type": "code",
      "metadata": {
        "colab": {
          "base_uri": "https://localhost:8080/"
        },
        "id": "IaV_4QlbKOpR",
        "outputId": "1e929377-fa76-4ea9-b09e-e6c47d4a65de"
      },
      "source": [
        "x_train, y_train, x_test, y_test = train_test_split(x,y, test_size = 0.3, random_state=0)\n",
        "\n",
        "poly_reg = PolynomialFeatures(degree = 3)\n",
        "X_poly = poly_reg.fit_transform(X)\n",
        "\n",
        "pol_reg = LinearRegression()\n",
        "pol_reg.fit(X_poly, y)\n",
        "\n",
        "pol_reg.predict(poly_reg.fit_transform([[70,2]]))"
      ],
      "execution_count": 119,
      "outputs": [
        {
          "output_type": "execute_result",
          "data": {
            "text/plain": [
              "array([0.66853453])"
            ]
          },
          "metadata": {},
          "execution_count": 119
        }
      ]
    },
    {
      "cell_type": "code",
      "metadata": {
        "id": "Vz3o4rcjKVKc"
      },
      "source": [
        "#Grid Search\n",
        "from sklearn.tree import DecisionTreeRegressor\n",
        "from sklearn.svm import SVR\n",
        "from sklearn.model_selection import GridSearchCV\n",
        "from sklearn import linear_model\n",
        "from sklearn.linear_model import Lasso\n",
        "from sklearn.preprocessing import StandardScaler\n",
        "\n",
        "# y_train.reshape(1,-1)\n",
        "# regressor = LinearRegression()\n",
        "# regressor.fit(x_train, y_train)\n",
        "# sc = StandardScaler()\n",
        "# x_train = sc.fit_transform(x_train)\n",
        "# x_test = sc.transform(x_test)\n",
        "\n",
        "# alpha = [0.1, 0.4, 0.5, 0.7, 0.9, 1.0]\n",
        "# parameters = dict(alpha = alpha)\n",
        "# grid_search = GridSearchCV(Lasso(), parameters, cv = 3, return_train_score= True)\n",
        "# grid_search.fit(x_train, y_train)\n",
        "# grid_search.best_params_"
      ],
      "execution_count": 125,
      "outputs": []
    },
    {
      "cell_type": "code",
      "metadata": {
        "colab": {
          "base_uri": "https://localhost:8080/"
        },
        "id": "3mcNrmiQXWWc",
        "outputId": "22de20a0-db0c-448f-c777-2dd965585bd2"
      },
      "source": [
        "X2=dfe[['home_rank','away_rank','tournament']]\n",
        "y2=dfe['away_score']\n",
        "X2_train, X2_test, y2_train, y2_test = train_test_split(X2, y2, test_size=0.2, random_state=0)\n",
        "\n",
        "regressor = LinearRegression()\n",
        "regressor.fit(X2_train, y2_train)\n",
        "\n",
        "# This is our prediction for admission based on our model\n",
        "y2_predict = regressor.predict(X2_test)\n",
        "\n",
        "# We now create the residual by substracting the test value from the predicted value \n",
        "residuals = np.subtract(y2_predict, y2_test)\n",
        "\n",
        "# Let's describe our residual:\n",
        "pd.DataFrame(residuals).describe()\n",
        "\n",
        "residuals.mean()"
      ],
      "execution_count": 130,
      "outputs": [
        {
          "output_type": "execute_result",
          "data": {
            "text/plain": [
              "0.005251397372816953"
            ]
          },
          "metadata": {},
          "execution_count": 130
        }
      ]
    },
    {
      "cell_type": "code",
      "metadata": {
        "colab": {
          "base_uri": "https://localhost:8080/",
          "height": 611
        },
        "id": "-XAuzvfWX4t1",
        "outputId": "368d021c-2ed3-4e6a-a71f-736b43af17f3"
      },
      "source": [
        "# Residual plots\n",
        "plt.scatter(y2_predict, residuals, color='red')\n",
        "plt.ylabel('residual')\n",
        "plt.xlabel('fitted values')\n",
        "plt.axhline(y= residuals.mean(), color='maroon', linewidth=1)\n",
        "plt.show()"
      ],
      "execution_count": 134,
      "outputs": [
        {
          "output_type": "display_data",
          "data": {
            "image/png": "[encoded data removed]",
            "text/plain": [
              "<Figure size 720x720 with 1 Axes>"
            ]
          },
          "metadata": {}
        }
      ]
    },
    {
      "cell_type": "code",
      "metadata": {
        "colab": {
          "base_uri": "https://localhost:8080/"
        },
        "id": "-AZCuFhoWnBf",
        "outputId": "e53d9433-805e-4d2d-ab8e-98509622ee53"
      },
      "source": [
        "# Perform a bartlett test of variance \n",
        "import scipy as sp\n",
        "\n",
        "test_result, p_value = sp.stats.bartlett(y_predicted, residuals)\n",
        "\n",
        "# Compute a critical value of the chi squared distribution\n",
        "degree_of_freedom = len(y_predicted)-1\n",
        "probability = 1 - p_value\n",
        "\n",
        "critical_value = sp.stats.chi2.ppf(probability, degree_of_freedom)\n",
        "print(critical_value)\n",
        "\n",
        "if (test_result > critical_value):\n",
        "  print('the variances are not equal and the model should be reassessed')\n",
        "else:\n",
        "  print('the variances are homogeneous')"
      ],
      "execution_count": 136,
      "outputs": [
        {
          "output_type": "stream",
          "name": "stdout",
          "text": [
            "inf\n",
            "the variances are homogeneous\n"
          ]
        }
      ]
    },
    {
      "cell_type": "markdown",
      "metadata": {
        "id": "7JADNIs0Uf_g"
      },
      "source": [
        "#####RECOMMENDATION"
      ]
    },
    {
      "cell_type": "markdown",
      "metadata": {
        "id": "3-3ZhBvXUw71"
      },
      "source": [
        "More categorisation on the tournament column\n",
        "\n",
        "\n",
        "\n",
        "\n"
      ]
    }
  ]
}